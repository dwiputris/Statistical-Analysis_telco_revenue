{
  "cells": [
    {
      "cell_type": "markdown",
      "metadata": {
        "id": "Op64YcLkFsY_"
      },
      "source": [
        "# Which Segment Streams More Revenue?"
      ]
    },
    {
      "cell_type": "markdown",
      "metadata": {
        "id": "lXPQ-KRKFsZB"
      },
      "source": [
        "In this project, a telecommunication operator company is analysing its two lines of service for the revenue they generate. The company wants to know which segment it should focus its marketing resource on. \n",
        "\n",
        "Data of 500 clients are given, on their personal information like name, age, city they live in, and so on, along with the plan they subscribe to. Data on each client's use of service for calls, internet and messages also are given.\n",
        "\n",
        "The goals of this analysis are:\n",
        "1. To understand how each telco plan generates different revenue amount\n",
        "2. To understand how clients in city NY-NJ contributes different revenue amount\n",
        "3. To understand how clients' behavior of each of two plans are different in using call, internet, and message service."
      ]
    },
    {
      "cell_type": "markdown",
      "metadata": {
        "id": "YYEcLDJeFsZE"
      },
      "source": [
        "## Data Pre-processing"
      ]
    },
    {
      "cell_type": "markdown",
      "metadata": {
        "id": "VOdTaEQmFsZF"
      },
      "source": [
        "### Load Data and Import Libraries"
      ]
    },
    {
      "cell_type": "code",
      "execution_count": 3,
      "metadata": {
        "id": "im7xC4ByFsZH"
      },
      "outputs": [],
      "source": [
        "# Import libraries\n",
        "import pandas as pd, numpy as np\n",
        "import matplotlib.pyplot as plt, seaborn as sns\n",
        "from math import factorial\n",
        "from scipy import stats as st"
      ]
    },
    {
      "cell_type": "code",
      "source": [
        "# Connect to google drive\n",
        "from google.colab import drive\n",
        "drive.mount('/content/gdrive')"
      ],
      "metadata": {
        "colab": {
          "base_uri": "https://localhost:8080/"
        },
        "id": "eDFTRPO5GEqu",
        "outputId": "ca4c47c9-efd3-456f-e95d-1e8fe86311b7"
      },
      "execution_count": 1,
      "outputs": [
        {
          "output_type": "stream",
          "name": "stdout",
          "text": [
            "Mounted at /content/gdrive\n"
          ]
        }
      ]
    },
    {
      "cell_type": "code",
      "execution_count": 4,
      "metadata": {
        "id": "sFnhyWdgFsZJ"
      },
      "outputs": [],
      "source": [
        "# Load all datasets\n",
        "users = pd.read_csv('/content/gdrive/MyDrive/data_projects/megaline_users.csv')\n",
        "calls = pd.read_csv('/content/gdrive/MyDrive/data_projects/megaline_calls.csv')\n",
        "internet = pd.read_csv('/content/gdrive/MyDrive/data_projects/megaline_internet.csv')\n",
        "messages = pd.read_csv('/content/gdrive/MyDrive/data_projects/megaline_messages.csv')\n",
        "plans = pd.read_csv('/content/gdrive/MyDrive/data_projects/megaline_plans.csv')"
      ]
    },
    {
      "cell_type": "code",
      "execution_count": null,
      "metadata": {
        "scrolled": false,
        "id": "G0K8cxqtFsZK",
        "outputId": "89fb637f-0c7e-4bff-f719-770ed856ae54"
      },
      "outputs": [
        {
          "name": "stdout",
          "output_type": "stream",
          "text": [
            "<class 'pandas.core.frame.DataFrame'>\n",
            "RangeIndex: 500 entries, 0 to 499\n",
            "Data columns (total 8 columns):\n",
            " #   Column      Non-Null Count  Dtype \n",
            "---  ------      --------------  ----- \n",
            " 0   user_id     500 non-null    int64 \n",
            " 1   first_name  500 non-null    object\n",
            " 2   last_name   500 non-null    object\n",
            " 3   age         500 non-null    int64 \n",
            " 4   city        500 non-null    object\n",
            " 5   reg_date    500 non-null    object\n",
            " 6   plan        500 non-null    object\n",
            " 7   churn_date  34 non-null     object\n",
            "dtypes: int64(2), object(6)\n",
            "memory usage: 31.4+ KB\n"
          ]
        }
      ],
      "source": [
        "# Load general info for users\n",
        "users.info()"
      ]
    },
    {
      "cell_type": "markdown",
      "metadata": {
        "id": "TcxF39TfFsZM"
      },
      "source": [
        "### Data Quality Checking"
      ]
    },
    {
      "cell_type": "code",
      "execution_count": null,
      "metadata": {
        "scrolled": false,
        "id": "pB4FZq5gFsZO",
        "outputId": "4d13d183-467d-4c33-c01a-93f17be41876"
      },
      "outputs": [
        {
          "data": {
            "text/html": [
              "<div>\n",
              "<style scoped>\n",
              "    .dataframe tbody tr th:only-of-type {\n",
              "        vertical-align: middle;\n",
              "    }\n",
              "\n",
              "    .dataframe tbody tr th {\n",
              "        vertical-align: top;\n",
              "    }\n",
              "\n",
              "    .dataframe thead th {\n",
              "        text-align: right;\n",
              "    }\n",
              "</style>\n",
              "<table border=\"1\" class=\"dataframe\">\n",
              "  <thead>\n",
              "    <tr style=\"text-align: right;\">\n",
              "      <th></th>\n",
              "      <th>user_id</th>\n",
              "      <th>first_name</th>\n",
              "      <th>last_name</th>\n",
              "      <th>age</th>\n",
              "      <th>city</th>\n",
              "      <th>reg_date</th>\n",
              "      <th>plan</th>\n",
              "      <th>churn_date</th>\n",
              "    </tr>\n",
              "  </thead>\n",
              "  <tbody>\n",
              "    <tr>\n",
              "      <th>0</th>\n",
              "      <td>1000</td>\n",
              "      <td>Anamaria</td>\n",
              "      <td>Bauer</td>\n",
              "      <td>45</td>\n",
              "      <td>Atlanta-Sandy Springs-Roswell, GA MSA</td>\n",
              "      <td>2018-12-24</td>\n",
              "      <td>ultimate</td>\n",
              "      <td>NaN</td>\n",
              "    </tr>\n",
              "    <tr>\n",
              "      <th>1</th>\n",
              "      <td>1001</td>\n",
              "      <td>Mickey</td>\n",
              "      <td>Wilkerson</td>\n",
              "      <td>28</td>\n",
              "      <td>Seattle-Tacoma-Bellevue, WA MSA</td>\n",
              "      <td>2018-08-13</td>\n",
              "      <td>surf</td>\n",
              "      <td>NaN</td>\n",
              "    </tr>\n",
              "    <tr>\n",
              "      <th>2</th>\n",
              "      <td>1002</td>\n",
              "      <td>Carlee</td>\n",
              "      <td>Hoffman</td>\n",
              "      <td>36</td>\n",
              "      <td>Las Vegas-Henderson-Paradise, NV MSA</td>\n",
              "      <td>2018-10-21</td>\n",
              "      <td>surf</td>\n",
              "      <td>NaN</td>\n",
              "    </tr>\n",
              "    <tr>\n",
              "      <th>3</th>\n",
              "      <td>1003</td>\n",
              "      <td>Reynaldo</td>\n",
              "      <td>Jenkins</td>\n",
              "      <td>52</td>\n",
              "      <td>Tulsa, OK MSA</td>\n",
              "      <td>2018-01-28</td>\n",
              "      <td>surf</td>\n",
              "      <td>NaN</td>\n",
              "    </tr>\n",
              "    <tr>\n",
              "      <th>4</th>\n",
              "      <td>1004</td>\n",
              "      <td>Leonila</td>\n",
              "      <td>Thompson</td>\n",
              "      <td>40</td>\n",
              "      <td>Seattle-Tacoma-Bellevue, WA MSA</td>\n",
              "      <td>2018-05-23</td>\n",
              "      <td>surf</td>\n",
              "      <td>NaN</td>\n",
              "    </tr>\n",
              "  </tbody>\n",
              "</table>\n",
              "</div>"
            ],
            "text/plain": [
              "   user_id first_name  last_name  age                                   city  \\\n",
              "0     1000   Anamaria      Bauer   45  Atlanta-Sandy Springs-Roswell, GA MSA   \n",
              "1     1001     Mickey  Wilkerson   28        Seattle-Tacoma-Bellevue, WA MSA   \n",
              "2     1002     Carlee    Hoffman   36   Las Vegas-Henderson-Paradise, NV MSA   \n",
              "3     1003   Reynaldo    Jenkins   52                          Tulsa, OK MSA   \n",
              "4     1004    Leonila   Thompson   40        Seattle-Tacoma-Bellevue, WA MSA   \n",
              "\n",
              "     reg_date      plan churn_date  \n",
              "0  2018-12-24  ultimate        NaN  \n",
              "1  2018-08-13      surf        NaN  \n",
              "2  2018-10-21      surf        NaN  \n",
              "3  2018-01-28      surf        NaN  \n",
              "4  2018-05-23      surf        NaN  "
            ]
          },
          "execution_count": 4,
          "metadata": {},
          "output_type": "execute_result"
        }
      ],
      "source": [
        "# Load data sample for users\n",
        "users.head()"
      ]
    },
    {
      "cell_type": "code",
      "execution_count": null,
      "metadata": {
        "id": "XuL5d9BZFsZR"
      },
      "outputs": [],
      "source": [
        "# Change data type\n",
        "users['reg_date'] = pd.to_datetime(users['reg_date'], format='%Y-%m-%d')\n",
        "users['churn_date'] = pd.to_datetime(users['churn_date'], format='%Y-%m-%d')"
      ]
    },
    {
      "cell_type": "code",
      "execution_count": null,
      "metadata": {
        "scrolled": true,
        "id": "KD9pBOcjFsZS",
        "outputId": "37f7529a-3049-4af2-d4d1-c7ec073a46ad"
      },
      "outputs": [
        {
          "name": "stdout",
          "output_type": "stream",
          "text": [
            "<class 'pandas.core.frame.DataFrame'>\n",
            "RangeIndex: 500 entries, 0 to 499\n",
            "Data columns (total 8 columns):\n",
            " #   Column      Non-Null Count  Dtype         \n",
            "---  ------      --------------  -----         \n",
            " 0   user_id     500 non-null    int64         \n",
            " 1   first_name  500 non-null    object        \n",
            " 2   last_name   500 non-null    object        \n",
            " 3   age         500 non-null    int64         \n",
            " 4   city        500 non-null    object        \n",
            " 5   reg_date    500 non-null    datetime64[ns]\n",
            " 6   plan        500 non-null    object        \n",
            " 7   churn_date  34 non-null     datetime64[ns]\n",
            "dtypes: datetime64[ns](2), int64(2), object(4)\n",
            "memory usage: 31.4+ KB\n"
          ]
        }
      ],
      "source": [
        "# Re-check general info\n",
        "users.info()"
      ]
    },
    {
      "cell_type": "code",
      "execution_count": null,
      "metadata": {
        "id": "AOIMY-lzFsZU",
        "outputId": "eb571177-60cb-441e-d46b-ff1d57b30c13"
      },
      "outputs": [
        {
          "name": "stdout",
          "output_type": "stream",
          "text": [
            "<class 'pandas.core.frame.DataFrame'>\n",
            "RangeIndex: 137735 entries, 0 to 137734\n",
            "Data columns (total 4 columns):\n",
            " #   Column     Non-Null Count   Dtype  \n",
            "---  ------     --------------   -----  \n",
            " 0   id         137735 non-null  object \n",
            " 1   user_id    137735 non-null  int64  \n",
            " 2   call_date  137735 non-null  object \n",
            " 3   duration   137735 non-null  float64\n",
            "dtypes: float64(1), int64(1), object(2)\n",
            "memory usage: 4.2+ MB\n"
          ]
        }
      ],
      "source": [
        "# Load general info for calls\n",
        "calls.info()"
      ]
    },
    {
      "cell_type": "code",
      "execution_count": null,
      "metadata": {
        "scrolled": true,
        "id": "Lsj0lgIJFsZV",
        "outputId": "665894f3-66cc-4a25-8e8d-18f7cbda804d"
      },
      "outputs": [
        {
          "data": {
            "text/html": [
              "<div>\n",
              "<style scoped>\n",
              "    .dataframe tbody tr th:only-of-type {\n",
              "        vertical-align: middle;\n",
              "    }\n",
              "\n",
              "    .dataframe tbody tr th {\n",
              "        vertical-align: top;\n",
              "    }\n",
              "\n",
              "    .dataframe thead th {\n",
              "        text-align: right;\n",
              "    }\n",
              "</style>\n",
              "<table border=\"1\" class=\"dataframe\">\n",
              "  <thead>\n",
              "    <tr style=\"text-align: right;\">\n",
              "      <th></th>\n",
              "      <th>id</th>\n",
              "      <th>user_id</th>\n",
              "      <th>call_date</th>\n",
              "      <th>duration</th>\n",
              "    </tr>\n",
              "  </thead>\n",
              "  <tbody>\n",
              "    <tr>\n",
              "      <th>0</th>\n",
              "      <td>1000_93</td>\n",
              "      <td>1000</td>\n",
              "      <td>2018-12-27</td>\n",
              "      <td>8.52</td>\n",
              "    </tr>\n",
              "    <tr>\n",
              "      <th>1</th>\n",
              "      <td>1000_145</td>\n",
              "      <td>1000</td>\n",
              "      <td>2018-12-27</td>\n",
              "      <td>13.66</td>\n",
              "    </tr>\n",
              "    <tr>\n",
              "      <th>2</th>\n",
              "      <td>1000_247</td>\n",
              "      <td>1000</td>\n",
              "      <td>2018-12-27</td>\n",
              "      <td>14.48</td>\n",
              "    </tr>\n",
              "    <tr>\n",
              "      <th>3</th>\n",
              "      <td>1000_309</td>\n",
              "      <td>1000</td>\n",
              "      <td>2018-12-28</td>\n",
              "      <td>5.76</td>\n",
              "    </tr>\n",
              "    <tr>\n",
              "      <th>4</th>\n",
              "      <td>1000_380</td>\n",
              "      <td>1000</td>\n",
              "      <td>2018-12-30</td>\n",
              "      <td>4.22</td>\n",
              "    </tr>\n",
              "  </tbody>\n",
              "</table>\n",
              "</div>"
            ],
            "text/plain": [
              "         id  user_id   call_date  duration\n",
              "0   1000_93     1000  2018-12-27      8.52\n",
              "1  1000_145     1000  2018-12-27     13.66\n",
              "2  1000_247     1000  2018-12-27     14.48\n",
              "3  1000_309     1000  2018-12-28      5.76\n",
              "4  1000_380     1000  2018-12-30      4.22"
            ]
          },
          "execution_count": 8,
          "metadata": {},
          "output_type": "execute_result"
        }
      ],
      "source": [
        "# Load data sample for calls\n",
        "calls.head()"
      ]
    },
    {
      "cell_type": "code",
      "execution_count": null,
      "metadata": {
        "id": "0WUU8ZTVFsZX",
        "outputId": "fd3931c9-5c5a-41b2-e4fc-d2c1873cc448"
      },
      "outputs": [
        {
          "data": {
            "text/html": [
              "<div>\n",
              "<style scoped>\n",
              "    .dataframe tbody tr th:only-of-type {\n",
              "        vertical-align: middle;\n",
              "    }\n",
              "\n",
              "    .dataframe tbody tr th {\n",
              "        vertical-align: top;\n",
              "    }\n",
              "\n",
              "    .dataframe thead th {\n",
              "        text-align: right;\n",
              "    }\n",
              "</style>\n",
              "<table border=\"1\" class=\"dataframe\">\n",
              "  <thead>\n",
              "    <tr style=\"text-align: right;\">\n",
              "      <th></th>\n",
              "      <th>user_id</th>\n",
              "      <th>duration</th>\n",
              "    </tr>\n",
              "  </thead>\n",
              "  <tbody>\n",
              "    <tr>\n",
              "      <th>count</th>\n",
              "      <td>137735.000000</td>\n",
              "      <td>137735.000000</td>\n",
              "    </tr>\n",
              "    <tr>\n",
              "      <th>mean</th>\n",
              "      <td>1247.658046</td>\n",
              "      <td>6.745927</td>\n",
              "    </tr>\n",
              "    <tr>\n",
              "      <th>std</th>\n",
              "      <td>139.416268</td>\n",
              "      <td>5.839241</td>\n",
              "    </tr>\n",
              "    <tr>\n",
              "      <th>min</th>\n",
              "      <td>1000.000000</td>\n",
              "      <td>0.000000</td>\n",
              "    </tr>\n",
              "    <tr>\n",
              "      <th>25%</th>\n",
              "      <td>1128.000000</td>\n",
              "      <td>1.290000</td>\n",
              "    </tr>\n",
              "    <tr>\n",
              "      <th>50%</th>\n",
              "      <td>1247.000000</td>\n",
              "      <td>5.980000</td>\n",
              "    </tr>\n",
              "    <tr>\n",
              "      <th>75%</th>\n",
              "      <td>1365.000000</td>\n",
              "      <td>10.690000</td>\n",
              "    </tr>\n",
              "    <tr>\n",
              "      <th>max</th>\n",
              "      <td>1499.000000</td>\n",
              "      <td>37.600000</td>\n",
              "    </tr>\n",
              "  </tbody>\n",
              "</table>\n",
              "</div>"
            ],
            "text/plain": [
              "             user_id       duration\n",
              "count  137735.000000  137735.000000\n",
              "mean     1247.658046       6.745927\n",
              "std       139.416268       5.839241\n",
              "min      1000.000000       0.000000\n",
              "25%      1128.000000       1.290000\n",
              "50%      1247.000000       5.980000\n",
              "75%      1365.000000      10.690000\n",
              "max      1499.000000      37.600000"
            ]
          },
          "execution_count": 9,
          "metadata": {},
          "output_type": "execute_result"
        }
      ],
      "source": [
        "# Load statistical description\n",
        "calls.describe()"
      ]
    },
    {
      "cell_type": "code",
      "execution_count": null,
      "metadata": {
        "id": "M0AagG6-FsZY"
      },
      "outputs": [],
      "source": [
        "# Change data type\n",
        "calls['call_date'] = pd.to_datetime(calls['call_date'], format='%Y-%m-%d')"
      ]
    },
    {
      "cell_type": "code",
      "execution_count": null,
      "metadata": {
        "id": "wFBEf4LZFsZZ",
        "outputId": "01902650-ec50-449f-8b07-124a52977c1b"
      },
      "outputs": [
        {
          "name": "stdout",
          "output_type": "stream",
          "text": [
            "<class 'pandas.core.frame.DataFrame'>\n",
            "RangeIndex: 137735 entries, 0 to 137734\n",
            "Data columns (total 4 columns):\n",
            " #   Column     Non-Null Count   Dtype         \n",
            "---  ------     --------------   -----         \n",
            " 0   id         137735 non-null  object        \n",
            " 1   user_id    137735 non-null  int64         \n",
            " 2   call_date  137735 non-null  datetime64[ns]\n",
            " 3   duration   137735 non-null  float64       \n",
            "dtypes: datetime64[ns](1), float64(1), int64(1), object(1)\n",
            "memory usage: 4.2+ MB\n"
          ]
        }
      ],
      "source": [
        "# Re-check general info\n",
        "calls.info()"
      ]
    },
    {
      "cell_type": "code",
      "execution_count": null,
      "metadata": {
        "scrolled": true,
        "id": "PzFhajNQFsZa",
        "outputId": "ec0bfa84-b01e-474c-999f-d3f67c1768a7"
      },
      "outputs": [
        {
          "name": "stdout",
          "output_type": "stream",
          "text": [
            "<class 'pandas.core.frame.DataFrame'>\n",
            "RangeIndex: 104825 entries, 0 to 104824\n",
            "Data columns (total 4 columns):\n",
            " #   Column        Non-Null Count   Dtype  \n",
            "---  ------        --------------   -----  \n",
            " 0   id            104825 non-null  object \n",
            " 1   user_id       104825 non-null  int64  \n",
            " 2   session_date  104825 non-null  object \n",
            " 3   mb_used       104825 non-null  float64\n",
            "dtypes: float64(1), int64(1), object(2)\n",
            "memory usage: 3.2+ MB\n"
          ]
        }
      ],
      "source": [
        "# Load general info for internet\n",
        "internet.info()"
      ]
    },
    {
      "cell_type": "code",
      "execution_count": null,
      "metadata": {
        "id": "B_e0rhSpFsZb",
        "outputId": "3ad61f56-cd9c-4f8f-87b5-d4254a62820c"
      },
      "outputs": [
        {
          "data": {
            "text/html": [
              "<div>\n",
              "<style scoped>\n",
              "    .dataframe tbody tr th:only-of-type {\n",
              "        vertical-align: middle;\n",
              "    }\n",
              "\n",
              "    .dataframe tbody tr th {\n",
              "        vertical-align: top;\n",
              "    }\n",
              "\n",
              "    .dataframe thead th {\n",
              "        text-align: right;\n",
              "    }\n",
              "</style>\n",
              "<table border=\"1\" class=\"dataframe\">\n",
              "  <thead>\n",
              "    <tr style=\"text-align: right;\">\n",
              "      <th></th>\n",
              "      <th>id</th>\n",
              "      <th>user_id</th>\n",
              "      <th>session_date</th>\n",
              "      <th>mb_used</th>\n",
              "    </tr>\n",
              "  </thead>\n",
              "  <tbody>\n",
              "    <tr>\n",
              "      <th>0</th>\n",
              "      <td>1000_13</td>\n",
              "      <td>1000</td>\n",
              "      <td>2018-12-29</td>\n",
              "      <td>89.86</td>\n",
              "    </tr>\n",
              "    <tr>\n",
              "      <th>1</th>\n",
              "      <td>1000_204</td>\n",
              "      <td>1000</td>\n",
              "      <td>2018-12-31</td>\n",
              "      <td>0.00</td>\n",
              "    </tr>\n",
              "    <tr>\n",
              "      <th>2</th>\n",
              "      <td>1000_379</td>\n",
              "      <td>1000</td>\n",
              "      <td>2018-12-28</td>\n",
              "      <td>660.40</td>\n",
              "    </tr>\n",
              "    <tr>\n",
              "      <th>3</th>\n",
              "      <td>1000_413</td>\n",
              "      <td>1000</td>\n",
              "      <td>2018-12-26</td>\n",
              "      <td>270.99</td>\n",
              "    </tr>\n",
              "    <tr>\n",
              "      <th>4</th>\n",
              "      <td>1000_442</td>\n",
              "      <td>1000</td>\n",
              "      <td>2018-12-27</td>\n",
              "      <td>880.22</td>\n",
              "    </tr>\n",
              "  </tbody>\n",
              "</table>\n",
              "</div>"
            ],
            "text/plain": [
              "         id  user_id session_date  mb_used\n",
              "0   1000_13     1000   2018-12-29    89.86\n",
              "1  1000_204     1000   2018-12-31     0.00\n",
              "2  1000_379     1000   2018-12-28   660.40\n",
              "3  1000_413     1000   2018-12-26   270.99\n",
              "4  1000_442     1000   2018-12-27   880.22"
            ]
          },
          "execution_count": 13,
          "metadata": {},
          "output_type": "execute_result"
        }
      ],
      "source": [
        "# Load data sample for internet\n",
        "internet.head()"
      ]
    },
    {
      "cell_type": "code",
      "execution_count": null,
      "metadata": {
        "scrolled": true,
        "id": "ZyQr0oWHFsZc",
        "outputId": "ffdcb466-0f09-4633-da4b-a2895ec53406"
      },
      "outputs": [
        {
          "data": {
            "text/html": [
              "<div>\n",
              "<style scoped>\n",
              "    .dataframe tbody tr th:only-of-type {\n",
              "        vertical-align: middle;\n",
              "    }\n",
              "\n",
              "    .dataframe tbody tr th {\n",
              "        vertical-align: top;\n",
              "    }\n",
              "\n",
              "    .dataframe thead th {\n",
              "        text-align: right;\n",
              "    }\n",
              "</style>\n",
              "<table border=\"1\" class=\"dataframe\">\n",
              "  <thead>\n",
              "    <tr style=\"text-align: right;\">\n",
              "      <th></th>\n",
              "      <th>user_id</th>\n",
              "      <th>mb_used</th>\n",
              "    </tr>\n",
              "  </thead>\n",
              "  <tbody>\n",
              "    <tr>\n",
              "      <th>count</th>\n",
              "      <td>104825.000000</td>\n",
              "      <td>104825.000000</td>\n",
              "    </tr>\n",
              "    <tr>\n",
              "      <th>mean</th>\n",
              "      <td>1242.496361</td>\n",
              "      <td>366.713701</td>\n",
              "    </tr>\n",
              "    <tr>\n",
              "      <th>std</th>\n",
              "      <td>142.053913</td>\n",
              "      <td>277.170542</td>\n",
              "    </tr>\n",
              "    <tr>\n",
              "      <th>min</th>\n",
              "      <td>1000.000000</td>\n",
              "      <td>0.000000</td>\n",
              "    </tr>\n",
              "    <tr>\n",
              "      <th>25%</th>\n",
              "      <td>1122.000000</td>\n",
              "      <td>136.080000</td>\n",
              "    </tr>\n",
              "    <tr>\n",
              "      <th>50%</th>\n",
              "      <td>1236.000000</td>\n",
              "      <td>343.980000</td>\n",
              "    </tr>\n",
              "    <tr>\n",
              "      <th>75%</th>\n",
              "      <td>1367.000000</td>\n",
              "      <td>554.610000</td>\n",
              "    </tr>\n",
              "    <tr>\n",
              "      <th>max</th>\n",
              "      <td>1499.000000</td>\n",
              "      <td>1693.470000</td>\n",
              "    </tr>\n",
              "  </tbody>\n",
              "</table>\n",
              "</div>"
            ],
            "text/plain": [
              "             user_id        mb_used\n",
              "count  104825.000000  104825.000000\n",
              "mean     1242.496361     366.713701\n",
              "std       142.053913     277.170542\n",
              "min      1000.000000       0.000000\n",
              "25%      1122.000000     136.080000\n",
              "50%      1236.000000     343.980000\n",
              "75%      1367.000000     554.610000\n",
              "max      1499.000000    1693.470000"
            ]
          },
          "execution_count": 14,
          "metadata": {},
          "output_type": "execute_result"
        }
      ],
      "source": [
        "# Load statistical description\n",
        "internet.describe()"
      ]
    },
    {
      "cell_type": "code",
      "execution_count": null,
      "metadata": {
        "id": "8O87fjJ2FsZd"
      },
      "outputs": [],
      "source": [
        "# Change data type\n",
        "internet['session_date'] = pd.to_datetime(calls['call_date'], format='%Y-%m-%d')"
      ]
    },
    {
      "cell_type": "code",
      "execution_count": null,
      "metadata": {
        "id": "gGmkrAysFsZe",
        "outputId": "a0dd3060-ddeb-46fb-bcfa-1638d6382f9c"
      },
      "outputs": [
        {
          "name": "stdout",
          "output_type": "stream",
          "text": [
            "<class 'pandas.core.frame.DataFrame'>\n",
            "RangeIndex: 104825 entries, 0 to 104824\n",
            "Data columns (total 4 columns):\n",
            " #   Column        Non-Null Count   Dtype         \n",
            "---  ------        --------------   -----         \n",
            " 0   id            104825 non-null  object        \n",
            " 1   user_id       104825 non-null  int64         \n",
            " 2   session_date  104825 non-null  datetime64[ns]\n",
            " 3   mb_used       104825 non-null  float64       \n",
            "dtypes: datetime64[ns](1), float64(1), int64(1), object(1)\n",
            "memory usage: 3.2+ MB\n"
          ]
        }
      ],
      "source": [
        "# Re-check general info\n",
        "internet.info()"
      ]
    },
    {
      "cell_type": "code",
      "execution_count": null,
      "metadata": {
        "scrolled": true,
        "id": "cf8tkdejFsZg",
        "outputId": "59190f60-2f96-4151-b327-477cc5b03570"
      },
      "outputs": [
        {
          "name": "stdout",
          "output_type": "stream",
          "text": [
            "<class 'pandas.core.frame.DataFrame'>\n",
            "RangeIndex: 76051 entries, 0 to 76050\n",
            "Data columns (total 3 columns):\n",
            " #   Column        Non-Null Count  Dtype \n",
            "---  ------        --------------  ----- \n",
            " 0   id            76051 non-null  object\n",
            " 1   user_id       76051 non-null  int64 \n",
            " 2   message_date  76051 non-null  object\n",
            "dtypes: int64(1), object(2)\n",
            "memory usage: 1.7+ MB\n"
          ]
        }
      ],
      "source": [
        "# Load general info for messages\n",
        "messages.info()"
      ]
    },
    {
      "cell_type": "code",
      "execution_count": null,
      "metadata": {
        "id": "9bezPusSFsZh",
        "outputId": "8cad8b10-c486-41fa-fae4-adcce7933bc7"
      },
      "outputs": [
        {
          "data": {
            "text/html": [
              "<div>\n",
              "<style scoped>\n",
              "    .dataframe tbody tr th:only-of-type {\n",
              "        vertical-align: middle;\n",
              "    }\n",
              "\n",
              "    .dataframe tbody tr th {\n",
              "        vertical-align: top;\n",
              "    }\n",
              "\n",
              "    .dataframe thead th {\n",
              "        text-align: right;\n",
              "    }\n",
              "</style>\n",
              "<table border=\"1\" class=\"dataframe\">\n",
              "  <thead>\n",
              "    <tr style=\"text-align: right;\">\n",
              "      <th></th>\n",
              "      <th>id</th>\n",
              "      <th>user_id</th>\n",
              "      <th>message_date</th>\n",
              "    </tr>\n",
              "  </thead>\n",
              "  <tbody>\n",
              "    <tr>\n",
              "      <th>0</th>\n",
              "      <td>1000_125</td>\n",
              "      <td>1000</td>\n",
              "      <td>2018-12-27</td>\n",
              "    </tr>\n",
              "    <tr>\n",
              "      <th>1</th>\n",
              "      <td>1000_160</td>\n",
              "      <td>1000</td>\n",
              "      <td>2018-12-31</td>\n",
              "    </tr>\n",
              "    <tr>\n",
              "      <th>2</th>\n",
              "      <td>1000_223</td>\n",
              "      <td>1000</td>\n",
              "      <td>2018-12-31</td>\n",
              "    </tr>\n",
              "    <tr>\n",
              "      <th>3</th>\n",
              "      <td>1000_251</td>\n",
              "      <td>1000</td>\n",
              "      <td>2018-12-27</td>\n",
              "    </tr>\n",
              "    <tr>\n",
              "      <th>4</th>\n",
              "      <td>1000_255</td>\n",
              "      <td>1000</td>\n",
              "      <td>2018-12-26</td>\n",
              "    </tr>\n",
              "  </tbody>\n",
              "</table>\n",
              "</div>"
            ],
            "text/plain": [
              "         id  user_id message_date\n",
              "0  1000_125     1000   2018-12-27\n",
              "1  1000_160     1000   2018-12-31\n",
              "2  1000_223     1000   2018-12-31\n",
              "3  1000_251     1000   2018-12-27\n",
              "4  1000_255     1000   2018-12-26"
            ]
          },
          "execution_count": 18,
          "metadata": {},
          "output_type": "execute_result"
        }
      ],
      "source": [
        "# Load data sample for internet\n",
        "messages.head()"
      ]
    },
    {
      "cell_type": "code",
      "execution_count": null,
      "metadata": {
        "id": "_SOjdNL4FsZi"
      },
      "outputs": [],
      "source": [
        "# Change data type\n",
        "messages['message_date'] = pd.to_datetime(messages['message_date'], format='%Y-%m-%d')"
      ]
    },
    {
      "cell_type": "code",
      "execution_count": null,
      "metadata": {
        "id": "bux0Aa8jFsZj",
        "outputId": "bea90583-125c-444c-874d-bfccfbff15e8"
      },
      "outputs": [
        {
          "name": "stdout",
          "output_type": "stream",
          "text": [
            "<class 'pandas.core.frame.DataFrame'>\n",
            "RangeIndex: 76051 entries, 0 to 76050\n",
            "Data columns (total 3 columns):\n",
            " #   Column        Non-Null Count  Dtype         \n",
            "---  ------        --------------  -----         \n",
            " 0   id            76051 non-null  object        \n",
            " 1   user_id       76051 non-null  int64         \n",
            " 2   message_date  76051 non-null  datetime64[ns]\n",
            "dtypes: datetime64[ns](1), int64(1), object(1)\n",
            "memory usage: 1.7+ MB\n"
          ]
        }
      ],
      "source": [
        "# Re-check general info\n",
        "messages.info()"
      ]
    },
    {
      "cell_type": "code",
      "execution_count": null,
      "metadata": {
        "id": "djYl7UNXFsZl",
        "outputId": "0ab447ef-3649-4d1e-d2bc-20791c1c7372"
      },
      "outputs": [
        {
          "name": "stdout",
          "output_type": "stream",
          "text": [
            "<class 'pandas.core.frame.DataFrame'>\n",
            "RangeIndex: 2 entries, 0 to 1\n",
            "Data columns (total 8 columns):\n",
            " #   Column                 Non-Null Count  Dtype  \n",
            "---  ------                 --------------  -----  \n",
            " 0   messages_included      2 non-null      int64  \n",
            " 1   mb_per_month_included  2 non-null      int64  \n",
            " 2   minutes_included       2 non-null      int64  \n",
            " 3   usd_monthly_pay        2 non-null      int64  \n",
            " 4   usd_per_gb             2 non-null      int64  \n",
            " 5   usd_per_message        2 non-null      float64\n",
            " 6   usd_per_minute         2 non-null      float64\n",
            " 7   plan_name              2 non-null      object \n",
            "dtypes: float64(2), int64(5), object(1)\n",
            "memory usage: 256.0+ bytes\n"
          ]
        }
      ],
      "source": [
        "# Load general info for plans\n",
        "plans.info()"
      ]
    },
    {
      "cell_type": "code",
      "execution_count": null,
      "metadata": {
        "id": "iHMyOoMuFsZm",
        "outputId": "7fc81480-f3d6-4ed5-a550-70dc10a184bb"
      },
      "outputs": [
        {
          "data": {
            "text/html": [
              "<div>\n",
              "<style scoped>\n",
              "    .dataframe tbody tr th:only-of-type {\n",
              "        vertical-align: middle;\n",
              "    }\n",
              "\n",
              "    .dataframe tbody tr th {\n",
              "        vertical-align: top;\n",
              "    }\n",
              "\n",
              "    .dataframe thead th {\n",
              "        text-align: right;\n",
              "    }\n",
              "</style>\n",
              "<table border=\"1\" class=\"dataframe\">\n",
              "  <thead>\n",
              "    <tr style=\"text-align: right;\">\n",
              "      <th></th>\n",
              "      <th>messages_included</th>\n",
              "      <th>mb_per_month_included</th>\n",
              "      <th>minutes_included</th>\n",
              "      <th>usd_monthly_pay</th>\n",
              "      <th>usd_per_gb</th>\n",
              "      <th>usd_per_message</th>\n",
              "      <th>usd_per_minute</th>\n",
              "      <th>plan_name</th>\n",
              "    </tr>\n",
              "  </thead>\n",
              "  <tbody>\n",
              "    <tr>\n",
              "      <th>0</th>\n",
              "      <td>50</td>\n",
              "      <td>15360</td>\n",
              "      <td>500</td>\n",
              "      <td>20</td>\n",
              "      <td>10</td>\n",
              "      <td>0.03</td>\n",
              "      <td>0.03</td>\n",
              "      <td>surf</td>\n",
              "    </tr>\n",
              "    <tr>\n",
              "      <th>1</th>\n",
              "      <td>1000</td>\n",
              "      <td>30720</td>\n",
              "      <td>3000</td>\n",
              "      <td>70</td>\n",
              "      <td>7</td>\n",
              "      <td>0.01</td>\n",
              "      <td>0.01</td>\n",
              "      <td>ultimate</td>\n",
              "    </tr>\n",
              "  </tbody>\n",
              "</table>\n",
              "</div>"
            ],
            "text/plain": [
              "   messages_included  mb_per_month_included  minutes_included  \\\n",
              "0                 50                  15360               500   \n",
              "1               1000                  30720              3000   \n",
              "\n",
              "   usd_monthly_pay  usd_per_gb  usd_per_message  usd_per_minute plan_name  \n",
              "0               20          10             0.03            0.03      surf  \n",
              "1               70           7             0.01            0.01  ultimate  "
            ]
          },
          "execution_count": 22,
          "metadata": {},
          "output_type": "execute_result"
        }
      ],
      "source": [
        "# Load data sample for plans\n",
        "plans.head()"
      ]
    },
    {
      "cell_type": "code",
      "execution_count": null,
      "metadata": {
        "id": "8RDv6-RAFsZo",
        "outputId": "e7f9a15f-e186-48bb-f6f2-7c6b6589e119"
      },
      "outputs": [
        {
          "data": {
            "text/plain": [
              "0"
            ]
          },
          "execution_count": 23,
          "metadata": {},
          "output_type": "execute_result"
        }
      ],
      "source": [
        "# Check for duplicates\n",
        "users.duplicated().sum()"
      ]
    },
    {
      "cell_type": "code",
      "execution_count": null,
      "metadata": {
        "id": "8cv0pIa1FsZp",
        "outputId": "d2260507-a75e-4cfd-b4aa-64872d656b41"
      },
      "outputs": [
        {
          "data": {
            "text/plain": [
              "0"
            ]
          },
          "execution_count": 24,
          "metadata": {},
          "output_type": "execute_result"
        }
      ],
      "source": [
        "# Check for duplicates\n",
        "calls.duplicated().sum()"
      ]
    },
    {
      "cell_type": "code",
      "execution_count": null,
      "metadata": {
        "id": "Yu5blQCtFsZr",
        "outputId": "8ac15e0d-c0c2-47e0-9345-240085d22f1a"
      },
      "outputs": [
        {
          "data": {
            "text/plain": [
              "0"
            ]
          },
          "execution_count": 25,
          "metadata": {},
          "output_type": "execute_result"
        }
      ],
      "source": [
        "# Check for duplicates\n",
        "internet.duplicated().sum()"
      ]
    },
    {
      "cell_type": "code",
      "execution_count": null,
      "metadata": {
        "id": "T1CMumMoFsZs",
        "outputId": "3e3ac2a7-a033-45d1-f1fb-9c47f371f25e"
      },
      "outputs": [
        {
          "data": {
            "text/plain": [
              "0"
            ]
          },
          "execution_count": 26,
          "metadata": {},
          "output_type": "execute_result"
        }
      ],
      "source": [
        "# Check for duplicates\n",
        "messages.duplicated().sum()"
      ]
    },
    {
      "cell_type": "markdown",
      "metadata": {
        "id": "b7on_xeUFsZt"
      },
      "source": [
        "All tables for data on calls, messages, and internet contain no missing values.\n",
        "\n",
        "There is 0 minute use in calls and 0 megabyte in internet. This should be understood as the users making calls that did not go through and no use of the internet data.\n",
        "\n",
        "Duplicates are checked in tables users, calls, internet, and messages, and not one is found.\n",
        "\n",
        "Data type for date and time is adjusted."
      ]
    },
    {
      "cell_type": "markdown",
      "metadata": {
        "id": "uVbStowWFsZw"
      },
      "source": [
        "### Data Improving"
      ]
    },
    {
      "cell_type": "markdown",
      "metadata": {
        "id": "goV9RXL6FsZw"
      },
      "source": [
        "In the next steps, additional data and feature engineering are done to enable further steps in analysis."
      ]
    },
    {
      "cell_type": "markdown",
      "metadata": {
        "id": "P9X4bAvSFsZx"
      },
      "source": [
        "First, new column for month of every transaction will be added"
      ]
    },
    {
      "cell_type": "code",
      "execution_count": null,
      "metadata": {
        "id": "0WWi0QE2FsZx"
      },
      "outputs": [],
      "source": [
        "# Define a function to create the column\n",
        "def to_month(df,column):\n",
        "    return df[column].dt.to_period('M')"
      ]
    },
    {
      "cell_type": "code",
      "execution_count": null,
      "metadata": {
        "id": "D7TIIqayFsZy",
        "outputId": "c3e9c81d-d448-4e72-f405-df1969005d28"
      },
      "outputs": [
        {
          "data": {
            "text/html": [
              "<div>\n",
              "<style scoped>\n",
              "    .dataframe tbody tr th:only-of-type {\n",
              "        vertical-align: middle;\n",
              "    }\n",
              "\n",
              "    .dataframe tbody tr th {\n",
              "        vertical-align: top;\n",
              "    }\n",
              "\n",
              "    .dataframe thead th {\n",
              "        text-align: right;\n",
              "    }\n",
              "</style>\n",
              "<table border=\"1\" class=\"dataframe\">\n",
              "  <thead>\n",
              "    <tr style=\"text-align: right;\">\n",
              "      <th></th>\n",
              "      <th>id</th>\n",
              "      <th>user_id</th>\n",
              "      <th>call_date</th>\n",
              "      <th>duration</th>\n",
              "      <th>month</th>\n",
              "    </tr>\n",
              "  </thead>\n",
              "  <tbody>\n",
              "    <tr>\n",
              "      <th>0</th>\n",
              "      <td>1000_93</td>\n",
              "      <td>1000</td>\n",
              "      <td>2018-12-27</td>\n",
              "      <td>8.52</td>\n",
              "      <td>2018-12</td>\n",
              "    </tr>\n",
              "    <tr>\n",
              "      <th>1</th>\n",
              "      <td>1000_145</td>\n",
              "      <td>1000</td>\n",
              "      <td>2018-12-27</td>\n",
              "      <td>13.66</td>\n",
              "      <td>2018-12</td>\n",
              "    </tr>\n",
              "    <tr>\n",
              "      <th>2</th>\n",
              "      <td>1000_247</td>\n",
              "      <td>1000</td>\n",
              "      <td>2018-12-27</td>\n",
              "      <td>14.48</td>\n",
              "      <td>2018-12</td>\n",
              "    </tr>\n",
              "    <tr>\n",
              "      <th>3</th>\n",
              "      <td>1000_309</td>\n",
              "      <td>1000</td>\n",
              "      <td>2018-12-28</td>\n",
              "      <td>5.76</td>\n",
              "      <td>2018-12</td>\n",
              "    </tr>\n",
              "    <tr>\n",
              "      <th>4</th>\n",
              "      <td>1000_380</td>\n",
              "      <td>1000</td>\n",
              "      <td>2018-12-30</td>\n",
              "      <td>4.22</td>\n",
              "      <td>2018-12</td>\n",
              "    </tr>\n",
              "  </tbody>\n",
              "</table>\n",
              "</div>"
            ],
            "text/plain": [
              "         id  user_id  call_date  duration    month\n",
              "0   1000_93     1000 2018-12-27      8.52  2018-12\n",
              "1  1000_145     1000 2018-12-27     13.66  2018-12\n",
              "2  1000_247     1000 2018-12-27     14.48  2018-12\n",
              "3  1000_309     1000 2018-12-28      5.76  2018-12\n",
              "4  1000_380     1000 2018-12-30      4.22  2018-12"
            ]
          },
          "execution_count": 28,
          "metadata": {},
          "output_type": "execute_result"
        }
      ],
      "source": [
        "# Apply function to calls, and check data sample\n",
        "calls['month'] = to_month(calls, 'call_date')\n",
        "calls.head()"
      ]
    },
    {
      "cell_type": "code",
      "execution_count": null,
      "metadata": {
        "id": "SXSBnFscFsZz",
        "outputId": "c2063de4-eeac-4ec3-d277-c3a0d334c48c"
      },
      "outputs": [
        {
          "data": {
            "text/html": [
              "<div>\n",
              "<style scoped>\n",
              "    .dataframe tbody tr th:only-of-type {\n",
              "        vertical-align: middle;\n",
              "    }\n",
              "\n",
              "    .dataframe tbody tr th {\n",
              "        vertical-align: top;\n",
              "    }\n",
              "\n",
              "    .dataframe thead th {\n",
              "        text-align: right;\n",
              "    }\n",
              "</style>\n",
              "<table border=\"1\" class=\"dataframe\">\n",
              "  <thead>\n",
              "    <tr style=\"text-align: right;\">\n",
              "      <th></th>\n",
              "      <th>id</th>\n",
              "      <th>user_id</th>\n",
              "      <th>session_date</th>\n",
              "      <th>mb_used</th>\n",
              "      <th>month</th>\n",
              "    </tr>\n",
              "  </thead>\n",
              "  <tbody>\n",
              "    <tr>\n",
              "      <th>0</th>\n",
              "      <td>1000_13</td>\n",
              "      <td>1000</td>\n",
              "      <td>2018-12-27</td>\n",
              "      <td>89.86</td>\n",
              "      <td>2018-12</td>\n",
              "    </tr>\n",
              "    <tr>\n",
              "      <th>1</th>\n",
              "      <td>1000_204</td>\n",
              "      <td>1000</td>\n",
              "      <td>2018-12-27</td>\n",
              "      <td>0.00</td>\n",
              "      <td>2018-12</td>\n",
              "    </tr>\n",
              "    <tr>\n",
              "      <th>2</th>\n",
              "      <td>1000_379</td>\n",
              "      <td>1000</td>\n",
              "      <td>2018-12-27</td>\n",
              "      <td>660.40</td>\n",
              "      <td>2018-12</td>\n",
              "    </tr>\n",
              "    <tr>\n",
              "      <th>3</th>\n",
              "      <td>1000_413</td>\n",
              "      <td>1000</td>\n",
              "      <td>2018-12-28</td>\n",
              "      <td>270.99</td>\n",
              "      <td>2018-12</td>\n",
              "    </tr>\n",
              "    <tr>\n",
              "      <th>4</th>\n",
              "      <td>1000_442</td>\n",
              "      <td>1000</td>\n",
              "      <td>2018-12-30</td>\n",
              "      <td>880.22</td>\n",
              "      <td>2018-12</td>\n",
              "    </tr>\n",
              "  </tbody>\n",
              "</table>\n",
              "</div>"
            ],
            "text/plain": [
              "         id  user_id session_date  mb_used    month\n",
              "0   1000_13     1000   2018-12-27    89.86  2018-12\n",
              "1  1000_204     1000   2018-12-27     0.00  2018-12\n",
              "2  1000_379     1000   2018-12-27   660.40  2018-12\n",
              "3  1000_413     1000   2018-12-28   270.99  2018-12\n",
              "4  1000_442     1000   2018-12-30   880.22  2018-12"
            ]
          },
          "execution_count": 29,
          "metadata": {},
          "output_type": "execute_result"
        }
      ],
      "source": [
        "# Apply function to internet, and check data sample\n",
        "internet['month'] = to_month(internet, 'session_date')\n",
        "internet.head()"
      ]
    },
    {
      "cell_type": "code",
      "execution_count": null,
      "metadata": {
        "id": "QyPA8IjmFsZz",
        "outputId": "768a4074-73e0-4676-9001-41777900a591"
      },
      "outputs": [
        {
          "data": {
            "text/html": [
              "<div>\n",
              "<style scoped>\n",
              "    .dataframe tbody tr th:only-of-type {\n",
              "        vertical-align: middle;\n",
              "    }\n",
              "\n",
              "    .dataframe tbody tr th {\n",
              "        vertical-align: top;\n",
              "    }\n",
              "\n",
              "    .dataframe thead th {\n",
              "        text-align: right;\n",
              "    }\n",
              "</style>\n",
              "<table border=\"1\" class=\"dataframe\">\n",
              "  <thead>\n",
              "    <tr style=\"text-align: right;\">\n",
              "      <th></th>\n",
              "      <th>id</th>\n",
              "      <th>user_id</th>\n",
              "      <th>message_date</th>\n",
              "      <th>month</th>\n",
              "    </tr>\n",
              "  </thead>\n",
              "  <tbody>\n",
              "    <tr>\n",
              "      <th>0</th>\n",
              "      <td>1000_125</td>\n",
              "      <td>1000</td>\n",
              "      <td>2018-12-27</td>\n",
              "      <td>2018-12</td>\n",
              "    </tr>\n",
              "    <tr>\n",
              "      <th>1</th>\n",
              "      <td>1000_160</td>\n",
              "      <td>1000</td>\n",
              "      <td>2018-12-31</td>\n",
              "      <td>2018-12</td>\n",
              "    </tr>\n",
              "    <tr>\n",
              "      <th>2</th>\n",
              "      <td>1000_223</td>\n",
              "      <td>1000</td>\n",
              "      <td>2018-12-31</td>\n",
              "      <td>2018-12</td>\n",
              "    </tr>\n",
              "    <tr>\n",
              "      <th>3</th>\n",
              "      <td>1000_251</td>\n",
              "      <td>1000</td>\n",
              "      <td>2018-12-27</td>\n",
              "      <td>2018-12</td>\n",
              "    </tr>\n",
              "    <tr>\n",
              "      <th>4</th>\n",
              "      <td>1000_255</td>\n",
              "      <td>1000</td>\n",
              "      <td>2018-12-26</td>\n",
              "      <td>2018-12</td>\n",
              "    </tr>\n",
              "  </tbody>\n",
              "</table>\n",
              "</div>"
            ],
            "text/plain": [
              "         id  user_id message_date    month\n",
              "0  1000_125     1000   2018-12-27  2018-12\n",
              "1  1000_160     1000   2018-12-31  2018-12\n",
              "2  1000_223     1000   2018-12-31  2018-12\n",
              "3  1000_251     1000   2018-12-27  2018-12\n",
              "4  1000_255     1000   2018-12-26  2018-12"
            ]
          },
          "execution_count": 30,
          "metadata": {},
          "output_type": "execute_result"
        }
      ],
      "source": [
        "# Apply function to messages, and check data sample\n",
        "messages['month'] = to_month(messages, 'message_date')\n",
        "messages.head()"
      ]
    },
    {
      "cell_type": "markdown",
      "metadata": {
        "id": "a6TfjsIqFsZ1"
      },
      "source": [
        "Next, round up every minutes of calls, and aggregate to monthly use."
      ]
    },
    {
      "cell_type": "code",
      "execution_count": null,
      "metadata": {
        "id": "mL5yRCuPFsZ2",
        "outputId": "011f2459-fd5d-492b-c91c-b23d886b7f3d"
      },
      "outputs": [
        {
          "data": {
            "text/html": [
              "<div>\n",
              "<style scoped>\n",
              "    .dataframe tbody tr th:only-of-type {\n",
              "        vertical-align: middle;\n",
              "    }\n",
              "\n",
              "    .dataframe tbody tr th {\n",
              "        vertical-align: top;\n",
              "    }\n",
              "\n",
              "    .dataframe thead th {\n",
              "        text-align: right;\n",
              "    }\n",
              "</style>\n",
              "<table border=\"1\" class=\"dataframe\">\n",
              "  <thead>\n",
              "    <tr style=\"text-align: right;\">\n",
              "      <th></th>\n",
              "      <th>id</th>\n",
              "      <th>user_id</th>\n",
              "      <th>call_date</th>\n",
              "      <th>duration</th>\n",
              "      <th>month</th>\n",
              "    </tr>\n",
              "  </thead>\n",
              "  <tbody>\n",
              "    <tr>\n",
              "      <th>0</th>\n",
              "      <td>1000_93</td>\n",
              "      <td>1000</td>\n",
              "      <td>2018-12-27</td>\n",
              "      <td>9.0</td>\n",
              "      <td>2018-12</td>\n",
              "    </tr>\n",
              "    <tr>\n",
              "      <th>1</th>\n",
              "      <td>1000_145</td>\n",
              "      <td>1000</td>\n",
              "      <td>2018-12-27</td>\n",
              "      <td>14.0</td>\n",
              "      <td>2018-12</td>\n",
              "    </tr>\n",
              "    <tr>\n",
              "      <th>2</th>\n",
              "      <td>1000_247</td>\n",
              "      <td>1000</td>\n",
              "      <td>2018-12-27</td>\n",
              "      <td>15.0</td>\n",
              "      <td>2018-12</td>\n",
              "    </tr>\n",
              "    <tr>\n",
              "      <th>3</th>\n",
              "      <td>1000_309</td>\n",
              "      <td>1000</td>\n",
              "      <td>2018-12-28</td>\n",
              "      <td>6.0</td>\n",
              "      <td>2018-12</td>\n",
              "    </tr>\n",
              "    <tr>\n",
              "      <th>4</th>\n",
              "      <td>1000_380</td>\n",
              "      <td>1000</td>\n",
              "      <td>2018-12-30</td>\n",
              "      <td>5.0</td>\n",
              "      <td>2018-12</td>\n",
              "    </tr>\n",
              "  </tbody>\n",
              "</table>\n",
              "</div>"
            ],
            "text/plain": [
              "         id  user_id  call_date  duration    month\n",
              "0   1000_93     1000 2018-12-27       9.0  2018-12\n",
              "1  1000_145     1000 2018-12-27      14.0  2018-12\n",
              "2  1000_247     1000 2018-12-27      15.0  2018-12\n",
              "3  1000_309     1000 2018-12-28       6.0  2018-12\n",
              "4  1000_380     1000 2018-12-30       5.0  2018-12"
            ]
          },
          "execution_count": 31,
          "metadata": {},
          "output_type": "execute_result"
        }
      ],
      "source": [
        "# Round up calls\n",
        "calls['duration'] = np.ceil(calls['duration'])\n",
        "calls.head()"
      ]
    },
    {
      "cell_type": "code",
      "execution_count": null,
      "metadata": {
        "scrolled": true,
        "id": "AbcLqyHQFsZ3",
        "outputId": "36c63f31-4e14-4c9d-8597-26ea100d1145"
      },
      "outputs": [
        {
          "data": {
            "text/html": [
              "<div>\n",
              "<style scoped>\n",
              "    .dataframe tbody tr th:only-of-type {\n",
              "        vertical-align: middle;\n",
              "    }\n",
              "\n",
              "    .dataframe tbody tr th {\n",
              "        vertical-align: top;\n",
              "    }\n",
              "\n",
              "    .dataframe thead th {\n",
              "        text-align: right;\n",
              "    }\n",
              "</style>\n",
              "<table border=\"1\" class=\"dataframe\">\n",
              "  <thead>\n",
              "    <tr style=\"text-align: right;\">\n",
              "      <th></th>\n",
              "      <th>user_id</th>\n",
              "      <th>month</th>\n",
              "      <th>duration</th>\n",
              "    </tr>\n",
              "  </thead>\n",
              "  <tbody>\n",
              "    <tr>\n",
              "      <th>0</th>\n",
              "      <td>1000</td>\n",
              "      <td>2018-12</td>\n",
              "      <td>124.0</td>\n",
              "    </tr>\n",
              "    <tr>\n",
              "      <th>1</th>\n",
              "      <td>1001</td>\n",
              "      <td>2018-08</td>\n",
              "      <td>182.0</td>\n",
              "    </tr>\n",
              "    <tr>\n",
              "      <th>2</th>\n",
              "      <td>1001</td>\n",
              "      <td>2018-09</td>\n",
              "      <td>315.0</td>\n",
              "    </tr>\n",
              "    <tr>\n",
              "      <th>3</th>\n",
              "      <td>1001</td>\n",
              "      <td>2018-10</td>\n",
              "      <td>393.0</td>\n",
              "    </tr>\n",
              "    <tr>\n",
              "      <th>4</th>\n",
              "      <td>1001</td>\n",
              "      <td>2018-11</td>\n",
              "      <td>426.0</td>\n",
              "    </tr>\n",
              "  </tbody>\n",
              "</table>\n",
              "</div>"
            ],
            "text/plain": [
              "   user_id    month  duration\n",
              "0     1000  2018-12     124.0\n",
              "1     1001  2018-08     182.0\n",
              "2     1001  2018-09     315.0\n",
              "3     1001  2018-10     393.0\n",
              "4     1001  2018-11     426.0"
            ]
          },
          "execution_count": 32,
          "metadata": {},
          "output_type": "execute_result"
        }
      ],
      "source": [
        "# Create new dataset with aggregation of call duration per user per month\n",
        "calls_agg = pd.pivot_table(calls, index=['user_id', 'month'], values = 'duration', aggfunc = 'sum').reset_index()\n",
        "calls_agg.head()"
      ]
    },
    {
      "cell_type": "code",
      "execution_count": null,
      "metadata": {
        "id": "2sTpzspxFsZ4",
        "outputId": "4c4e6f46-fed3-45b9-9b32-8622422dbd04"
      },
      "outputs": [
        {
          "name": "stdout",
          "output_type": "stream",
          "text": [
            "<class 'pandas.core.frame.DataFrame'>\n",
            "RangeIndex: 2258 entries, 0 to 2257\n",
            "Data columns (total 3 columns):\n",
            " #   Column    Non-Null Count  Dtype    \n",
            "---  ------    --------------  -----    \n",
            " 0   user_id   2258 non-null   int64    \n",
            " 1   month     2258 non-null   period[M]\n",
            " 2   duration  2258 non-null   float64  \n",
            "dtypes: float64(1), int64(1), period[M](1)\n",
            "memory usage: 53.0 KB\n"
          ]
        }
      ],
      "source": [
        "# Load general info\n",
        "calls_agg.info()"
      ]
    },
    {
      "cell_type": "markdown",
      "metadata": {
        "id": "20Sxry98FsZ6"
      },
      "source": [
        "Next, aggregate data use of internet to monthly use, and round up every megabyte to gigabyte. "
      ]
    },
    {
      "cell_type": "code",
      "execution_count": null,
      "metadata": {
        "scrolled": true,
        "id": "ZhQheU08FsZ6",
        "outputId": "39b2025d-8195-4d98-8ddd-5b8e6011264f"
      },
      "outputs": [
        {
          "data": {
            "text/html": [
              "<div>\n",
              "<style scoped>\n",
              "    .dataframe tbody tr th:only-of-type {\n",
              "        vertical-align: middle;\n",
              "    }\n",
              "\n",
              "    .dataframe tbody tr th {\n",
              "        vertical-align: top;\n",
              "    }\n",
              "\n",
              "    .dataframe thead th {\n",
              "        text-align: right;\n",
              "    }\n",
              "</style>\n",
              "<table border=\"1\" class=\"dataframe\">\n",
              "  <thead>\n",
              "    <tr style=\"text-align: right;\">\n",
              "      <th></th>\n",
              "      <th>user_id</th>\n",
              "      <th>month</th>\n",
              "      <th>mb_used</th>\n",
              "    </tr>\n",
              "  </thead>\n",
              "  <tbody>\n",
              "    <tr>\n",
              "      <th>0</th>\n",
              "      <td>1000</td>\n",
              "      <td>2018-12</td>\n",
              "      <td>1901.47</td>\n",
              "    </tr>\n",
              "    <tr>\n",
              "      <th>1</th>\n",
              "      <td>1001</td>\n",
              "      <td>2018-08</td>\n",
              "      <td>7131.50</td>\n",
              "    </tr>\n",
              "    <tr>\n",
              "      <th>2</th>\n",
              "      <td>1001</td>\n",
              "      <td>2018-09</td>\n",
              "      <td>13311.04</td>\n",
              "    </tr>\n",
              "    <tr>\n",
              "      <th>3</th>\n",
              "      <td>1001</td>\n",
              "      <td>2018-10</td>\n",
              "      <td>20406.45</td>\n",
              "    </tr>\n",
              "    <tr>\n",
              "      <th>4</th>\n",
              "      <td>1001</td>\n",
              "      <td>2018-11</td>\n",
              "      <td>20873.07</td>\n",
              "    </tr>\n",
              "  </tbody>\n",
              "</table>\n",
              "</div>"
            ],
            "text/plain": [
              "   user_id    month   mb_used\n",
              "0     1000  2018-12   1901.47\n",
              "1     1001  2018-08   7131.50\n",
              "2     1001  2018-09  13311.04\n",
              "3     1001  2018-10  20406.45\n",
              "4     1001  2018-11  20873.07"
            ]
          },
          "execution_count": 34,
          "metadata": {},
          "output_type": "execute_result"
        }
      ],
      "source": [
        "# Create new dataset with aggregation of data use of internet per user per month\n",
        "internet_agg = pd.pivot_table(internet, index=['user_id', 'month'], values = 'mb_used', aggfunc = 'sum').reset_index()\n",
        "internet_agg.head()"
      ]
    },
    {
      "cell_type": "code",
      "execution_count": null,
      "metadata": {
        "id": "YzQNc6Y1FsZ7",
        "outputId": "7d01bb77-1e80-47a6-8a3d-bca0b2f81f59"
      },
      "outputs": [
        {
          "data": {
            "text/html": [
              "<div>\n",
              "<style scoped>\n",
              "    .dataframe tbody tr th:only-of-type {\n",
              "        vertical-align: middle;\n",
              "    }\n",
              "\n",
              "    .dataframe tbody tr th {\n",
              "        vertical-align: top;\n",
              "    }\n",
              "\n",
              "    .dataframe thead th {\n",
              "        text-align: right;\n",
              "    }\n",
              "</style>\n",
              "<table border=\"1\" class=\"dataframe\">\n",
              "  <thead>\n",
              "    <tr style=\"text-align: right;\">\n",
              "      <th></th>\n",
              "      <th>user_id</th>\n",
              "      <th>month</th>\n",
              "      <th>mb_used</th>\n",
              "      <th>gb_used</th>\n",
              "    </tr>\n",
              "  </thead>\n",
              "  <tbody>\n",
              "    <tr>\n",
              "      <th>0</th>\n",
              "      <td>1000</td>\n",
              "      <td>2018-12</td>\n",
              "      <td>1901.47</td>\n",
              "      <td>2.0</td>\n",
              "    </tr>\n",
              "    <tr>\n",
              "      <th>1</th>\n",
              "      <td>1001</td>\n",
              "      <td>2018-08</td>\n",
              "      <td>7131.50</td>\n",
              "      <td>7.0</td>\n",
              "    </tr>\n",
              "    <tr>\n",
              "      <th>2</th>\n",
              "      <td>1001</td>\n",
              "      <td>2018-09</td>\n",
              "      <td>13311.04</td>\n",
              "      <td>13.0</td>\n",
              "    </tr>\n",
              "    <tr>\n",
              "      <th>3</th>\n",
              "      <td>1001</td>\n",
              "      <td>2018-10</td>\n",
              "      <td>20406.45</td>\n",
              "      <td>20.0</td>\n",
              "    </tr>\n",
              "    <tr>\n",
              "      <th>4</th>\n",
              "      <td>1001</td>\n",
              "      <td>2018-11</td>\n",
              "      <td>20873.07</td>\n",
              "      <td>21.0</td>\n",
              "    </tr>\n",
              "  </tbody>\n",
              "</table>\n",
              "</div>"
            ],
            "text/plain": [
              "   user_id    month   mb_used  gb_used\n",
              "0     1000  2018-12   1901.47      2.0\n",
              "1     1001  2018-08   7131.50      7.0\n",
              "2     1001  2018-09  13311.04     13.0\n",
              "3     1001  2018-10  20406.45     20.0\n",
              "4     1001  2018-11  20873.07     21.0"
            ]
          },
          "execution_count": 35,
          "metadata": {},
          "output_type": "execute_result"
        }
      ],
      "source": [
        "# Round up megabyte to gigabyte\n",
        "internet_agg['gb_used'] = np.ceil(internet_agg['mb_used']/1024)\n",
        "internet_agg.head()"
      ]
    },
    {
      "cell_type": "code",
      "execution_count": null,
      "metadata": {
        "scrolled": true,
        "id": "O3BV64DNFsZ8",
        "outputId": "eaf34cf3-cb77-4396-ba50-a585de0dc5e8"
      },
      "outputs": [
        {
          "name": "stdout",
          "output_type": "stream",
          "text": [
            "<class 'pandas.core.frame.DataFrame'>\n",
            "RangeIndex: 3611 entries, 0 to 3610\n",
            "Data columns (total 4 columns):\n",
            " #   Column   Non-Null Count  Dtype    \n",
            "---  ------   --------------  -----    \n",
            " 0   user_id  3611 non-null   int64    \n",
            " 1   month    3611 non-null   period[M]\n",
            " 2   mb_used  3611 non-null   float64  \n",
            " 3   gb_used  3611 non-null   float64  \n",
            "dtypes: float64(2), int64(1), period[M](1)\n",
            "memory usage: 113.0 KB\n"
          ]
        }
      ],
      "source": [
        "# Load general info\n",
        "internet_agg.info()"
      ]
    },
    {
      "cell_type": "markdown",
      "metadata": {
        "id": "BZug5gXsFsZ-"
      },
      "source": [
        "Next, aggregate messages to monthly use."
      ]
    },
    {
      "cell_type": "code",
      "execution_count": null,
      "metadata": {
        "scrolled": false,
        "id": "OqYSXe8fFsZ-",
        "outputId": "dd9564c0-31df-4c9d-be59-18e9283b7eb1"
      },
      "outputs": [
        {
          "data": {
            "text/html": [
              "<div>\n",
              "<style scoped>\n",
              "    .dataframe tbody tr th:only-of-type {\n",
              "        vertical-align: middle;\n",
              "    }\n",
              "\n",
              "    .dataframe tbody tr th {\n",
              "        vertical-align: top;\n",
              "    }\n",
              "\n",
              "    .dataframe thead th {\n",
              "        text-align: right;\n",
              "    }\n",
              "</style>\n",
              "<table border=\"1\" class=\"dataframe\">\n",
              "  <thead>\n",
              "    <tr style=\"text-align: right;\">\n",
              "      <th></th>\n",
              "      <th>user_id</th>\n",
              "      <th>month</th>\n",
              "      <th>sms</th>\n",
              "    </tr>\n",
              "  </thead>\n",
              "  <tbody>\n",
              "    <tr>\n",
              "      <th>0</th>\n",
              "      <td>1000</td>\n",
              "      <td>2018-12</td>\n",
              "      <td>11</td>\n",
              "    </tr>\n",
              "    <tr>\n",
              "      <th>1</th>\n",
              "      <td>1001</td>\n",
              "      <td>2018-08</td>\n",
              "      <td>30</td>\n",
              "    </tr>\n",
              "    <tr>\n",
              "      <th>2</th>\n",
              "      <td>1001</td>\n",
              "      <td>2018-09</td>\n",
              "      <td>44</td>\n",
              "    </tr>\n",
              "    <tr>\n",
              "      <th>3</th>\n",
              "      <td>1001</td>\n",
              "      <td>2018-10</td>\n",
              "      <td>53</td>\n",
              "    </tr>\n",
              "    <tr>\n",
              "      <th>4</th>\n",
              "      <td>1001</td>\n",
              "      <td>2018-11</td>\n",
              "      <td>36</td>\n",
              "    </tr>\n",
              "  </tbody>\n",
              "</table>\n",
              "</div>"
            ],
            "text/plain": [
              "   user_id    month  sms\n",
              "0     1000  2018-12   11\n",
              "1     1001  2018-08   30\n",
              "2     1001  2018-09   44\n",
              "3     1001  2018-10   53\n",
              "4     1001  2018-11   36"
            ]
          },
          "execution_count": 37,
          "metadata": {},
          "output_type": "execute_result"
        }
      ],
      "source": [
        "# New dataset with aggregation of number of message per user per month\n",
        "messages_agg = pd.pivot_table(messages, index = ['user_id', 'month'], values = 'id', aggfunc = 'count').reset_index()\n",
        "messages_agg.columns = ['user_id', 'month', 'sms']\n",
        "messages_agg.head()"
      ]
    },
    {
      "cell_type": "code",
      "execution_count": null,
      "metadata": {
        "id": "8htsw-snFsaA",
        "outputId": "a47f5ba6-a60b-4aaa-a71a-37655a382d0b"
      },
      "outputs": [
        {
          "name": "stdout",
          "output_type": "stream",
          "text": [
            "<class 'pandas.core.frame.DataFrame'>\n",
            "RangeIndex: 1806 entries, 0 to 1805\n",
            "Data columns (total 3 columns):\n",
            " #   Column   Non-Null Count  Dtype    \n",
            "---  ------   --------------  -----    \n",
            " 0   user_id  1806 non-null   int64    \n",
            " 1   month    1806 non-null   period[M]\n",
            " 2   sms      1806 non-null   int64    \n",
            "dtypes: int64(2), period[M](1)\n",
            "memory usage: 42.5 KB\n"
          ]
        }
      ],
      "source": [
        "# Load general info\n",
        "messages_agg.info()"
      ]
    },
    {
      "cell_type": "markdown",
      "metadata": {
        "id": "jjRol30eFsaA"
      },
      "source": [
        "After aggregation, check period generating revenue of every service."
      ]
    },
    {
      "cell_type": "code",
      "execution_count": null,
      "metadata": {
        "scrolled": true,
        "id": "MowrARm4FsaB",
        "outputId": "568d953d-741c-4262-dff5-d6d4a7b7d123"
      },
      "outputs": [
        {
          "data": {
            "text/plain": [
              "[Period('2018-01', 'M'),\n",
              " Period('2018-02', 'M'),\n",
              " Period('2018-03', 'M'),\n",
              " Period('2018-04', 'M'),\n",
              " Period('2018-05', 'M'),\n",
              " Period('2018-06', 'M'),\n",
              " Period('2018-07', 'M'),\n",
              " Period('2018-08', 'M'),\n",
              " Period('2018-09', 'M'),\n",
              " Period('2018-10', 'M'),\n",
              " Period('2018-11', 'M'),\n",
              " Period('2018-12', 'M')]"
            ]
          },
          "execution_count": 39,
          "metadata": {},
          "output_type": "execute_result"
        }
      ],
      "source": [
        "# Check month in calls_agg\n",
        "sorted(calls_agg['month'].unique())"
      ]
    },
    {
      "cell_type": "code",
      "execution_count": null,
      "metadata": {
        "id": "DJAD4BaBFsaB",
        "outputId": "85ffee67-e5ee-4087-edd0-595e1be7d5e2"
      },
      "outputs": [
        {
          "data": {
            "text/plain": [
              "[Period('2018-01', 'M'),\n",
              " Period('2018-02', 'M'),\n",
              " Period('2018-03', 'M'),\n",
              " Period('2018-04', 'M'),\n",
              " Period('2018-05', 'M'),\n",
              " Period('2018-06', 'M'),\n",
              " Period('2018-07', 'M'),\n",
              " Period('2018-08', 'M'),\n",
              " Period('2018-09', 'M'),\n",
              " Period('2018-10', 'M'),\n",
              " Period('2018-11', 'M'),\n",
              " Period('2018-12', 'M')]"
            ]
          },
          "execution_count": 40,
          "metadata": {},
          "output_type": "execute_result"
        }
      ],
      "source": [
        "# Check month in internet_agg\n",
        "sorted(internet_agg['month'].unique())"
      ]
    },
    {
      "cell_type": "code",
      "execution_count": null,
      "metadata": {
        "id": "vtGcfh87FsaC",
        "outputId": "d0fec4d4-76eb-42d1-86f2-1ee8c590c7a8"
      },
      "outputs": [
        {
          "data": {
            "text/plain": [
              "[Period('2018-01', 'M'),\n",
              " Period('2018-02', 'M'),\n",
              " Period('2018-03', 'M'),\n",
              " Period('2018-04', 'M'),\n",
              " Period('2018-05', 'M'),\n",
              " Period('2018-06', 'M'),\n",
              " Period('2018-07', 'M'),\n",
              " Period('2018-08', 'M'),\n",
              " Period('2018-09', 'M'),\n",
              " Period('2018-10', 'M'),\n",
              " Period('2018-11', 'M'),\n",
              " Period('2018-12', 'M')]"
            ]
          },
          "execution_count": 41,
          "metadata": {},
          "output_type": "execute_result"
        }
      ],
      "source": [
        "# Check month in messages_agg\n",
        "sorted(messages_agg['month'].unique())"
      ]
    },
    {
      "cell_type": "markdown",
      "metadata": {
        "id": "SNOUljqhFsaD"
      },
      "source": [
        "It appears that all three services generate revenue on each month from Jan 2018 to Dec 2018. The new combining dataset will have values for every generating month."
      ]
    },
    {
      "cell_type": "markdown",
      "metadata": {
        "id": "UUszS9-NFsaE"
      },
      "source": [
        "In table plans, new column for amount of data internet included in gigabyte is needed for calculation of extra use of internet data later.\n"
      ]
    },
    {
      "cell_type": "code",
      "execution_count": null,
      "metadata": {
        "id": "7bKtsHmGFsaE"
      },
      "outputs": [],
      "source": [
        "# Add column in plans for data internet included in gigabyte\n",
        "plans['gb_per_month_included'] = plans['mb_per_month_included']/1024"
      ]
    },
    {
      "cell_type": "markdown",
      "metadata": {
        "id": "V8R4gGILFsaG"
      },
      "source": [
        "### Table Merging"
      ]
    },
    {
      "cell_type": "markdown",
      "metadata": {
        "id": "qMnBxX-3FsaH"
      },
      "source": [
        "In the next step, all tables are merged into one, and saved in new variable. First, a key assigned in order to merge the tables both on user_id and month."
      ]
    },
    {
      "cell_type": "code",
      "execution_count": null,
      "metadata": {
        "scrolled": false,
        "id": "Fc3DlZeXFsaH",
        "outputId": "76d825af-508e-4c42-9623-2017f2f81b23"
      },
      "outputs": [
        {
          "data": {
            "text/html": [
              "<div>\n",
              "<style scoped>\n",
              "    .dataframe tbody tr th:only-of-type {\n",
              "        vertical-align: middle;\n",
              "    }\n",
              "\n",
              "    .dataframe tbody tr th {\n",
              "        vertical-align: top;\n",
              "    }\n",
              "\n",
              "    .dataframe thead th {\n",
              "        text-align: right;\n",
              "    }\n",
              "</style>\n",
              "<table border=\"1\" class=\"dataframe\">\n",
              "  <thead>\n",
              "    <tr style=\"text-align: right;\">\n",
              "      <th></th>\n",
              "      <th>month</th>\n",
              "      <th>key</th>\n",
              "    </tr>\n",
              "  </thead>\n",
              "  <tbody>\n",
              "    <tr>\n",
              "      <th>10</th>\n",
              "      <td>2018-01</td>\n",
              "      <td>1</td>\n",
              "    </tr>\n",
              "    <tr>\n",
              "      <th>11</th>\n",
              "      <td>2018-02</td>\n",
              "      <td>1</td>\n",
              "    </tr>\n",
              "    <tr>\n",
              "      <th>8</th>\n",
              "      <td>2018-03</td>\n",
              "      <td>1</td>\n",
              "    </tr>\n",
              "    <tr>\n",
              "      <th>9</th>\n",
              "      <td>2018-04</td>\n",
              "      <td>1</td>\n",
              "    </tr>\n",
              "    <tr>\n",
              "      <th>5</th>\n",
              "      <td>2018-05</td>\n",
              "      <td>1</td>\n",
              "    </tr>\n",
              "    <tr>\n",
              "      <th>6</th>\n",
              "      <td>2018-06</td>\n",
              "      <td>1</td>\n",
              "    </tr>\n",
              "    <tr>\n",
              "      <th>7</th>\n",
              "      <td>2018-07</td>\n",
              "      <td>1</td>\n",
              "    </tr>\n",
              "    <tr>\n",
              "      <th>1</th>\n",
              "      <td>2018-08</td>\n",
              "      <td>1</td>\n",
              "    </tr>\n",
              "    <tr>\n",
              "      <th>2</th>\n",
              "      <td>2018-09</td>\n",
              "      <td>1</td>\n",
              "    </tr>\n",
              "    <tr>\n",
              "      <th>3</th>\n",
              "      <td>2018-10</td>\n",
              "      <td>1</td>\n",
              "    </tr>\n",
              "    <tr>\n",
              "      <th>4</th>\n",
              "      <td>2018-11</td>\n",
              "      <td>1</td>\n",
              "    </tr>\n",
              "    <tr>\n",
              "      <th>0</th>\n",
              "      <td>2018-12</td>\n",
              "      <td>1</td>\n",
              "    </tr>\n",
              "  </tbody>\n",
              "</table>\n",
              "</div>"
            ],
            "text/plain": [
              "      month  key\n",
              "10  2018-01    1\n",
              "11  2018-02    1\n",
              "8   2018-03    1\n",
              "9   2018-04    1\n",
              "5   2018-05    1\n",
              "6   2018-06    1\n",
              "7   2018-07    1\n",
              "1   2018-08    1\n",
              "2   2018-09    1\n",
              "3   2018-10    1\n",
              "4   2018-11    1\n",
              "0   2018-12    1"
            ]
          },
          "execution_count": 43,
          "metadata": {},
          "output_type": "execute_result"
        }
      ],
      "source": [
        "# Create table for months generating revenue\n",
        "temp_month = pd.DataFrame(calls_agg.month.unique(), columns=['month']).sort_values('month')\n",
        "temp_month['key'] = 1\n",
        "temp_month"
      ]
    },
    {
      "cell_type": "code",
      "execution_count": null,
      "metadata": {
        "scrolled": false,
        "id": "KNaj830bFsaI",
        "outputId": "d88e5836-b588-42a2-b7f7-bcf4d99e37fe"
      },
      "outputs": [
        {
          "data": {
            "text/html": [
              "<div>\n",
              "<style scoped>\n",
              "    .dataframe tbody tr th:only-of-type {\n",
              "        vertical-align: middle;\n",
              "    }\n",
              "\n",
              "    .dataframe tbody tr th {\n",
              "        vertical-align: top;\n",
              "    }\n",
              "\n",
              "    .dataframe thead th {\n",
              "        text-align: right;\n",
              "    }\n",
              "</style>\n",
              "<table border=\"1\" class=\"dataframe\">\n",
              "  <thead>\n",
              "    <tr style=\"text-align: right;\">\n",
              "      <th></th>\n",
              "      <th>user_id</th>\n",
              "      <th>key</th>\n",
              "    </tr>\n",
              "  </thead>\n",
              "  <tbody>\n",
              "    <tr>\n",
              "      <th>0</th>\n",
              "      <td>1000</td>\n",
              "      <td>1</td>\n",
              "    </tr>\n",
              "    <tr>\n",
              "      <th>1</th>\n",
              "      <td>1001</td>\n",
              "      <td>1</td>\n",
              "    </tr>\n",
              "    <tr>\n",
              "      <th>2</th>\n",
              "      <td>1002</td>\n",
              "      <td>1</td>\n",
              "    </tr>\n",
              "    <tr>\n",
              "      <th>3</th>\n",
              "      <td>1003</td>\n",
              "      <td>1</td>\n",
              "    </tr>\n",
              "    <tr>\n",
              "      <th>4</th>\n",
              "      <td>1004</td>\n",
              "      <td>1</td>\n",
              "    </tr>\n",
              "    <tr>\n",
              "      <th>...</th>\n",
              "      <td>...</td>\n",
              "      <td>...</td>\n",
              "    </tr>\n",
              "    <tr>\n",
              "      <th>495</th>\n",
              "      <td>1495</td>\n",
              "      <td>1</td>\n",
              "    </tr>\n",
              "    <tr>\n",
              "      <th>496</th>\n",
              "      <td>1496</td>\n",
              "      <td>1</td>\n",
              "    </tr>\n",
              "    <tr>\n",
              "      <th>497</th>\n",
              "      <td>1497</td>\n",
              "      <td>1</td>\n",
              "    </tr>\n",
              "    <tr>\n",
              "      <th>498</th>\n",
              "      <td>1498</td>\n",
              "      <td>1</td>\n",
              "    </tr>\n",
              "    <tr>\n",
              "      <th>499</th>\n",
              "      <td>1499</td>\n",
              "      <td>1</td>\n",
              "    </tr>\n",
              "  </tbody>\n",
              "</table>\n",
              "<p>500 rows × 2 columns</p>\n",
              "</div>"
            ],
            "text/plain": [
              "     user_id  key\n",
              "0       1000    1\n",
              "1       1001    1\n",
              "2       1002    1\n",
              "3       1003    1\n",
              "4       1004    1\n",
              "..       ...  ...\n",
              "495     1495    1\n",
              "496     1496    1\n",
              "497     1497    1\n",
              "498     1498    1\n",
              "499     1499    1\n",
              "\n",
              "[500 rows x 2 columns]"
            ]
          },
          "execution_count": 44,
          "metadata": {},
          "output_type": "execute_result"
        }
      ],
      "source": [
        "# Create table for all user_id\n",
        "temp_user_id = pd.DataFrame(users.user_id.unique(), columns=['user_id'])\n",
        "temp_user_id['key'] = 1\n",
        "temp_user_id"
      ]
    },
    {
      "cell_type": "code",
      "execution_count": null,
      "metadata": {
        "scrolled": true,
        "id": "f5hcXi8iFsaJ"
      },
      "outputs": [],
      "source": [
        "# Create new dataset that will be used to merge all tables\n",
        "dataset = temp_user_id.merge(temp_month, on='key', how='inner')"
      ]
    },
    {
      "cell_type": "markdown",
      "metadata": {
        "id": "cdLPQ3RjFsaK"
      },
      "source": [
        "In the next step, merging of each of the five tables is done."
      ]
    },
    {
      "cell_type": "code",
      "execution_count": null,
      "metadata": {
        "id": "zlGNZSrjFsaL",
        "outputId": "e3a11bbc-ac9e-4895-c41e-03b765c8532a"
      },
      "outputs": [
        {
          "name": "stdout",
          "output_type": "stream",
          "text": [
            "<class 'pandas.core.frame.DataFrame'>\n",
            "Int64Index: 6000 entries, 0 to 5999\n",
            "Data columns (total 10 columns):\n",
            " #   Column      Non-Null Count  Dtype         \n",
            "---  ------      --------------  -----         \n",
            " 0   user_id     6000 non-null   int64         \n",
            " 1   key         6000 non-null   int64         \n",
            " 2   month       6000 non-null   period[M]     \n",
            " 3   first_name  6000 non-null   object        \n",
            " 4   last_name   6000 non-null   object        \n",
            " 5   age         6000 non-null   int64         \n",
            " 6   city        6000 non-null   object        \n",
            " 7   reg_date    6000 non-null   datetime64[ns]\n",
            " 8   plan        6000 non-null   object        \n",
            " 9   churn_date  408 non-null    datetime64[ns]\n",
            "dtypes: datetime64[ns](2), int64(3), object(4), period[M](1)\n",
            "memory usage: 515.6+ KB\n"
          ]
        }
      ],
      "source": [
        "# Merge users to dataset\n",
        "dataset = dataset.merge(users, on='user_id', how='left')\n",
        "dataset.info()"
      ]
    },
    {
      "cell_type": "code",
      "execution_count": null,
      "metadata": {
        "id": "n-pJbar-FsaM",
        "outputId": "d4b9993b-ace0-463b-c76a-b2f88cb3f60c"
      },
      "outputs": [
        {
          "name": "stdout",
          "output_type": "stream",
          "text": [
            "<class 'pandas.core.frame.DataFrame'>\n",
            "Int64Index: 6000 entries, 0 to 5999\n",
            "Data columns (total 19 columns):\n",
            " #   Column                 Non-Null Count  Dtype         \n",
            "---  ------                 --------------  -----         \n",
            " 0   user_id                6000 non-null   int64         \n",
            " 1   key                    6000 non-null   int64         \n",
            " 2   month                  6000 non-null   period[M]     \n",
            " 3   first_name             6000 non-null   object        \n",
            " 4   last_name              6000 non-null   object        \n",
            " 5   age                    6000 non-null   int64         \n",
            " 6   city                   6000 non-null   object        \n",
            " 7   reg_date               6000 non-null   datetime64[ns]\n",
            " 8   plan                   6000 non-null   object        \n",
            " 9   churn_date             408 non-null    datetime64[ns]\n",
            " 10  messages_included      6000 non-null   int64         \n",
            " 11  mb_per_month_included  6000 non-null   int64         \n",
            " 12  minutes_included       6000 non-null   int64         \n",
            " 13  usd_monthly_pay        6000 non-null   int64         \n",
            " 14  usd_per_gb             6000 non-null   int64         \n",
            " 15  usd_per_message        6000 non-null   float64       \n",
            " 16  usd_per_minute         6000 non-null   float64       \n",
            " 17  plan_name              6000 non-null   object        \n",
            " 18  gb_per_month_included  6000 non-null   float64       \n",
            "dtypes: datetime64[ns](2), float64(3), int64(8), object(5), period[M](1)\n",
            "memory usage: 937.5+ KB\n"
          ]
        }
      ],
      "source": [
        "# Merge plans to dataset\n",
        "dataset = dataset.merge(plans, left_on='plan', right_on= 'plan_name', how='left')\n",
        "dataset.info()"
      ]
    },
    {
      "cell_type": "code",
      "execution_count": null,
      "metadata": {
        "scrolled": false,
        "id": "lXW78iUnFsaM",
        "outputId": "0308eb9c-f1c4-4bc0-fba2-52c8026bb50d"
      },
      "outputs": [
        {
          "name": "stdout",
          "output_type": "stream",
          "text": [
            "<class 'pandas.core.frame.DataFrame'>\n",
            "Int64Index: 6000 entries, 0 to 5999\n",
            "Data columns (total 20 columns):\n",
            " #   Column                 Non-Null Count  Dtype         \n",
            "---  ------                 --------------  -----         \n",
            " 0   user_id                6000 non-null   int64         \n",
            " 1   key                    6000 non-null   int64         \n",
            " 2   month                  6000 non-null   period[M]     \n",
            " 3   first_name             6000 non-null   object        \n",
            " 4   last_name              6000 non-null   object        \n",
            " 5   age                    6000 non-null   int64         \n",
            " 6   city                   6000 non-null   object        \n",
            " 7   reg_date               6000 non-null   datetime64[ns]\n",
            " 8   plan                   6000 non-null   object        \n",
            " 9   churn_date             408 non-null    datetime64[ns]\n",
            " 10  messages_included      6000 non-null   int64         \n",
            " 11  mb_per_month_included  6000 non-null   int64         \n",
            " 12  minutes_included       6000 non-null   int64         \n",
            " 13  usd_monthly_pay        6000 non-null   int64         \n",
            " 14  usd_per_gb             6000 non-null   int64         \n",
            " 15  usd_per_message        6000 non-null   float64       \n",
            " 16  usd_per_minute         6000 non-null   float64       \n",
            " 17  plan_name              6000 non-null   object        \n",
            " 18  gb_per_month_included  6000 non-null   float64       \n",
            " 19  duration               2258 non-null   float64       \n",
            "dtypes: datetime64[ns](2), float64(4), int64(8), object(5), period[M](1)\n",
            "memory usage: 984.4+ KB\n"
          ]
        }
      ],
      "source": [
        "# Merge calls_agg to dataset\n",
        "dataset = dataset.merge(calls_agg, on=['user_id', 'month'], how='left')\n",
        "dataset.info()"
      ]
    },
    {
      "cell_type": "code",
      "execution_count": null,
      "metadata": {
        "scrolled": false,
        "id": "cfORkRrFFsaN",
        "outputId": "9e77d2c1-2ecd-4574-ccec-5ab08a993026"
      },
      "outputs": [
        {
          "name": "stdout",
          "output_type": "stream",
          "text": [
            "<class 'pandas.core.frame.DataFrame'>\n",
            "Int64Index: 6000 entries, 0 to 5999\n",
            "Data columns (total 22 columns):\n",
            " #   Column                 Non-Null Count  Dtype         \n",
            "---  ------                 --------------  -----         \n",
            " 0   user_id                6000 non-null   int64         \n",
            " 1   key                    6000 non-null   int64         \n",
            " 2   month                  6000 non-null   period[M]     \n",
            " 3   first_name             6000 non-null   object        \n",
            " 4   last_name              6000 non-null   object        \n",
            " 5   age                    6000 non-null   int64         \n",
            " 6   city                   6000 non-null   object        \n",
            " 7   reg_date               6000 non-null   datetime64[ns]\n",
            " 8   plan                   6000 non-null   object        \n",
            " 9   churn_date             408 non-null    datetime64[ns]\n",
            " 10  messages_included      6000 non-null   int64         \n",
            " 11  mb_per_month_included  6000 non-null   int64         \n",
            " 12  minutes_included       6000 non-null   int64         \n",
            " 13  usd_monthly_pay        6000 non-null   int64         \n",
            " 14  usd_per_gb             6000 non-null   int64         \n",
            " 15  usd_per_message        6000 non-null   float64       \n",
            " 16  usd_per_minute         6000 non-null   float64       \n",
            " 17  plan_name              6000 non-null   object        \n",
            " 18  gb_per_month_included  6000 non-null   float64       \n",
            " 19  duration               2258 non-null   float64       \n",
            " 20  mb_used                3611 non-null   float64       \n",
            " 21  gb_used                3611 non-null   float64       \n",
            "dtypes: datetime64[ns](2), float64(6), int64(8), object(5), period[M](1)\n",
            "memory usage: 1.1+ MB\n"
          ]
        }
      ],
      "source": [
        "# Merge internet_agg to dataset\n",
        "dataset = dataset.merge(internet_agg, on= ['user_id', 'month'], how='left')\n",
        "dataset.info()"
      ]
    },
    {
      "cell_type": "code",
      "execution_count": null,
      "metadata": {
        "id": "xk6mpjPdFsaO",
        "outputId": "8e2964d7-0413-40cc-cc59-b3a643428afe"
      },
      "outputs": [
        {
          "name": "stdout",
          "output_type": "stream",
          "text": [
            "<class 'pandas.core.frame.DataFrame'>\n",
            "Int64Index: 6000 entries, 0 to 5999\n",
            "Data columns (total 23 columns):\n",
            " #   Column                 Non-Null Count  Dtype         \n",
            "---  ------                 --------------  -----         \n",
            " 0   user_id                6000 non-null   int64         \n",
            " 1   key                    6000 non-null   int64         \n",
            " 2   month                  6000 non-null   period[M]     \n",
            " 3   first_name             6000 non-null   object        \n",
            " 4   last_name              6000 non-null   object        \n",
            " 5   age                    6000 non-null   int64         \n",
            " 6   city                   6000 non-null   object        \n",
            " 7   reg_date               6000 non-null   datetime64[ns]\n",
            " 8   plan                   6000 non-null   object        \n",
            " 9   churn_date             408 non-null    datetime64[ns]\n",
            " 10  messages_included      6000 non-null   int64         \n",
            " 11  mb_per_month_included  6000 non-null   int64         \n",
            " 12  minutes_included       6000 non-null   int64         \n",
            " 13  usd_monthly_pay        6000 non-null   int64         \n",
            " 14  usd_per_gb             6000 non-null   int64         \n",
            " 15  usd_per_message        6000 non-null   float64       \n",
            " 16  usd_per_minute         6000 non-null   float64       \n",
            " 17  plan_name              6000 non-null   object        \n",
            " 18  gb_per_month_included  6000 non-null   float64       \n",
            " 19  duration               2258 non-null   float64       \n",
            " 20  mb_used                3611 non-null   float64       \n",
            " 21  gb_used                3611 non-null   float64       \n",
            " 22  sms                    1806 non-null   float64       \n",
            "dtypes: datetime64[ns](2), float64(7), int64(8), object(5), period[M](1)\n",
            "memory usage: 1.1+ MB\n"
          ]
        }
      ],
      "source": [
        "# Merge messages_agg to dataset\n",
        "dataset = dataset.merge(messages_agg, on= ['user_id', 'month'], how='left')\n",
        "dataset.info()"
      ]
    },
    {
      "cell_type": "markdown",
      "metadata": {
        "id": "glJaOCaWFsaP"
      },
      "source": [
        "After combining all of use of call, internet, and message service to users, several dropping are needed:\n",
        "1. Rows of observed data with missing values in all three columns: duration, mb_used, and sms as this means there are no service used by each user_id on each particular month\n",
        "2. Columns that irrelevant to analysis of revenue"
      ]
    },
    {
      "cell_type": "code",
      "execution_count": null,
      "metadata": {
        "id": "lCdur2zuFsaQ"
      },
      "outputs": [],
      "source": [
        "# Drop rows with missing values in all three columns: duration, mb_used, and sms\n",
        "dataset = dataset.loc[~((dataset['duration'].isna()) & (dataset['mb_used'].isna()) & \n",
        "                              (dataset['sms'].isna()))].reset_index()\n"
      ]
    },
    {
      "cell_type": "code",
      "execution_count": null,
      "metadata": {
        "scrolled": false,
        "id": "bu-CUVNxFsaR",
        "outputId": "407b8f79-2c77-4b1d-aefc-b6475c869b07"
      },
      "outputs": [
        {
          "data": {
            "text/html": [
              "<div>\n",
              "<style scoped>\n",
              "    .dataframe tbody tr th:only-of-type {\n",
              "        vertical-align: middle;\n",
              "    }\n",
              "\n",
              "    .dataframe tbody tr th {\n",
              "        vertical-align: top;\n",
              "    }\n",
              "\n",
              "    .dataframe thead th {\n",
              "        text-align: right;\n",
              "    }\n",
              "</style>\n",
              "<table border=\"1\" class=\"dataframe\">\n",
              "  <thead>\n",
              "    <tr style=\"text-align: right;\">\n",
              "      <th></th>\n",
              "      <th>index</th>\n",
              "      <th>user_id</th>\n",
              "      <th>key</th>\n",
              "      <th>month</th>\n",
              "      <th>first_name</th>\n",
              "      <th>last_name</th>\n",
              "      <th>age</th>\n",
              "      <th>city</th>\n",
              "      <th>reg_date</th>\n",
              "      <th>plan</th>\n",
              "      <th>...</th>\n",
              "      <th>usd_monthly_pay</th>\n",
              "      <th>usd_per_gb</th>\n",
              "      <th>usd_per_message</th>\n",
              "      <th>usd_per_minute</th>\n",
              "      <th>plan_name</th>\n",
              "      <th>gb_per_month_included</th>\n",
              "      <th>duration</th>\n",
              "      <th>mb_used</th>\n",
              "      <th>gb_used</th>\n",
              "      <th>sms</th>\n",
              "    </tr>\n",
              "  </thead>\n",
              "  <tbody>\n",
              "    <tr>\n",
              "      <th>0</th>\n",
              "      <td>11</td>\n",
              "      <td>1000</td>\n",
              "      <td>1</td>\n",
              "      <td>2018-12</td>\n",
              "      <td>Anamaria</td>\n",
              "      <td>Bauer</td>\n",
              "      <td>45</td>\n",
              "      <td>Atlanta-Sandy Springs-Roswell, GA MSA</td>\n",
              "      <td>2018-12-24</td>\n",
              "      <td>ultimate</td>\n",
              "      <td>...</td>\n",
              "      <td>70</td>\n",
              "      <td>7</td>\n",
              "      <td>0.01</td>\n",
              "      <td>0.01</td>\n",
              "      <td>ultimate</td>\n",
              "      <td>30.0</td>\n",
              "      <td>124.0</td>\n",
              "      <td>1901.47</td>\n",
              "      <td>2.0</td>\n",
              "      <td>11.0</td>\n",
              "    </tr>\n",
              "    <tr>\n",
              "      <th>1</th>\n",
              "      <td>19</td>\n",
              "      <td>1001</td>\n",
              "      <td>1</td>\n",
              "      <td>2018-08</td>\n",
              "      <td>Mickey</td>\n",
              "      <td>Wilkerson</td>\n",
              "      <td>28</td>\n",
              "      <td>Seattle-Tacoma-Bellevue, WA MSA</td>\n",
              "      <td>2018-08-13</td>\n",
              "      <td>surf</td>\n",
              "      <td>...</td>\n",
              "      <td>20</td>\n",
              "      <td>10</td>\n",
              "      <td>0.03</td>\n",
              "      <td>0.03</td>\n",
              "      <td>surf</td>\n",
              "      <td>15.0</td>\n",
              "      <td>182.0</td>\n",
              "      <td>7131.50</td>\n",
              "      <td>7.0</td>\n",
              "      <td>30.0</td>\n",
              "    </tr>\n",
              "    <tr>\n",
              "      <th>2</th>\n",
              "      <td>20</td>\n",
              "      <td>1001</td>\n",
              "      <td>1</td>\n",
              "      <td>2018-09</td>\n",
              "      <td>Mickey</td>\n",
              "      <td>Wilkerson</td>\n",
              "      <td>28</td>\n",
              "      <td>Seattle-Tacoma-Bellevue, WA MSA</td>\n",
              "      <td>2018-08-13</td>\n",
              "      <td>surf</td>\n",
              "      <td>...</td>\n",
              "      <td>20</td>\n",
              "      <td>10</td>\n",
              "      <td>0.03</td>\n",
              "      <td>0.03</td>\n",
              "      <td>surf</td>\n",
              "      <td>15.0</td>\n",
              "      <td>315.0</td>\n",
              "      <td>13311.04</td>\n",
              "      <td>13.0</td>\n",
              "      <td>44.0</td>\n",
              "    </tr>\n",
              "    <tr>\n",
              "      <th>3</th>\n",
              "      <td>21</td>\n",
              "      <td>1001</td>\n",
              "      <td>1</td>\n",
              "      <td>2018-10</td>\n",
              "      <td>Mickey</td>\n",
              "      <td>Wilkerson</td>\n",
              "      <td>28</td>\n",
              "      <td>Seattle-Tacoma-Bellevue, WA MSA</td>\n",
              "      <td>2018-08-13</td>\n",
              "      <td>surf</td>\n",
              "      <td>...</td>\n",
              "      <td>20</td>\n",
              "      <td>10</td>\n",
              "      <td>0.03</td>\n",
              "      <td>0.03</td>\n",
              "      <td>surf</td>\n",
              "      <td>15.0</td>\n",
              "      <td>393.0</td>\n",
              "      <td>20406.45</td>\n",
              "      <td>20.0</td>\n",
              "      <td>53.0</td>\n",
              "    </tr>\n",
              "    <tr>\n",
              "      <th>4</th>\n",
              "      <td>22</td>\n",
              "      <td>1001</td>\n",
              "      <td>1</td>\n",
              "      <td>2018-11</td>\n",
              "      <td>Mickey</td>\n",
              "      <td>Wilkerson</td>\n",
              "      <td>28</td>\n",
              "      <td>Seattle-Tacoma-Bellevue, WA MSA</td>\n",
              "      <td>2018-08-13</td>\n",
              "      <td>surf</td>\n",
              "      <td>...</td>\n",
              "      <td>20</td>\n",
              "      <td>10</td>\n",
              "      <td>0.03</td>\n",
              "      <td>0.03</td>\n",
              "      <td>surf</td>\n",
              "      <td>15.0</td>\n",
              "      <td>426.0</td>\n",
              "      <td>20873.07</td>\n",
              "      <td>21.0</td>\n",
              "      <td>36.0</td>\n",
              "    </tr>\n",
              "  </tbody>\n",
              "</table>\n",
              "<p>5 rows × 24 columns</p>\n",
              "</div>"
            ],
            "text/plain": [
              "   index  user_id  key    month first_name  last_name  age  \\\n",
              "0     11     1000    1  2018-12   Anamaria      Bauer   45   \n",
              "1     19     1001    1  2018-08     Mickey  Wilkerson   28   \n",
              "2     20     1001    1  2018-09     Mickey  Wilkerson   28   \n",
              "3     21     1001    1  2018-10     Mickey  Wilkerson   28   \n",
              "4     22     1001    1  2018-11     Mickey  Wilkerson   28   \n",
              "\n",
              "                                    city   reg_date      plan  ...  \\\n",
              "0  Atlanta-Sandy Springs-Roswell, GA MSA 2018-12-24  ultimate  ...   \n",
              "1        Seattle-Tacoma-Bellevue, WA MSA 2018-08-13      surf  ...   \n",
              "2        Seattle-Tacoma-Bellevue, WA MSA 2018-08-13      surf  ...   \n",
              "3        Seattle-Tacoma-Bellevue, WA MSA 2018-08-13      surf  ...   \n",
              "4        Seattle-Tacoma-Bellevue, WA MSA 2018-08-13      surf  ...   \n",
              "\n",
              "  usd_monthly_pay  usd_per_gb  usd_per_message  usd_per_minute  plan_name  \\\n",
              "0              70           7             0.01            0.01   ultimate   \n",
              "1              20          10             0.03            0.03       surf   \n",
              "2              20          10             0.03            0.03       surf   \n",
              "3              20          10             0.03            0.03       surf   \n",
              "4              20          10             0.03            0.03       surf   \n",
              "\n",
              "   gb_per_month_included  duration   mb_used gb_used   sms  \n",
              "0                   30.0     124.0   1901.47     2.0  11.0  \n",
              "1                   15.0     182.0   7131.50     7.0  30.0  \n",
              "2                   15.0     315.0  13311.04    13.0  44.0  \n",
              "3                   15.0     393.0  20406.45    20.0  53.0  \n",
              "4                   15.0     426.0  20873.07    21.0  36.0  \n",
              "\n",
              "[5 rows x 24 columns]"
            ]
          },
          "execution_count": 52,
          "metadata": {},
          "output_type": "execute_result"
        }
      ],
      "source": [
        "# Check data sample\n",
        "dataset.head()"
      ]
    },
    {
      "cell_type": "code",
      "execution_count": null,
      "metadata": {
        "id": "--N6PHAiFsaS",
        "outputId": "dd074e3c-c99a-47e6-d148-b9483a4d8a84"
      },
      "outputs": [
        {
          "data": {
            "text/plain": [
              "(3844, 24)"
            ]
          },
          "execution_count": 53,
          "metadata": {},
          "output_type": "execute_result"
        }
      ],
      "source": [
        "dataset.shape"
      ]
    },
    {
      "cell_type": "code",
      "execution_count": null,
      "metadata": {
        "id": "xD2qFPedFsaT",
        "outputId": "569fa4f1-6402-4c4b-c05f-73f3e14567fa"
      },
      "outputs": [
        {
          "name": "stdout",
          "output_type": "stream",
          "text": [
            "<class 'pandas.core.frame.DataFrame'>\n",
            "RangeIndex: 3844 entries, 0 to 3843\n",
            "Data columns (total 24 columns):\n",
            " #   Column                 Non-Null Count  Dtype         \n",
            "---  ------                 --------------  -----         \n",
            " 0   index                  3844 non-null   int64         \n",
            " 1   user_id                3844 non-null   int64         \n",
            " 2   key                    3844 non-null   int64         \n",
            " 3   month                  3844 non-null   period[M]     \n",
            " 4   first_name             3844 non-null   object        \n",
            " 5   last_name              3844 non-null   object        \n",
            " 6   age                    3844 non-null   int64         \n",
            " 7   city                   3844 non-null   object        \n",
            " 8   reg_date               3844 non-null   datetime64[ns]\n",
            " 9   plan                   3844 non-null   object        \n",
            " 10  churn_date             244 non-null    datetime64[ns]\n",
            " 11  messages_included      3844 non-null   int64         \n",
            " 12  mb_per_month_included  3844 non-null   int64         \n",
            " 13  minutes_included       3844 non-null   int64         \n",
            " 14  usd_monthly_pay        3844 non-null   int64         \n",
            " 15  usd_per_gb             3844 non-null   int64         \n",
            " 16  usd_per_message        3844 non-null   float64       \n",
            " 17  usd_per_minute         3844 non-null   float64       \n",
            " 18  plan_name              3844 non-null   object        \n",
            " 19  gb_per_month_included  3844 non-null   float64       \n",
            " 20  duration               2258 non-null   float64       \n",
            " 21  mb_used                3611 non-null   float64       \n",
            " 22  gb_used                3611 non-null   float64       \n",
            " 23  sms                    1806 non-null   float64       \n",
            "dtypes: datetime64[ns](2), float64(7), int64(9), object(5), period[M](1)\n",
            "memory usage: 720.9+ KB\n"
          ]
        }
      ],
      "source": [
        "# Check general info\n",
        "dataset.info()"
      ]
    },
    {
      "cell_type": "markdown",
      "metadata": {
        "id": "Am-bsjwNFsaU"
      },
      "source": [
        "After dropping rows with missing values in all three columns: duration, mb_used, and sms, the current dataset has 3,844 rows.\n",
        "\n",
        "In the next step, missing values in each duration, mb_used, gb_used, and sms is filled with 0 as this represents no use of each particular service for each particular month.\n",
        "\n",
        "After that, columns that are irrelevant to further analysis are dropped."
      ]
    },
    {
      "cell_type": "code",
      "execution_count": null,
      "metadata": {
        "id": "LlzudQzhFsaU"
      },
      "outputs": [],
      "source": [
        "# Fill with 0 each missing values in each column: duration, mb_used, gb_used, and sms\n",
        "fillna_columns = ['duration', 'mb_used', 'gb_used', 'sms']\n",
        "for column in fillna_columns:\n",
        "    dataset[column] = dataset[column].fillna(0)"
      ]
    },
    {
      "cell_type": "code",
      "execution_count": null,
      "metadata": {
        "id": "8r2LHhmCFsaV",
        "outputId": "6619634b-6801-44bf-9354-5f8cb59515ea"
      },
      "outputs": [
        {
          "name": "stdout",
          "output_type": "stream",
          "text": [
            "<class 'pandas.core.frame.DataFrame'>\n",
            "RangeIndex: 3844 entries, 0 to 3843\n",
            "Data columns (total 24 columns):\n",
            " #   Column                 Non-Null Count  Dtype         \n",
            "---  ------                 --------------  -----         \n",
            " 0   index                  3844 non-null   int64         \n",
            " 1   user_id                3844 non-null   int64         \n",
            " 2   key                    3844 non-null   int64         \n",
            " 3   month                  3844 non-null   period[M]     \n",
            " 4   first_name             3844 non-null   object        \n",
            " 5   last_name              3844 non-null   object        \n",
            " 6   age                    3844 non-null   int64         \n",
            " 7   city                   3844 non-null   object        \n",
            " 8   reg_date               3844 non-null   datetime64[ns]\n",
            " 9   plan                   3844 non-null   object        \n",
            " 10  churn_date             244 non-null    datetime64[ns]\n",
            " 11  messages_included      3844 non-null   int64         \n",
            " 12  mb_per_month_included  3844 non-null   int64         \n",
            " 13  minutes_included       3844 non-null   int64         \n",
            " 14  usd_monthly_pay        3844 non-null   int64         \n",
            " 15  usd_per_gb             3844 non-null   int64         \n",
            " 16  usd_per_message        3844 non-null   float64       \n",
            " 17  usd_per_minute         3844 non-null   float64       \n",
            " 18  plan_name              3844 non-null   object        \n",
            " 19  gb_per_month_included  3844 non-null   float64       \n",
            " 20  duration               3844 non-null   float64       \n",
            " 21  mb_used                3844 non-null   float64       \n",
            " 22  gb_used                3844 non-null   float64       \n",
            " 23  sms                    3844 non-null   float64       \n",
            "dtypes: datetime64[ns](2), float64(7), int64(9), object(5), period[M](1)\n",
            "memory usage: 720.9+ KB\n"
          ]
        }
      ],
      "source": [
        "# Re-check general info\n",
        "dataset.info()"
      ]
    },
    {
      "cell_type": "code",
      "execution_count": null,
      "metadata": {
        "scrolled": false,
        "id": "LkTob0uAFsaW",
        "outputId": "654db88e-39fd-4e3a-baa9-13506b0913c0"
      },
      "outputs": [
        {
          "data": {
            "text/html": [
              "<div>\n",
              "<style scoped>\n",
              "    .dataframe tbody tr th:only-of-type {\n",
              "        vertical-align: middle;\n",
              "    }\n",
              "\n",
              "    .dataframe tbody tr th {\n",
              "        vertical-align: top;\n",
              "    }\n",
              "\n",
              "    .dataframe thead th {\n",
              "        text-align: right;\n",
              "    }\n",
              "</style>\n",
              "<table border=\"1\" class=\"dataframe\">\n",
              "  <thead>\n",
              "    <tr style=\"text-align: right;\">\n",
              "      <th></th>\n",
              "      <th>index</th>\n",
              "      <th>user_id</th>\n",
              "      <th>month</th>\n",
              "      <th>city</th>\n",
              "      <th>reg_date</th>\n",
              "      <th>plan</th>\n",
              "      <th>churn_date</th>\n",
              "      <th>messages_included</th>\n",
              "      <th>minutes_included</th>\n",
              "      <th>usd_monthly_pay</th>\n",
              "      <th>usd_per_gb</th>\n",
              "      <th>usd_per_message</th>\n",
              "      <th>usd_per_minute</th>\n",
              "      <th>gb_per_month_included</th>\n",
              "      <th>duration</th>\n",
              "      <th>gb_used</th>\n",
              "      <th>sms</th>\n",
              "    </tr>\n",
              "  </thead>\n",
              "  <tbody>\n",
              "    <tr>\n",
              "      <th>0</th>\n",
              "      <td>11</td>\n",
              "      <td>1000</td>\n",
              "      <td>2018-12</td>\n",
              "      <td>Atlanta-Sandy Springs-Roswell, GA MSA</td>\n",
              "      <td>2018-12-24</td>\n",
              "      <td>ultimate</td>\n",
              "      <td>NaT</td>\n",
              "      <td>1000</td>\n",
              "      <td>3000</td>\n",
              "      <td>70</td>\n",
              "      <td>7</td>\n",
              "      <td>0.01</td>\n",
              "      <td>0.01</td>\n",
              "      <td>30.0</td>\n",
              "      <td>124.0</td>\n",
              "      <td>2.0</td>\n",
              "      <td>11.0</td>\n",
              "    </tr>\n",
              "    <tr>\n",
              "      <th>1</th>\n",
              "      <td>19</td>\n",
              "      <td>1001</td>\n",
              "      <td>2018-08</td>\n",
              "      <td>Seattle-Tacoma-Bellevue, WA MSA</td>\n",
              "      <td>2018-08-13</td>\n",
              "      <td>surf</td>\n",
              "      <td>NaT</td>\n",
              "      <td>50</td>\n",
              "      <td>500</td>\n",
              "      <td>20</td>\n",
              "      <td>10</td>\n",
              "      <td>0.03</td>\n",
              "      <td>0.03</td>\n",
              "      <td>15.0</td>\n",
              "      <td>182.0</td>\n",
              "      <td>7.0</td>\n",
              "      <td>30.0</td>\n",
              "    </tr>\n",
              "    <tr>\n",
              "      <th>2</th>\n",
              "      <td>20</td>\n",
              "      <td>1001</td>\n",
              "      <td>2018-09</td>\n",
              "      <td>Seattle-Tacoma-Bellevue, WA MSA</td>\n",
              "      <td>2018-08-13</td>\n",
              "      <td>surf</td>\n",
              "      <td>NaT</td>\n",
              "      <td>50</td>\n",
              "      <td>500</td>\n",
              "      <td>20</td>\n",
              "      <td>10</td>\n",
              "      <td>0.03</td>\n",
              "      <td>0.03</td>\n",
              "      <td>15.0</td>\n",
              "      <td>315.0</td>\n",
              "      <td>13.0</td>\n",
              "      <td>44.0</td>\n",
              "    </tr>\n",
              "    <tr>\n",
              "      <th>3</th>\n",
              "      <td>21</td>\n",
              "      <td>1001</td>\n",
              "      <td>2018-10</td>\n",
              "      <td>Seattle-Tacoma-Bellevue, WA MSA</td>\n",
              "      <td>2018-08-13</td>\n",
              "      <td>surf</td>\n",
              "      <td>NaT</td>\n",
              "      <td>50</td>\n",
              "      <td>500</td>\n",
              "      <td>20</td>\n",
              "      <td>10</td>\n",
              "      <td>0.03</td>\n",
              "      <td>0.03</td>\n",
              "      <td>15.0</td>\n",
              "      <td>393.0</td>\n",
              "      <td>20.0</td>\n",
              "      <td>53.0</td>\n",
              "    </tr>\n",
              "    <tr>\n",
              "      <th>4</th>\n",
              "      <td>22</td>\n",
              "      <td>1001</td>\n",
              "      <td>2018-11</td>\n",
              "      <td>Seattle-Tacoma-Bellevue, WA MSA</td>\n",
              "      <td>2018-08-13</td>\n",
              "      <td>surf</td>\n",
              "      <td>NaT</td>\n",
              "      <td>50</td>\n",
              "      <td>500</td>\n",
              "      <td>20</td>\n",
              "      <td>10</td>\n",
              "      <td>0.03</td>\n",
              "      <td>0.03</td>\n",
              "      <td>15.0</td>\n",
              "      <td>426.0</td>\n",
              "      <td>21.0</td>\n",
              "      <td>36.0</td>\n",
              "    </tr>\n",
              "  </tbody>\n",
              "</table>\n",
              "</div>"
            ],
            "text/plain": [
              "   index  user_id    month                                   city   reg_date  \\\n",
              "0     11     1000  2018-12  Atlanta-Sandy Springs-Roswell, GA MSA 2018-12-24   \n",
              "1     19     1001  2018-08        Seattle-Tacoma-Bellevue, WA MSA 2018-08-13   \n",
              "2     20     1001  2018-09        Seattle-Tacoma-Bellevue, WA MSA 2018-08-13   \n",
              "3     21     1001  2018-10        Seattle-Tacoma-Bellevue, WA MSA 2018-08-13   \n",
              "4     22     1001  2018-11        Seattle-Tacoma-Bellevue, WA MSA 2018-08-13   \n",
              "\n",
              "       plan churn_date  messages_included  minutes_included  usd_monthly_pay  \\\n",
              "0  ultimate        NaT               1000              3000               70   \n",
              "1      surf        NaT                 50               500               20   \n",
              "2      surf        NaT                 50               500               20   \n",
              "3      surf        NaT                 50               500               20   \n",
              "4      surf        NaT                 50               500               20   \n",
              "\n",
              "   usd_per_gb  usd_per_message  usd_per_minute  gb_per_month_included  \\\n",
              "0           7             0.01            0.01                   30.0   \n",
              "1          10             0.03            0.03                   15.0   \n",
              "2          10             0.03            0.03                   15.0   \n",
              "3          10             0.03            0.03                   15.0   \n",
              "4          10             0.03            0.03                   15.0   \n",
              "\n",
              "   duration  gb_used   sms  \n",
              "0     124.0      2.0  11.0  \n",
              "1     182.0      7.0  30.0  \n",
              "2     315.0     13.0  44.0  \n",
              "3     393.0     20.0  53.0  \n",
              "4     426.0     21.0  36.0  "
            ]
          },
          "execution_count": 57,
          "metadata": {},
          "output_type": "execute_result"
        }
      ],
      "source": [
        "# Drop all the irrelevant columns to analysis\n",
        "drop_columns = ['first_name', 'last_name', 'age', 'plan_name', 'mb_per_month_included', 'mb_used', 'key']\n",
        "dataset.drop(drop_columns, axis=1, inplace=True)\n",
        "dataset.head()"
      ]
    },
    {
      "cell_type": "markdown",
      "metadata": {
        "id": "qLJFQWHzFsaY"
      },
      "source": [
        "In the next step, cities names are shortened for further analysis on NY-NJ area clients' behavior."
      ]
    },
    {
      "cell_type": "code",
      "execution_count": null,
      "metadata": {
        "scrolled": true,
        "id": "E78gpyZ9FsaZ"
      },
      "outputs": [],
      "source": [
        "# Shorten name of city\n",
        "dataset['city'] = dataset['city'].str.split(', ').str[1]\n",
        "dataset['city'] = dataset['city'].str.replace(' MSA', '')"
      ]
    },
    {
      "cell_type": "code",
      "execution_count": null,
      "metadata": {
        "scrolled": false,
        "id": "3p1QGhFmFsaZ",
        "outputId": "78dcaded-737a-4153-b9e4-03c940d7756f"
      },
      "outputs": [
        {
          "name": "stdout",
          "output_type": "stream",
          "text": [
            "<class 'pandas.core.frame.DataFrame'>\n",
            "RangeIndex: 3844 entries, 0 to 3843\n",
            "Data columns (total 17 columns):\n",
            " #   Column                 Non-Null Count  Dtype         \n",
            "---  ------                 --------------  -----         \n",
            " 0   index                  3844 non-null   int64         \n",
            " 1   user_id                3844 non-null   int64         \n",
            " 2   month                  3844 non-null   period[M]     \n",
            " 3   city                   3844 non-null   object        \n",
            " 4   reg_date               3844 non-null   datetime64[ns]\n",
            " 5   plan                   3844 non-null   object        \n",
            " 6   churn_date             244 non-null    datetime64[ns]\n",
            " 7   messages_included      3844 non-null   int64         \n",
            " 8   minutes_included       3844 non-null   int64         \n",
            " 9   usd_monthly_pay        3844 non-null   int64         \n",
            " 10  usd_per_gb             3844 non-null   int64         \n",
            " 11  usd_per_message        3844 non-null   float64       \n",
            " 12  usd_per_minute         3844 non-null   float64       \n",
            " 13  gb_per_month_included  3844 non-null   float64       \n",
            " 14  duration               3844 non-null   float64       \n",
            " 15  gb_used                3844 non-null   float64       \n",
            " 16  sms                    3844 non-null   float64       \n",
            "dtypes: datetime64[ns](2), float64(6), int64(6), object(2), period[M](1)\n",
            "memory usage: 510.7+ KB\n"
          ]
        }
      ],
      "source": [
        "# Re-check general info\n",
        "dataset.info()"
      ]
    },
    {
      "cell_type": "code",
      "execution_count": null,
      "metadata": {
        "scrolled": true,
        "id": "uKfJdOttFsaa",
        "outputId": "39bd1588-459e-4b32-eb84-7d5dfcf2274f"
      },
      "outputs": [
        {
          "data": {
            "text/html": [
              "<div>\n",
              "<style scoped>\n",
              "    .dataframe tbody tr th:only-of-type {\n",
              "        vertical-align: middle;\n",
              "    }\n",
              "\n",
              "    .dataframe tbody tr th {\n",
              "        vertical-align: top;\n",
              "    }\n",
              "\n",
              "    .dataframe thead th {\n",
              "        text-align: right;\n",
              "    }\n",
              "</style>\n",
              "<table border=\"1\" class=\"dataframe\">\n",
              "  <thead>\n",
              "    <tr style=\"text-align: right;\">\n",
              "      <th></th>\n",
              "      <th>index</th>\n",
              "      <th>user_id</th>\n",
              "      <th>month</th>\n",
              "      <th>city</th>\n",
              "      <th>reg_date</th>\n",
              "      <th>plan</th>\n",
              "      <th>churn_date</th>\n",
              "      <th>messages_included</th>\n",
              "      <th>minutes_included</th>\n",
              "      <th>usd_monthly_pay</th>\n",
              "      <th>usd_per_gb</th>\n",
              "      <th>usd_per_message</th>\n",
              "      <th>usd_per_minute</th>\n",
              "      <th>gb_per_month_included</th>\n",
              "      <th>duration</th>\n",
              "      <th>gb_used</th>\n",
              "      <th>sms</th>\n",
              "    </tr>\n",
              "  </thead>\n",
              "  <tbody>\n",
              "    <tr>\n",
              "      <th>0</th>\n",
              "      <td>11</td>\n",
              "      <td>1000</td>\n",
              "      <td>2018-12</td>\n",
              "      <td>GA</td>\n",
              "      <td>2018-12-24</td>\n",
              "      <td>ultimate</td>\n",
              "      <td>NaT</td>\n",
              "      <td>1000</td>\n",
              "      <td>3000</td>\n",
              "      <td>70</td>\n",
              "      <td>7</td>\n",
              "      <td>0.01</td>\n",
              "      <td>0.01</td>\n",
              "      <td>30.0</td>\n",
              "      <td>124.0</td>\n",
              "      <td>2.0</td>\n",
              "      <td>11.0</td>\n",
              "    </tr>\n",
              "    <tr>\n",
              "      <th>1</th>\n",
              "      <td>19</td>\n",
              "      <td>1001</td>\n",
              "      <td>2018-08</td>\n",
              "      <td>WA</td>\n",
              "      <td>2018-08-13</td>\n",
              "      <td>surf</td>\n",
              "      <td>NaT</td>\n",
              "      <td>50</td>\n",
              "      <td>500</td>\n",
              "      <td>20</td>\n",
              "      <td>10</td>\n",
              "      <td>0.03</td>\n",
              "      <td>0.03</td>\n",
              "      <td>15.0</td>\n",
              "      <td>182.0</td>\n",
              "      <td>7.0</td>\n",
              "      <td>30.0</td>\n",
              "    </tr>\n",
              "    <tr>\n",
              "      <th>2</th>\n",
              "      <td>20</td>\n",
              "      <td>1001</td>\n",
              "      <td>2018-09</td>\n",
              "      <td>WA</td>\n",
              "      <td>2018-08-13</td>\n",
              "      <td>surf</td>\n",
              "      <td>NaT</td>\n",
              "      <td>50</td>\n",
              "      <td>500</td>\n",
              "      <td>20</td>\n",
              "      <td>10</td>\n",
              "      <td>0.03</td>\n",
              "      <td>0.03</td>\n",
              "      <td>15.0</td>\n",
              "      <td>315.0</td>\n",
              "      <td>13.0</td>\n",
              "      <td>44.0</td>\n",
              "    </tr>\n",
              "    <tr>\n",
              "      <th>3</th>\n",
              "      <td>21</td>\n",
              "      <td>1001</td>\n",
              "      <td>2018-10</td>\n",
              "      <td>WA</td>\n",
              "      <td>2018-08-13</td>\n",
              "      <td>surf</td>\n",
              "      <td>NaT</td>\n",
              "      <td>50</td>\n",
              "      <td>500</td>\n",
              "      <td>20</td>\n",
              "      <td>10</td>\n",
              "      <td>0.03</td>\n",
              "      <td>0.03</td>\n",
              "      <td>15.0</td>\n",
              "      <td>393.0</td>\n",
              "      <td>20.0</td>\n",
              "      <td>53.0</td>\n",
              "    </tr>\n",
              "    <tr>\n",
              "      <th>4</th>\n",
              "      <td>22</td>\n",
              "      <td>1001</td>\n",
              "      <td>2018-11</td>\n",
              "      <td>WA</td>\n",
              "      <td>2018-08-13</td>\n",
              "      <td>surf</td>\n",
              "      <td>NaT</td>\n",
              "      <td>50</td>\n",
              "      <td>500</td>\n",
              "      <td>20</td>\n",
              "      <td>10</td>\n",
              "      <td>0.03</td>\n",
              "      <td>0.03</td>\n",
              "      <td>15.0</td>\n",
              "      <td>426.0</td>\n",
              "      <td>21.0</td>\n",
              "      <td>36.0</td>\n",
              "    </tr>\n",
              "  </tbody>\n",
              "</table>\n",
              "</div>"
            ],
            "text/plain": [
              "   index  user_id    month city   reg_date      plan churn_date  \\\n",
              "0     11     1000  2018-12   GA 2018-12-24  ultimate        NaT   \n",
              "1     19     1001  2018-08   WA 2018-08-13      surf        NaT   \n",
              "2     20     1001  2018-09   WA 2018-08-13      surf        NaT   \n",
              "3     21     1001  2018-10   WA 2018-08-13      surf        NaT   \n",
              "4     22     1001  2018-11   WA 2018-08-13      surf        NaT   \n",
              "\n",
              "   messages_included  minutes_included  usd_monthly_pay  usd_per_gb  \\\n",
              "0               1000              3000               70           7   \n",
              "1                 50               500               20          10   \n",
              "2                 50               500               20          10   \n",
              "3                 50               500               20          10   \n",
              "4                 50               500               20          10   \n",
              "\n",
              "   usd_per_message  usd_per_minute  gb_per_month_included  duration  gb_used  \\\n",
              "0             0.01            0.01                   30.0     124.0      2.0   \n",
              "1             0.03            0.03                   15.0     182.0      7.0   \n",
              "2             0.03            0.03                   15.0     315.0     13.0   \n",
              "3             0.03            0.03                   15.0     393.0     20.0   \n",
              "4             0.03            0.03                   15.0     426.0     21.0   \n",
              "\n",
              "    sms  \n",
              "0  11.0  \n",
              "1  30.0  \n",
              "2  44.0  \n",
              "3  53.0  \n",
              "4  36.0  "
            ]
          },
          "execution_count": 60,
          "metadata": {},
          "output_type": "execute_result"
        }
      ],
      "source": [
        "# Re-check data sample\n",
        "dataset.head()"
      ]
    },
    {
      "cell_type": "markdown",
      "metadata": {
        "id": "FYMzJMEaFsab"
      },
      "source": [
        "### Calculate revenue"
      ]
    },
    {
      "cell_type": "markdown",
      "metadata": {
        "id": "Wrd5xbXmFsac"
      },
      "source": [
        "In the next step, total revenue including additional charge is calculated and added to dataset"
      ]
    },
    {
      "cell_type": "code",
      "execution_count": null,
      "metadata": {
        "id": "C6cTVrFSFsad"
      },
      "outputs": [],
      "source": [
        "# Define a function that calculates exceeding limit use of service\n",
        "def column_exceed(df, column1, column2):\n",
        "    use = df[column1]\n",
        "    limit = df[column2]\n",
        "    column_exceed = []\n",
        "    for i in range(len(use)):\n",
        "        if use[i] > limit[i]:\n",
        "            exceed = use[i] - limit[i]\n",
        "        else:\n",
        "            exceed = 0\n",
        "        column_exceed.append(exceed)\n",
        "    return column_exceed"
      ]
    },
    {
      "cell_type": "code",
      "execution_count": null,
      "metadata": {
        "scrolled": false,
        "id": "QWP5KRWBFsag"
      },
      "outputs": [],
      "source": [
        "# Add new column for amount of minutes exceeding call\n",
        "dataset['exceed_minutes'] = column_exceed(dataset, 'duration', 'minutes_included')"
      ]
    },
    {
      "cell_type": "code",
      "execution_count": null,
      "metadata": {
        "id": "5fOrA9qqFsah"
      },
      "outputs": [],
      "source": [
        "# Add new column for amount of numbers exceeding messaging\n",
        "dataset['exceed_messages'] = column_exceed(dataset, 'sms', 'messages_included')"
      ]
    },
    {
      "cell_type": "code",
      "execution_count": null,
      "metadata": {
        "id": "xLWjaV3XFsaj"
      },
      "outputs": [],
      "source": [
        "# Add new column for amount of gigabyte exceeding internet\n",
        "dataset['exceed_gb'] = column_exceed(dataset, 'gb_used', 'gb_per_month_included')"
      ]
    },
    {
      "cell_type": "code",
      "execution_count": null,
      "metadata": {
        "scrolled": false,
        "id": "tTSIWdITFsak",
        "outputId": "0343f7be-1941-4d87-ede3-aa4aa44ebc2b"
      },
      "outputs": [
        {
          "data": {
            "text/plain": [
              "11031.0"
            ]
          },
          "execution_count": 65,
          "metadata": {},
          "output_type": "execute_result"
        }
      ],
      "source": [
        "# Check total exceeding messages\n",
        "dataset['exceed_messages'].sum()"
      ]
    },
    {
      "cell_type": "code",
      "execution_count": null,
      "metadata": {
        "id": "6al7OovuFsal",
        "outputId": "39fb370d-7b4d-433d-a6da-3271835b2492"
      },
      "outputs": [
        {
          "data": {
            "text/plain": [
              "96675.0"
            ]
          },
          "execution_count": 66,
          "metadata": {},
          "output_type": "execute_result"
        }
      ],
      "source": [
        "# Check total exceeding minutes of call\n",
        "dataset['exceed_minutes'].sum()"
      ]
    },
    {
      "cell_type": "code",
      "execution_count": null,
      "metadata": {
        "id": "PLe5a8J0Fsam",
        "outputId": "b1efe2af-05fa-4c46-d1e9-97fda705ae26"
      },
      "outputs": [
        {
          "data": {
            "text/plain": [
              "7131.0"
            ]
          },
          "execution_count": 67,
          "metadata": {},
          "output_type": "execute_result"
        }
      ],
      "source": [
        "# Check total exceeding gigabyte of internet data\n",
        "dataset['exceed_gb'].sum()"
      ]
    },
    {
      "cell_type": "code",
      "execution_count": null,
      "metadata": {
        "scrolled": true,
        "id": "gYT6I0x0Fsan",
        "outputId": "1c4a329b-ae48-41f8-e666-2c2416a7e8ec"
      },
      "outputs": [
        {
          "data": {
            "text/html": [
              "<div>\n",
              "<style scoped>\n",
              "    .dataframe tbody tr th:only-of-type {\n",
              "        vertical-align: middle;\n",
              "    }\n",
              "\n",
              "    .dataframe tbody tr th {\n",
              "        vertical-align: top;\n",
              "    }\n",
              "\n",
              "    .dataframe thead th {\n",
              "        text-align: right;\n",
              "    }\n",
              "</style>\n",
              "<table border=\"1\" class=\"dataframe\">\n",
              "  <thead>\n",
              "    <tr style=\"text-align: right;\">\n",
              "      <th></th>\n",
              "      <th>index</th>\n",
              "      <th>user_id</th>\n",
              "      <th>month</th>\n",
              "      <th>city</th>\n",
              "      <th>reg_date</th>\n",
              "      <th>plan</th>\n",
              "      <th>churn_date</th>\n",
              "      <th>messages_included</th>\n",
              "      <th>minutes_included</th>\n",
              "      <th>usd_monthly_pay</th>\n",
              "      <th>usd_per_gb</th>\n",
              "      <th>usd_per_message</th>\n",
              "      <th>usd_per_minute</th>\n",
              "      <th>gb_per_month_included</th>\n",
              "      <th>duration</th>\n",
              "      <th>gb_used</th>\n",
              "      <th>sms</th>\n",
              "      <th>exceed_minutes</th>\n",
              "      <th>exceed_messages</th>\n",
              "      <th>exceed_gb</th>\n",
              "    </tr>\n",
              "  </thead>\n",
              "  <tbody>\n",
              "    <tr>\n",
              "      <th>0</th>\n",
              "      <td>11</td>\n",
              "      <td>1000</td>\n",
              "      <td>2018-12</td>\n",
              "      <td>GA</td>\n",
              "      <td>2018-12-24</td>\n",
              "      <td>ultimate</td>\n",
              "      <td>NaT</td>\n",
              "      <td>1000</td>\n",
              "      <td>3000</td>\n",
              "      <td>70</td>\n",
              "      <td>7</td>\n",
              "      <td>0.01</td>\n",
              "      <td>0.01</td>\n",
              "      <td>30.0</td>\n",
              "      <td>124.0</td>\n",
              "      <td>2.0</td>\n",
              "      <td>11.0</td>\n",
              "      <td>0.0</td>\n",
              "      <td>0.0</td>\n",
              "      <td>0.0</td>\n",
              "    </tr>\n",
              "    <tr>\n",
              "      <th>1</th>\n",
              "      <td>19</td>\n",
              "      <td>1001</td>\n",
              "      <td>2018-08</td>\n",
              "      <td>WA</td>\n",
              "      <td>2018-08-13</td>\n",
              "      <td>surf</td>\n",
              "      <td>NaT</td>\n",
              "      <td>50</td>\n",
              "      <td>500</td>\n",
              "      <td>20</td>\n",
              "      <td>10</td>\n",
              "      <td>0.03</td>\n",
              "      <td>0.03</td>\n",
              "      <td>15.0</td>\n",
              "      <td>182.0</td>\n",
              "      <td>7.0</td>\n",
              "      <td>30.0</td>\n",
              "      <td>0.0</td>\n",
              "      <td>0.0</td>\n",
              "      <td>0.0</td>\n",
              "    </tr>\n",
              "    <tr>\n",
              "      <th>2</th>\n",
              "      <td>20</td>\n",
              "      <td>1001</td>\n",
              "      <td>2018-09</td>\n",
              "      <td>WA</td>\n",
              "      <td>2018-08-13</td>\n",
              "      <td>surf</td>\n",
              "      <td>NaT</td>\n",
              "      <td>50</td>\n",
              "      <td>500</td>\n",
              "      <td>20</td>\n",
              "      <td>10</td>\n",
              "      <td>0.03</td>\n",
              "      <td>0.03</td>\n",
              "      <td>15.0</td>\n",
              "      <td>315.0</td>\n",
              "      <td>13.0</td>\n",
              "      <td>44.0</td>\n",
              "      <td>0.0</td>\n",
              "      <td>0.0</td>\n",
              "      <td>0.0</td>\n",
              "    </tr>\n",
              "    <tr>\n",
              "      <th>3</th>\n",
              "      <td>21</td>\n",
              "      <td>1001</td>\n",
              "      <td>2018-10</td>\n",
              "      <td>WA</td>\n",
              "      <td>2018-08-13</td>\n",
              "      <td>surf</td>\n",
              "      <td>NaT</td>\n",
              "      <td>50</td>\n",
              "      <td>500</td>\n",
              "      <td>20</td>\n",
              "      <td>10</td>\n",
              "      <td>0.03</td>\n",
              "      <td>0.03</td>\n",
              "      <td>15.0</td>\n",
              "      <td>393.0</td>\n",
              "      <td>20.0</td>\n",
              "      <td>53.0</td>\n",
              "      <td>0.0</td>\n",
              "      <td>3.0</td>\n",
              "      <td>5.0</td>\n",
              "    </tr>\n",
              "    <tr>\n",
              "      <th>4</th>\n",
              "      <td>22</td>\n",
              "      <td>1001</td>\n",
              "      <td>2018-11</td>\n",
              "      <td>WA</td>\n",
              "      <td>2018-08-13</td>\n",
              "      <td>surf</td>\n",
              "      <td>NaT</td>\n",
              "      <td>50</td>\n",
              "      <td>500</td>\n",
              "      <td>20</td>\n",
              "      <td>10</td>\n",
              "      <td>0.03</td>\n",
              "      <td>0.03</td>\n",
              "      <td>15.0</td>\n",
              "      <td>426.0</td>\n",
              "      <td>21.0</td>\n",
              "      <td>36.0</td>\n",
              "      <td>0.0</td>\n",
              "      <td>0.0</td>\n",
              "      <td>6.0</td>\n",
              "    </tr>\n",
              "  </tbody>\n",
              "</table>\n",
              "</div>"
            ],
            "text/plain": [
              "   index  user_id    month city   reg_date      plan churn_date  \\\n",
              "0     11     1000  2018-12   GA 2018-12-24  ultimate        NaT   \n",
              "1     19     1001  2018-08   WA 2018-08-13      surf        NaT   \n",
              "2     20     1001  2018-09   WA 2018-08-13      surf        NaT   \n",
              "3     21     1001  2018-10   WA 2018-08-13      surf        NaT   \n",
              "4     22     1001  2018-11   WA 2018-08-13      surf        NaT   \n",
              "\n",
              "   messages_included  minutes_included  usd_monthly_pay  usd_per_gb  \\\n",
              "0               1000              3000               70           7   \n",
              "1                 50               500               20          10   \n",
              "2                 50               500               20          10   \n",
              "3                 50               500               20          10   \n",
              "4                 50               500               20          10   \n",
              "\n",
              "   usd_per_message  usd_per_minute  gb_per_month_included  duration  gb_used  \\\n",
              "0             0.01            0.01                   30.0     124.0      2.0   \n",
              "1             0.03            0.03                   15.0     182.0      7.0   \n",
              "2             0.03            0.03                   15.0     315.0     13.0   \n",
              "3             0.03            0.03                   15.0     393.0     20.0   \n",
              "4             0.03            0.03                   15.0     426.0     21.0   \n",
              "\n",
              "    sms  exceed_minutes  exceed_messages  exceed_gb  \n",
              "0  11.0             0.0              0.0        0.0  \n",
              "1  30.0             0.0              0.0        0.0  \n",
              "2  44.0             0.0              0.0        0.0  \n",
              "3  53.0             0.0              3.0        5.0  \n",
              "4  36.0             0.0              0.0        6.0  "
            ]
          },
          "execution_count": 68,
          "metadata": {},
          "output_type": "execute_result"
        }
      ],
      "source": [
        "# Check data samples\n",
        "dataset.head()"
      ]
    },
    {
      "cell_type": "code",
      "execution_count": null,
      "metadata": {
        "id": "e8iRUfjpFsan",
        "outputId": "c183d37c-fad8-4463-96e7-ab054d28ad47"
      },
      "outputs": [
        {
          "data": {
            "text/html": [
              "<div>\n",
              "<style scoped>\n",
              "    .dataframe tbody tr th:only-of-type {\n",
              "        vertical-align: middle;\n",
              "    }\n",
              "\n",
              "    .dataframe tbody tr th {\n",
              "        vertical-align: top;\n",
              "    }\n",
              "\n",
              "    .dataframe thead th {\n",
              "        text-align: right;\n",
              "    }\n",
              "</style>\n",
              "<table border=\"1\" class=\"dataframe\">\n",
              "  <thead>\n",
              "    <tr style=\"text-align: right;\">\n",
              "      <th></th>\n",
              "      <th>index</th>\n",
              "      <th>user_id</th>\n",
              "      <th>month</th>\n",
              "      <th>city</th>\n",
              "      <th>reg_date</th>\n",
              "      <th>plan</th>\n",
              "      <th>churn_date</th>\n",
              "      <th>messages_included</th>\n",
              "      <th>minutes_included</th>\n",
              "      <th>usd_monthly_pay</th>\n",
              "      <th>...</th>\n",
              "      <th>duration</th>\n",
              "      <th>gb_used</th>\n",
              "      <th>sms</th>\n",
              "      <th>exceed_minutes</th>\n",
              "      <th>exceed_messages</th>\n",
              "      <th>exceed_gb</th>\n",
              "      <th>add_charge_calls</th>\n",
              "      <th>add_charge_internet</th>\n",
              "      <th>add_charge_messages</th>\n",
              "      <th>total_usd_pay</th>\n",
              "    </tr>\n",
              "  </thead>\n",
              "  <tbody>\n",
              "    <tr>\n",
              "      <th>0</th>\n",
              "      <td>11</td>\n",
              "      <td>1000</td>\n",
              "      <td>2018-12</td>\n",
              "      <td>GA</td>\n",
              "      <td>2018-12-24</td>\n",
              "      <td>ultimate</td>\n",
              "      <td>NaT</td>\n",
              "      <td>1000</td>\n",
              "      <td>3000</td>\n",
              "      <td>70</td>\n",
              "      <td>...</td>\n",
              "      <td>124.0</td>\n",
              "      <td>2.0</td>\n",
              "      <td>11.0</td>\n",
              "      <td>0.0</td>\n",
              "      <td>0.0</td>\n",
              "      <td>0.0</td>\n",
              "      <td>0.0</td>\n",
              "      <td>0.0</td>\n",
              "      <td>0.00</td>\n",
              "      <td>70.00</td>\n",
              "    </tr>\n",
              "    <tr>\n",
              "      <th>1</th>\n",
              "      <td>19</td>\n",
              "      <td>1001</td>\n",
              "      <td>2018-08</td>\n",
              "      <td>WA</td>\n",
              "      <td>2018-08-13</td>\n",
              "      <td>surf</td>\n",
              "      <td>NaT</td>\n",
              "      <td>50</td>\n",
              "      <td>500</td>\n",
              "      <td>20</td>\n",
              "      <td>...</td>\n",
              "      <td>182.0</td>\n",
              "      <td>7.0</td>\n",
              "      <td>30.0</td>\n",
              "      <td>0.0</td>\n",
              "      <td>0.0</td>\n",
              "      <td>0.0</td>\n",
              "      <td>0.0</td>\n",
              "      <td>0.0</td>\n",
              "      <td>0.00</td>\n",
              "      <td>20.00</td>\n",
              "    </tr>\n",
              "    <tr>\n",
              "      <th>2</th>\n",
              "      <td>20</td>\n",
              "      <td>1001</td>\n",
              "      <td>2018-09</td>\n",
              "      <td>WA</td>\n",
              "      <td>2018-08-13</td>\n",
              "      <td>surf</td>\n",
              "      <td>NaT</td>\n",
              "      <td>50</td>\n",
              "      <td>500</td>\n",
              "      <td>20</td>\n",
              "      <td>...</td>\n",
              "      <td>315.0</td>\n",
              "      <td>13.0</td>\n",
              "      <td>44.0</td>\n",
              "      <td>0.0</td>\n",
              "      <td>0.0</td>\n",
              "      <td>0.0</td>\n",
              "      <td>0.0</td>\n",
              "      <td>0.0</td>\n",
              "      <td>0.00</td>\n",
              "      <td>20.00</td>\n",
              "    </tr>\n",
              "    <tr>\n",
              "      <th>3</th>\n",
              "      <td>21</td>\n",
              "      <td>1001</td>\n",
              "      <td>2018-10</td>\n",
              "      <td>WA</td>\n",
              "      <td>2018-08-13</td>\n",
              "      <td>surf</td>\n",
              "      <td>NaT</td>\n",
              "      <td>50</td>\n",
              "      <td>500</td>\n",
              "      <td>20</td>\n",
              "      <td>...</td>\n",
              "      <td>393.0</td>\n",
              "      <td>20.0</td>\n",
              "      <td>53.0</td>\n",
              "      <td>0.0</td>\n",
              "      <td>3.0</td>\n",
              "      <td>5.0</td>\n",
              "      <td>0.0</td>\n",
              "      <td>50.0</td>\n",
              "      <td>0.09</td>\n",
              "      <td>70.09</td>\n",
              "    </tr>\n",
              "    <tr>\n",
              "      <th>4</th>\n",
              "      <td>22</td>\n",
              "      <td>1001</td>\n",
              "      <td>2018-11</td>\n",
              "      <td>WA</td>\n",
              "      <td>2018-08-13</td>\n",
              "      <td>surf</td>\n",
              "      <td>NaT</td>\n",
              "      <td>50</td>\n",
              "      <td>500</td>\n",
              "      <td>20</td>\n",
              "      <td>...</td>\n",
              "      <td>426.0</td>\n",
              "      <td>21.0</td>\n",
              "      <td>36.0</td>\n",
              "      <td>0.0</td>\n",
              "      <td>0.0</td>\n",
              "      <td>6.0</td>\n",
              "      <td>0.0</td>\n",
              "      <td>60.0</td>\n",
              "      <td>0.00</td>\n",
              "      <td>80.00</td>\n",
              "    </tr>\n",
              "  </tbody>\n",
              "</table>\n",
              "<p>5 rows × 24 columns</p>\n",
              "</div>"
            ],
            "text/plain": [
              "   index  user_id    month city   reg_date      plan churn_date  \\\n",
              "0     11     1000  2018-12   GA 2018-12-24  ultimate        NaT   \n",
              "1     19     1001  2018-08   WA 2018-08-13      surf        NaT   \n",
              "2     20     1001  2018-09   WA 2018-08-13      surf        NaT   \n",
              "3     21     1001  2018-10   WA 2018-08-13      surf        NaT   \n",
              "4     22     1001  2018-11   WA 2018-08-13      surf        NaT   \n",
              "\n",
              "   messages_included  minutes_included  usd_monthly_pay  ...  duration  \\\n",
              "0               1000              3000               70  ...     124.0   \n",
              "1                 50               500               20  ...     182.0   \n",
              "2                 50               500               20  ...     315.0   \n",
              "3                 50               500               20  ...     393.0   \n",
              "4                 50               500               20  ...     426.0   \n",
              "\n",
              "   gb_used   sms  exceed_minutes  exceed_messages  exceed_gb  \\\n",
              "0      2.0  11.0             0.0              0.0        0.0   \n",
              "1      7.0  30.0             0.0              0.0        0.0   \n",
              "2     13.0  44.0             0.0              0.0        0.0   \n",
              "3     20.0  53.0             0.0              3.0        5.0   \n",
              "4     21.0  36.0             0.0              0.0        6.0   \n",
              "\n",
              "   add_charge_calls  add_charge_internet  add_charge_messages  total_usd_pay  \n",
              "0               0.0                  0.0                 0.00          70.00  \n",
              "1               0.0                  0.0                 0.00          20.00  \n",
              "2               0.0                  0.0                 0.00          20.00  \n",
              "3               0.0                 50.0                 0.09          70.09  \n",
              "4               0.0                 60.0                 0.00          80.00  \n",
              "\n",
              "[5 rows x 24 columns]"
            ]
          },
          "execution_count": 69,
          "metadata": {},
          "output_type": "execute_result"
        }
      ],
      "source": [
        "# Add new column for additional usd charge over exceeding use of service\n",
        "dataset['add_charge_calls'] = dataset['exceed_minutes'] * dataset['usd_per_minute']\n",
        "dataset['add_charge_internet'] = dataset['exceed_gb'] * dataset['usd_per_gb']\n",
        "dataset['add_charge_messages'] = dataset['exceed_messages'] * dataset['usd_per_message']\n",
        "dataset['total_usd_pay'] = dataset['usd_monthly_pay'] + dataset['add_charge_calls'] + dataset['add_charge_internet'] + dataset['add_charge_messages']\n",
        "dataset.head()\n"
      ]
    },
    {
      "cell_type": "code",
      "execution_count": null,
      "metadata": {
        "id": "OJ8AvjcSFsap",
        "outputId": "d08e3036-ad8b-4dd7-a40c-7129b8427cc9"
      },
      "outputs": [
        {
          "name": "stdout",
          "output_type": "stream",
          "text": [
            "<class 'pandas.core.frame.DataFrame'>\n",
            "RangeIndex: 3844 entries, 0 to 3843\n",
            "Data columns (total 24 columns):\n",
            " #   Column                 Non-Null Count  Dtype         \n",
            "---  ------                 --------------  -----         \n",
            " 0   index                  3844 non-null   int64         \n",
            " 1   user_id                3844 non-null   int64         \n",
            " 2   month                  3844 non-null   period[M]     \n",
            " 3   city                   3844 non-null   object        \n",
            " 4   reg_date               3844 non-null   datetime64[ns]\n",
            " 5   plan                   3844 non-null   object        \n",
            " 6   churn_date             244 non-null    datetime64[ns]\n",
            " 7   messages_included      3844 non-null   int64         \n",
            " 8   minutes_included       3844 non-null   int64         \n",
            " 9   usd_monthly_pay        3844 non-null   int64         \n",
            " 10  usd_per_gb             3844 non-null   int64         \n",
            " 11  usd_per_message        3844 non-null   float64       \n",
            " 12  usd_per_minute         3844 non-null   float64       \n",
            " 13  gb_per_month_included  3844 non-null   float64       \n",
            " 14  duration               3844 non-null   float64       \n",
            " 15  gb_used                3844 non-null   float64       \n",
            " 16  sms                    3844 non-null   float64       \n",
            " 17  exceed_minutes         3844 non-null   float64       \n",
            " 18  exceed_messages        3844 non-null   float64       \n",
            " 19  exceed_gb              3844 non-null   float64       \n",
            " 20  add_charge_calls       3844 non-null   float64       \n",
            " 21  add_charge_internet    3844 non-null   float64       \n",
            " 22  add_charge_messages    3844 non-null   float64       \n",
            " 23  total_usd_pay          3844 non-null   float64       \n",
            "dtypes: datetime64[ns](2), float64(13), int64(6), object(2), period[M](1)\n",
            "memory usage: 720.9+ KB\n"
          ]
        }
      ],
      "source": [
        "# Re-check general info\n",
        "dataset.info()"
      ]
    },
    {
      "cell_type": "markdown",
      "metadata": {
        "id": "avKzvK4bFsaq"
      },
      "source": [
        "### Interim Conclusion\n",
        "\n",
        "Missing values, duplicates, and mismatch data type are handled.\n",
        "\n",
        "Tables are all merged into 1 dataset.\n",
        "\n",
        "All needed columns for further analysis are added.\n",
        "\n",
        "All irrelevant columns to further analysis are removed.\n",
        "\n",
        "Total revenue per user per month is added to the table.\n",
        "\n",
        "Now the dataset is ready for further analysis."
      ]
    },
    {
      "cell_type": "markdown",
      "metadata": {
        "id": "VRhk5FV8Fsas"
      },
      "source": [
        "## Exploratory Data Analysis"
      ]
    },
    {
      "cell_type": "markdown",
      "metadata": {
        "id": "Irtd1q1VFsas"
      },
      "source": [
        "In the next steps, visualisation of behavior in using each of three services are depicted with bar. \n",
        "Bar is best used to visualise numeric variables."
      ]
    },
    {
      "cell_type": "markdown",
      "metadata": {
        "id": "D-SE7rNfFsat"
      },
      "source": [
        "### Behavior in using calls"
      ]
    },
    {
      "cell_type": "code",
      "execution_count": null,
      "metadata": {
        "id": "r-KPEgyzFsat"
      },
      "outputs": [],
      "source": [
        "# Define a function to pivot, and then replace columns\n",
        "monthly_columns = ('2018-01','2018-02','2018-03', '2018-04', '2018-05',\n",
        "                   '2018-06', '2018-07', '2018-08', '2018-09', '2018-10', '2018-11', '2018-12')\n",
        "def to_pivot (df,value):\n",
        "    df_pivot = df.pivot_table(index='plan', values=value, columns='month', aggfunc='sum')\n",
        "    df_pivot.columns = monthly_columns\n",
        "    return df_pivot"
      ]
    },
    {
      "cell_type": "code",
      "execution_count": null,
      "metadata": {
        "id": "t1u-USjQFsau",
        "outputId": "c8ded732-738e-40b4-b17b-41e26d1bf5fa"
      },
      "outputs": [
        {
          "data": {
            "text/html": [
              "<div>\n",
              "<style scoped>\n",
              "    .dataframe tbody tr th:only-of-type {\n",
              "        vertical-align: middle;\n",
              "    }\n",
              "\n",
              "    .dataframe tbody tr th {\n",
              "        vertical-align: top;\n",
              "    }\n",
              "\n",
              "    .dataframe thead th {\n",
              "        text-align: right;\n",
              "    }\n",
              "</style>\n",
              "<table border=\"1\" class=\"dataframe\">\n",
              "  <thead>\n",
              "    <tr style=\"text-align: right;\">\n",
              "      <th></th>\n",
              "      <th>2018-01</th>\n",
              "      <th>2018-02</th>\n",
              "      <th>2018-03</th>\n",
              "      <th>2018-04</th>\n",
              "      <th>2018-05</th>\n",
              "      <th>2018-06</th>\n",
              "      <th>2018-07</th>\n",
              "      <th>2018-08</th>\n",
              "      <th>2018-09</th>\n",
              "      <th>2018-10</th>\n",
              "      <th>2018-11</th>\n",
              "      <th>2018-12</th>\n",
              "    </tr>\n",
              "    <tr>\n",
              "      <th>plan</th>\n",
              "      <th></th>\n",
              "      <th></th>\n",
              "      <th></th>\n",
              "      <th></th>\n",
              "      <th></th>\n",
              "      <th></th>\n",
              "      <th></th>\n",
              "      <th></th>\n",
              "      <th></th>\n",
              "      <th></th>\n",
              "      <th></th>\n",
              "      <th></th>\n",
              "    </tr>\n",
              "  </thead>\n",
              "  <tbody>\n",
              "    <tr>\n",
              "      <th>surf</th>\n",
              "      <td>406.0</td>\n",
              "      <td>2673.0</td>\n",
              "      <td>7590.0</td>\n",
              "      <td>17577.0</td>\n",
              "      <td>30768.0</td>\n",
              "      <td>41836.0</td>\n",
              "      <td>54448.0</td>\n",
              "      <td>66438.0</td>\n",
              "      <td>80360.0</td>\n",
              "      <td>101846.0</td>\n",
              "      <td>119801.0</td>\n",
              "      <td>150680.0</td>\n",
              "    </tr>\n",
              "    <tr>\n",
              "      <th>ultimate</th>\n",
              "      <td>774.0</td>\n",
              "      <td>2822.0</td>\n",
              "      <td>3651.0</td>\n",
              "      <td>7074.0</td>\n",
              "      <td>11781.0</td>\n",
              "      <td>17435.0</td>\n",
              "      <td>25197.0</td>\n",
              "      <td>29922.0</td>\n",
              "      <td>37626.0</td>\n",
              "      <td>47778.0</td>\n",
              "      <td>56540.0</td>\n",
              "      <td>69324.0</td>\n",
              "    </tr>\n",
              "  </tbody>\n",
              "</table>\n",
              "</div>"
            ],
            "text/plain": [
              "          2018-01  2018-02  2018-03  2018-04  2018-05  2018-06  2018-07  \\\n",
              "plan                                                                      \n",
              "surf        406.0   2673.0   7590.0  17577.0  30768.0  41836.0  54448.0   \n",
              "ultimate    774.0   2822.0   3651.0   7074.0  11781.0  17435.0  25197.0   \n",
              "\n",
              "          2018-08  2018-09   2018-10   2018-11   2018-12  \n",
              "plan                                                      \n",
              "surf      66438.0  80360.0  101846.0  119801.0  150680.0  \n",
              "ultimate  29922.0  37626.0   47778.0   56540.0   69324.0  "
            ]
          },
          "execution_count": 72,
          "metadata": {},
          "output_type": "execute_result"
        }
      ],
      "source": [
        "# Create pivot table of calls\n",
        "dataset_calls = to_pivot(dataset,'duration')\n",
        "dataset_calls"
      ]
    },
    {
      "cell_type": "code",
      "execution_count": null,
      "metadata": {
        "id": "jlqKmAVNFsav"
      },
      "outputs": [],
      "source": [
        "# Define a function to create bar plot\n",
        "def plot_bar(df, ylabel):\n",
        "    df.plot(kind='bar', grid=True, figsize=(10,6))\n",
        "    plt.ylabel(ylabel, rotation = 75)\n",
        "    plt.xticks(rotation = 0)"
      ]
    },
    {
      "cell_type": "code",
      "execution_count": null,
      "metadata": {
        "scrolled": false,
        "id": "AwOj_TkHFsaw",
        "outputId": "856b7f96-3c53-428a-a844-ba7fa93386d9"
      },
      "outputs": [
        {
          "data": {
            "image/png": "[encoded data removed]",
            "text/plain": [
              "<Figure size 720x432 with 1 Axes>"
            ]
          },
          "metadata": {
            "needs_background": "light"
          },
          "output_type": "display_data"
        }
      ],
      "source": [
        "# Create bar plot for calls\n",
        "plot_bar(dataset_calls,'call minutes')"
      ]
    },
    {
      "cell_type": "markdown",
      "metadata": {
        "id": "pCLE6mzgFsay"
      },
      "source": [
        "It appears that calls increase every month from Jan to Dec during 2018, both of Surf clients and Ultimate clients."
      ]
    },
    {
      "cell_type": "markdown",
      "metadata": {
        "id": "7ThBv6a2Fsa0"
      },
      "source": [
        "### Behavior in using internet"
      ]
    },
    {
      "cell_type": "code",
      "execution_count": null,
      "metadata": {
        "id": "x0kuhYT9Fsa1",
        "outputId": "cabc1932-31d7-4f2c-ec48-18f09b00e812"
      },
      "outputs": [
        {
          "data": {
            "text/html": [
              "<div>\n",
              "<style scoped>\n",
              "    .dataframe tbody tr th:only-of-type {\n",
              "        vertical-align: middle;\n",
              "    }\n",
              "\n",
              "    .dataframe tbody tr th {\n",
              "        vertical-align: top;\n",
              "    }\n",
              "\n",
              "    .dataframe thead th {\n",
              "        text-align: right;\n",
              "    }\n",
              "</style>\n",
              "<table border=\"1\" class=\"dataframe\">\n",
              "  <thead>\n",
              "    <tr style=\"text-align: right;\">\n",
              "      <th></th>\n",
              "      <th>2018-01</th>\n",
              "      <th>2018-02</th>\n",
              "      <th>2018-03</th>\n",
              "      <th>2018-04</th>\n",
              "      <th>2018-05</th>\n",
              "      <th>2018-06</th>\n",
              "      <th>2018-07</th>\n",
              "      <th>2018-08</th>\n",
              "      <th>2018-09</th>\n",
              "      <th>2018-10</th>\n",
              "      <th>2018-11</th>\n",
              "      <th>2018-12</th>\n",
              "    </tr>\n",
              "    <tr>\n",
              "      <th>plan</th>\n",
              "      <th></th>\n",
              "      <th></th>\n",
              "      <th></th>\n",
              "      <th></th>\n",
              "      <th></th>\n",
              "      <th></th>\n",
              "      <th></th>\n",
              "      <th></th>\n",
              "      <th></th>\n",
              "      <th></th>\n",
              "      <th></th>\n",
              "      <th></th>\n",
              "    </tr>\n",
              "  </thead>\n",
              "  <tbody>\n",
              "    <tr>\n",
              "      <th>surf</th>\n",
              "      <td>52.0</td>\n",
              "      <td>186.0</td>\n",
              "      <td>357.0</td>\n",
              "      <td>741.0</td>\n",
              "      <td>1349.0</td>\n",
              "      <td>1682.0</td>\n",
              "      <td>2297.0</td>\n",
              "      <td>2766.0</td>\n",
              "      <td>3260.0</td>\n",
              "      <td>4063.0</td>\n",
              "      <td>4440.0</td>\n",
              "      <td>5469.0</td>\n",
              "    </tr>\n",
              "    <tr>\n",
              "      <th>ultimate</th>\n",
              "      <td>25.0</td>\n",
              "      <td>109.0</td>\n",
              "      <td>187.0</td>\n",
              "      <td>371.0</td>\n",
              "      <td>564.0</td>\n",
              "      <td>752.0</td>\n",
              "      <td>965.0</td>\n",
              "      <td>1146.0</td>\n",
              "      <td>1401.0</td>\n",
              "      <td>1886.0</td>\n",
              "      <td>2285.0</td>\n",
              "      <td>2963.0</td>\n",
              "    </tr>\n",
              "  </tbody>\n",
              "</table>\n",
              "</div>"
            ],
            "text/plain": [
              "          2018-01  2018-02  2018-03  2018-04  2018-05  2018-06  2018-07  \\\n",
              "plan                                                                      \n",
              "surf         52.0    186.0    357.0    741.0   1349.0   1682.0   2297.0   \n",
              "ultimate     25.0    109.0    187.0    371.0    564.0    752.0    965.0   \n",
              "\n",
              "          2018-08  2018-09  2018-10  2018-11  2018-12  \n",
              "plan                                                   \n",
              "surf       2766.0   3260.0   4063.0   4440.0   5469.0  \n",
              "ultimate   1146.0   1401.0   1886.0   2285.0   2963.0  "
            ]
          },
          "execution_count": 75,
          "metadata": {},
          "output_type": "execute_result"
        }
      ],
      "source": [
        "# Create pivot table of internet\n",
        "dataset_internet = to_pivot(dataset,'gb_used')\n",
        "dataset_internet"
      ]
    },
    {
      "cell_type": "code",
      "execution_count": null,
      "metadata": {
        "id": "wgE-hki9Fsa2",
        "outputId": "685afc51-a2d7-4c38-c289-6d25f11d74eb"
      },
      "outputs": [
        {
          "data": {
            "image/png": "[encoded data removed]",
            "text/plain": [
              "<Figure size 720x432 with 1 Axes>"
            ]
          },
          "metadata": {
            "needs_background": "light"
          },
          "output_type": "display_data"
        }
      ],
      "source": [
        "# Create bar plot for internet\n",
        "plot_bar(dataset_internet,'internet gb')"
      ]
    },
    {
      "cell_type": "markdown",
      "metadata": {
        "id": "CAi2XJMQFsa3"
      },
      "source": [
        "It appears that internet use increase every month from Jan to Dec durign 2018, both of Surf clients and Ultimate clients."
      ]
    },
    {
      "cell_type": "markdown",
      "metadata": {
        "id": "walkLcToFsa5"
      },
      "source": [
        "### Behavior in using messages"
      ]
    },
    {
      "cell_type": "code",
      "execution_count": null,
      "metadata": {
        "scrolled": true,
        "id": "BTfvHLuHFsa5",
        "outputId": "72a3cf84-8cc2-4e76-c879-6e1b5b338f41"
      },
      "outputs": [
        {
          "data": {
            "text/html": [
              "<div>\n",
              "<style scoped>\n",
              "    .dataframe tbody tr th:only-of-type {\n",
              "        vertical-align: middle;\n",
              "    }\n",
              "\n",
              "    .dataframe tbody tr th {\n",
              "        vertical-align: top;\n",
              "    }\n",
              "\n",
              "    .dataframe thead th {\n",
              "        text-align: right;\n",
              "    }\n",
              "</style>\n",
              "<table border=\"1\" class=\"dataframe\">\n",
              "  <thead>\n",
              "    <tr style=\"text-align: right;\">\n",
              "      <th></th>\n",
              "      <th>2018-01</th>\n",
              "      <th>2018-02</th>\n",
              "      <th>2018-03</th>\n",
              "      <th>2018-04</th>\n",
              "      <th>2018-05</th>\n",
              "      <th>2018-06</th>\n",
              "      <th>2018-07</th>\n",
              "      <th>2018-08</th>\n",
              "      <th>2018-09</th>\n",
              "      <th>2018-10</th>\n",
              "      <th>2018-11</th>\n",
              "      <th>2018-12</th>\n",
              "    </tr>\n",
              "    <tr>\n",
              "      <th>plan</th>\n",
              "      <th></th>\n",
              "      <th></th>\n",
              "      <th></th>\n",
              "      <th></th>\n",
              "      <th></th>\n",
              "      <th></th>\n",
              "      <th></th>\n",
              "      <th></th>\n",
              "      <th></th>\n",
              "      <th></th>\n",
              "      <th></th>\n",
              "      <th></th>\n",
              "    </tr>\n",
              "  </thead>\n",
              "  <tbody>\n",
              "    <tr>\n",
              "      <th>surf</th>\n",
              "      <td>21.0</td>\n",
              "      <td>108.0</td>\n",
              "      <td>351.0</td>\n",
              "      <td>870.0</td>\n",
              "      <td>1849.0</td>\n",
              "      <td>2454.0</td>\n",
              "      <td>3271.0</td>\n",
              "      <td>4662.0</td>\n",
              "      <td>5968.0</td>\n",
              "      <td>8020.0</td>\n",
              "      <td>9165.0</td>\n",
              "      <td>12275.0</td>\n",
              "    </tr>\n",
              "    <tr>\n",
              "      <th>ultimate</th>\n",
              "      <td>62.0</td>\n",
              "      <td>151.0</td>\n",
              "      <td>243.0</td>\n",
              "      <td>463.0</td>\n",
              "      <td>931.0</td>\n",
              "      <td>1379.0</td>\n",
              "      <td>1937.0</td>\n",
              "      <td>2732.0</td>\n",
              "      <td>3259.0</td>\n",
              "      <td>4181.0</td>\n",
              "      <td>4903.0</td>\n",
              "      <td>6796.0</td>\n",
              "    </tr>\n",
              "  </tbody>\n",
              "</table>\n",
              "</div>"
            ],
            "text/plain": [
              "          2018-01  2018-02  2018-03  2018-04  2018-05  2018-06  2018-07  \\\n",
              "plan                                                                      \n",
              "surf         21.0    108.0    351.0    870.0   1849.0   2454.0   3271.0   \n",
              "ultimate     62.0    151.0    243.0    463.0    931.0   1379.0   1937.0   \n",
              "\n",
              "          2018-08  2018-09  2018-10  2018-11  2018-12  \n",
              "plan                                                   \n",
              "surf       4662.0   5968.0   8020.0   9165.0  12275.0  \n",
              "ultimate   2732.0   3259.0   4181.0   4903.0   6796.0  "
            ]
          },
          "execution_count": 77,
          "metadata": {},
          "output_type": "execute_result"
        }
      ],
      "source": [
        "# Create pivot table of sms\n",
        "dataset_sms = to_pivot(dataset,'sms')\n",
        "dataset_sms"
      ]
    },
    {
      "cell_type": "code",
      "execution_count": null,
      "metadata": {
        "scrolled": false,
        "id": "DS1d-tdQFsa6",
        "outputId": "bb59f3d4-6b2c-49ca-b40d-7b0115cd7822"
      },
      "outputs": [
        {
          "data": {
            "image/png": "[encoded data removed]",
            "text/plain": [
              "<Figure size 720x432 with 1 Axes>"
            ]
          },
          "metadata": {
            "needs_background": "light"
          },
          "output_type": "display_data"
        }
      ],
      "source": [
        "# Create bar plot for sms\n",
        "plot_bar(dataset_sms, 'message numbers')"
      ]
    },
    {
      "cell_type": "markdown",
      "metadata": {
        "id": "BEWcK9yuFsa7"
      },
      "source": [
        "It appears that numbers of messaging increase every month from Jan to Dec durign 2018, both of Surf clients and Ultimate clients."
      ]
    },
    {
      "cell_type": "markdown",
      "metadata": {
        "id": "tXRktyunFsa9"
      },
      "source": [
        "### Extra Use of Services"
      ]
    },
    {
      "cell_type": "markdown",
      "metadata": {
        "id": "cg9K9BqqFsa-"
      },
      "source": [
        "In the next step how clients from each plan use extra services beyond their allotment is analysed."
      ]
    },
    {
      "cell_type": "code",
      "execution_count": null,
      "metadata": {
        "scrolled": true,
        "id": "8xhPob2fFsa-",
        "outputId": "9662cc1a-c12b-4086-ac87-21723c324b28"
      },
      "outputs": [
        {
          "data": {
            "text/html": [
              "<div>\n",
              "<style scoped>\n",
              "    .dataframe tbody tr th:only-of-type {\n",
              "        vertical-align: middle;\n",
              "    }\n",
              "\n",
              "    .dataframe tbody tr th {\n",
              "        vertical-align: top;\n",
              "    }\n",
              "\n",
              "    .dataframe thead th {\n",
              "        text-align: right;\n",
              "    }\n",
              "</style>\n",
              "<table border=\"1\" class=\"dataframe\">\n",
              "  <thead>\n",
              "    <tr style=\"text-align: right;\">\n",
              "      <th></th>\n",
              "      <th>2018-01</th>\n",
              "      <th>2018-02</th>\n",
              "      <th>2018-03</th>\n",
              "      <th>2018-04</th>\n",
              "      <th>2018-05</th>\n",
              "      <th>2018-06</th>\n",
              "      <th>2018-07</th>\n",
              "      <th>2018-08</th>\n",
              "      <th>2018-09</th>\n",
              "      <th>2018-10</th>\n",
              "      <th>2018-11</th>\n",
              "      <th>2018-12</th>\n",
              "    </tr>\n",
              "    <tr>\n",
              "      <th>plan</th>\n",
              "      <th></th>\n",
              "      <th></th>\n",
              "      <th></th>\n",
              "      <th></th>\n",
              "      <th></th>\n",
              "      <th></th>\n",
              "      <th></th>\n",
              "      <th></th>\n",
              "      <th></th>\n",
              "      <th></th>\n",
              "      <th></th>\n",
              "      <th></th>\n",
              "    </tr>\n",
              "  </thead>\n",
              "  <tbody>\n",
              "    <tr>\n",
              "      <th>surf</th>\n",
              "      <td>0.0</td>\n",
              "      <td>311.0</td>\n",
              "      <td>542.0</td>\n",
              "      <td>1764.0</td>\n",
              "      <td>4257.0</td>\n",
              "      <td>5177.0</td>\n",
              "      <td>8866.0</td>\n",
              "      <td>8922.0</td>\n",
              "      <td>9286.0</td>\n",
              "      <td>14175.0</td>\n",
              "      <td>16519.0</td>\n",
              "      <td>26856.0</td>\n",
              "    </tr>\n",
              "    <tr>\n",
              "      <th>ultimate</th>\n",
              "      <td>0.0</td>\n",
              "      <td>0.0</td>\n",
              "      <td>0.0</td>\n",
              "      <td>0.0</td>\n",
              "      <td>0.0</td>\n",
              "      <td>0.0</td>\n",
              "      <td>0.0</td>\n",
              "      <td>0.0</td>\n",
              "      <td>0.0</td>\n",
              "      <td>0.0</td>\n",
              "      <td>0.0</td>\n",
              "      <td>0.0</td>\n",
              "    </tr>\n",
              "  </tbody>\n",
              "</table>\n",
              "</div>"
            ],
            "text/plain": [
              "          2018-01  2018-02  2018-03  2018-04  2018-05  2018-06  2018-07  \\\n",
              "plan                                                                      \n",
              "surf          0.0    311.0    542.0   1764.0   4257.0   5177.0   8866.0   \n",
              "ultimate      0.0      0.0      0.0      0.0      0.0      0.0      0.0   \n",
              "\n",
              "          2018-08  2018-09  2018-10  2018-11  2018-12  \n",
              "plan                                                   \n",
              "surf       8922.0   9286.0  14175.0  16519.0  26856.0  \n",
              "ultimate      0.0      0.0      0.0      0.0      0.0  "
            ]
          },
          "execution_count": 79,
          "metadata": {},
          "output_type": "execute_result"
        }
      ],
      "source": [
        "# Create pivot table of extra minutes of call\n",
        "dataset_exceed_minutes = to_pivot(dataset,value='exceed_minutes')\n",
        "dataset_exceed_minutes"
      ]
    },
    {
      "cell_type": "code",
      "execution_count": null,
      "metadata": {
        "scrolled": false,
        "id": "rgjcQyIOFsba",
        "outputId": "ffe58356-2429-46b4-ef24-3343641c885f"
      },
      "outputs": [
        {
          "data": {
            "text/html": [
              "<div>\n",
              "<style scoped>\n",
              "    .dataframe tbody tr th:only-of-type {\n",
              "        vertical-align: middle;\n",
              "    }\n",
              "\n",
              "    .dataframe tbody tr th {\n",
              "        vertical-align: top;\n",
              "    }\n",
              "\n",
              "    .dataframe thead th {\n",
              "        text-align: right;\n",
              "    }\n",
              "</style>\n",
              "<table border=\"1\" class=\"dataframe\">\n",
              "  <thead>\n",
              "    <tr style=\"text-align: right;\">\n",
              "      <th></th>\n",
              "      <th>2018-01</th>\n",
              "      <th>2018-02</th>\n",
              "      <th>2018-03</th>\n",
              "      <th>2018-04</th>\n",
              "      <th>2018-05</th>\n",
              "      <th>2018-06</th>\n",
              "      <th>2018-07</th>\n",
              "      <th>2018-08</th>\n",
              "      <th>2018-09</th>\n",
              "      <th>2018-10</th>\n",
              "      <th>2018-11</th>\n",
              "      <th>2018-12</th>\n",
              "    </tr>\n",
              "    <tr>\n",
              "      <th>plan</th>\n",
              "      <th></th>\n",
              "      <th></th>\n",
              "      <th></th>\n",
              "      <th></th>\n",
              "      <th></th>\n",
              "      <th></th>\n",
              "      <th></th>\n",
              "      <th></th>\n",
              "      <th></th>\n",
              "      <th></th>\n",
              "      <th></th>\n",
              "      <th></th>\n",
              "    </tr>\n",
              "  </thead>\n",
              "  <tbody>\n",
              "    <tr>\n",
              "      <th>surf</th>\n",
              "      <td>0.0</td>\n",
              "      <td>8.0</td>\n",
              "      <td>13.0</td>\n",
              "      <td>87.0</td>\n",
              "      <td>322.0</td>\n",
              "      <td>483.0</td>\n",
              "      <td>586.0</td>\n",
              "      <td>973.0</td>\n",
              "      <td>1203.0</td>\n",
              "      <td>1986.0</td>\n",
              "      <td>1988.0</td>\n",
              "      <td>3382.0</td>\n",
              "    </tr>\n",
              "    <tr>\n",
              "      <th>ultimate</th>\n",
              "      <td>0.0</td>\n",
              "      <td>0.0</td>\n",
              "      <td>0.0</td>\n",
              "      <td>0.0</td>\n",
              "      <td>0.0</td>\n",
              "      <td>0.0</td>\n",
              "      <td>0.0</td>\n",
              "      <td>0.0</td>\n",
              "      <td>0.0</td>\n",
              "      <td>0.0</td>\n",
              "      <td>0.0</td>\n",
              "      <td>0.0</td>\n",
              "    </tr>\n",
              "  </tbody>\n",
              "</table>\n",
              "</div>"
            ],
            "text/plain": [
              "          2018-01  2018-02  2018-03  2018-04  2018-05  2018-06  2018-07  \\\n",
              "plan                                                                      \n",
              "surf          0.0      8.0     13.0     87.0    322.0    483.0    586.0   \n",
              "ultimate      0.0      0.0      0.0      0.0      0.0      0.0      0.0   \n",
              "\n",
              "          2018-08  2018-09  2018-10  2018-11  2018-12  \n",
              "plan                                                   \n",
              "surf        973.0   1203.0   1986.0   1988.0   3382.0  \n",
              "ultimate      0.0      0.0      0.0      0.0      0.0  "
            ]
          },
          "execution_count": 80,
          "metadata": {},
          "output_type": "execute_result"
        }
      ],
      "source": [
        "# Create pivot table of extra numbers of message\n",
        "dataset_exceed_messages = to_pivot(dataset,value='exceed_messages')\n",
        "dataset_exceed_messages"
      ]
    },
    {
      "cell_type": "code",
      "execution_count": null,
      "metadata": {
        "scrolled": true,
        "id": "Lb2_mmrUFsbb",
        "outputId": "643050ed-94ac-4d02-fef2-8fae060a285f"
      },
      "outputs": [
        {
          "data": {
            "text/html": [
              "<div>\n",
              "<style scoped>\n",
              "    .dataframe tbody tr th:only-of-type {\n",
              "        vertical-align: middle;\n",
              "    }\n",
              "\n",
              "    .dataframe tbody tr th {\n",
              "        vertical-align: top;\n",
              "    }\n",
              "\n",
              "    .dataframe thead th {\n",
              "        text-align: right;\n",
              "    }\n",
              "</style>\n",
              "<table border=\"1\" class=\"dataframe\">\n",
              "  <thead>\n",
              "    <tr style=\"text-align: right;\">\n",
              "      <th></th>\n",
              "      <th>2018-01</th>\n",
              "      <th>2018-02</th>\n",
              "      <th>2018-03</th>\n",
              "      <th>2018-04</th>\n",
              "      <th>2018-05</th>\n",
              "      <th>2018-06</th>\n",
              "      <th>2018-07</th>\n",
              "      <th>2018-08</th>\n",
              "      <th>2018-09</th>\n",
              "      <th>2018-10</th>\n",
              "      <th>2018-11</th>\n",
              "      <th>2018-12</th>\n",
              "    </tr>\n",
              "    <tr>\n",
              "      <th>plan</th>\n",
              "      <th></th>\n",
              "      <th></th>\n",
              "      <th></th>\n",
              "      <th></th>\n",
              "      <th></th>\n",
              "      <th></th>\n",
              "      <th></th>\n",
              "      <th></th>\n",
              "      <th></th>\n",
              "      <th></th>\n",
              "      <th></th>\n",
              "      <th></th>\n",
              "    </tr>\n",
              "  </thead>\n",
              "  <tbody>\n",
              "    <tr>\n",
              "      <th>surf</th>\n",
              "      <td>0.0</td>\n",
              "      <td>10.0</td>\n",
              "      <td>21.0</td>\n",
              "      <td>26.0</td>\n",
              "      <td>100.0</td>\n",
              "      <td>105.0</td>\n",
              "      <td>236.0</td>\n",
              "      <td>353.0</td>\n",
              "      <td>564.0</td>\n",
              "      <td>1025.0</td>\n",
              "      <td>1333.0</td>\n",
              "      <td>2237.0</td>\n",
              "    </tr>\n",
              "    <tr>\n",
              "      <th>ultimate</th>\n",
              "      <td>0.0</td>\n",
              "      <td>0.0</td>\n",
              "      <td>0.0</td>\n",
              "      <td>0.0</td>\n",
              "      <td>1.0</td>\n",
              "      <td>2.0</td>\n",
              "      <td>14.0</td>\n",
              "      <td>11.0</td>\n",
              "      <td>6.0</td>\n",
              "      <td>127.0</td>\n",
              "      <td>294.0</td>\n",
              "      <td>666.0</td>\n",
              "    </tr>\n",
              "  </tbody>\n",
              "</table>\n",
              "</div>"
            ],
            "text/plain": [
              "          2018-01  2018-02  2018-03  2018-04  2018-05  2018-06  2018-07  \\\n",
              "plan                                                                      \n",
              "surf          0.0     10.0     21.0     26.0    100.0    105.0    236.0   \n",
              "ultimate      0.0      0.0      0.0      0.0      1.0      2.0     14.0   \n",
              "\n",
              "          2018-08  2018-09  2018-10  2018-11  2018-12  \n",
              "plan                                                   \n",
              "surf        353.0    564.0   1025.0   1333.0   2237.0  \n",
              "ultimate     11.0      6.0    127.0    294.0    666.0  "
            ]
          },
          "execution_count": 81,
          "metadata": {},
          "output_type": "execute_result"
        }
      ],
      "source": [
        "# Create pivot table of extra gigabyte of internet data use\n",
        "dataset_exceed_gb = to_pivot(dataset,value='exceed_gb')\n",
        "dataset_exceed_gb"
      ]
    },
    {
      "cell_type": "code",
      "execution_count": null,
      "metadata": {
        "scrolled": false,
        "id": "9jbTGAT3Fsbc",
        "outputId": "52104733-d7a8-4388-e9c6-8a718b418644"
      },
      "outputs": [
        {
          "data": {
            "image/png": "[encoded data removed]",
            "text/plain": [
              "<Figure size 720x432 with 1 Axes>"
            ]
          },
          "metadata": {
            "needs_background": "light"
          },
          "output_type": "display_data"
        },
        {
          "data": {
            "image/png": "[encoded data removed]",
            "text/plain": [
              "<Figure size 720x432 with 1 Axes>"
            ]
          },
          "metadata": {
            "needs_background": "light"
          },
          "output_type": "display_data"
        },
        {
          "data": {
            "image/png": "[encoded data removed]",
            "text/plain": [
              "<Figure size 720x432 with 1 Axes>"
            ]
          },
          "metadata": {
            "needs_background": "light"
          },
          "output_type": "display_data"
        }
      ],
      "source": [
        "# Create bar plot for all three datasets showing extra use of all three services\n",
        "df_extra = (dataset_exceed_minutes, dataset_exceed_messages, dataset_exceed_gb)\n",
        "list_ylablel = ('exceed minutes of call', 'exceed number of messages', 'exceed internet gb')\n",
        "for i in range(len(df_extra)):\n",
        "    plot_bar(df_extra[i], list_ylablel[i])\n",
        "    \n",
        "    "
      ]
    },
    {
      "cell_type": "markdown",
      "metadata": {
        "id": "uvYIJL80Fsbd"
      },
      "source": [
        "It appears that Surf clients enjoy extra use of service all for calls, messages, and internet. While Ultimate clients stick with their monthly allotment, except for internet service, yet still is very small compared to Surf."
      ]
    },
    {
      "cell_type": "markdown",
      "metadata": {
        "id": "YV2upzBzFsbe"
      },
      "source": [
        "### Total Actual vs Monthly Plan Payment"
      ]
    },
    {
      "cell_type": "code",
      "execution_count": null,
      "metadata": {
        "id": "Kkjhwi_HFsbf",
        "outputId": "dad4fd97-d4c7-4274-ea07-96727167f15d"
      },
      "outputs": [
        {
          "data": {
            "text/html": [
              "<div>\n",
              "<style scoped>\n",
              "    .dataframe tbody tr th:only-of-type {\n",
              "        vertical-align: middle;\n",
              "    }\n",
              "\n",
              "    .dataframe tbody tr th {\n",
              "        vertical-align: top;\n",
              "    }\n",
              "\n",
              "    .dataframe thead th {\n",
              "        text-align: right;\n",
              "    }\n",
              "</style>\n",
              "<table border=\"1\" class=\"dataframe\">\n",
              "  <thead>\n",
              "    <tr style=\"text-align: right;\">\n",
              "      <th></th>\n",
              "      <th>2018-01</th>\n",
              "      <th>2018-02</th>\n",
              "      <th>2018-03</th>\n",
              "      <th>2018-04</th>\n",
              "      <th>2018-05</th>\n",
              "      <th>2018-06</th>\n",
              "      <th>2018-07</th>\n",
              "      <th>2018-08</th>\n",
              "      <th>2018-09</th>\n",
              "      <th>2018-10</th>\n",
              "      <th>2018-11</th>\n",
              "      <th>2018-12</th>\n",
              "    </tr>\n",
              "    <tr>\n",
              "      <th>plan</th>\n",
              "      <th></th>\n",
              "      <th></th>\n",
              "      <th></th>\n",
              "      <th></th>\n",
              "      <th></th>\n",
              "      <th></th>\n",
              "      <th></th>\n",
              "      <th></th>\n",
              "      <th></th>\n",
              "      <th></th>\n",
              "      <th></th>\n",
              "      <th></th>\n",
              "    </tr>\n",
              "  </thead>\n",
              "  <tbody>\n",
              "    <tr>\n",
              "      <th>surf</th>\n",
              "      <td>380.0</td>\n",
              "      <td>969.57</td>\n",
              "      <td>2046.65</td>\n",
              "      <td>3515.53</td>\n",
              "      <td>5157.37</td>\n",
              "      <td>6159.8</td>\n",
              "      <td>8123.56</td>\n",
              "      <td>9866.85</td>\n",
              "      <td>12194.67</td>\n",
              "      <td>17214.83</td>\n",
              "      <td>20445.21</td>\n",
              "      <td>29877.14</td>\n",
              "    </tr>\n",
              "    <tr>\n",
              "      <th>ultimate</th>\n",
              "      <td>980.0</td>\n",
              "      <td>1960.00</td>\n",
              "      <td>3150.00</td>\n",
              "      <td>5390.00</td>\n",
              "      <td>6307.00</td>\n",
              "      <td>7294.0</td>\n",
              "      <td>8148.00</td>\n",
              "      <td>9457.00</td>\n",
              "      <td>10192.00</td>\n",
              "      <td>11389.00</td>\n",
              "      <td>12838.00</td>\n",
              "      <td>15652.00</td>\n",
              "    </tr>\n",
              "  </tbody>\n",
              "</table>\n",
              "</div>"
            ],
            "text/plain": [
              "          2018-01  2018-02  2018-03  2018-04  2018-05  2018-06  2018-07  \\\n",
              "plan                                                                      \n",
              "surf        380.0   969.57  2046.65  3515.53  5157.37   6159.8  8123.56   \n",
              "ultimate    980.0  1960.00  3150.00  5390.00  6307.00   7294.0  8148.00   \n",
              "\n",
              "          2018-08   2018-09   2018-10   2018-11   2018-12  \n",
              "plan                                                       \n",
              "surf      9866.85  12194.67  17214.83  20445.21  29877.14  \n",
              "ultimate  9457.00  10192.00  11389.00  12838.00  15652.00  "
            ]
          },
          "execution_count": 83,
          "metadata": {},
          "output_type": "execute_result"
        }
      ],
      "source": [
        "# Create pivot table per total revenue\n",
        "dataset_total_pay = to_pivot(dataset,value='total_usd_pay')\n",
        "dataset_total_pay"
      ]
    },
    {
      "cell_type": "code",
      "execution_count": null,
      "metadata": {
        "scrolled": false,
        "id": "Nu_oknLyFsbg",
        "outputId": "0bde3c9e-6e67-4335-b7b1-8807cb7e0bb4"
      },
      "outputs": [
        {
          "data": {
            "image/png": "[encoded data removed]",
            "text/plain": [
              "<Figure size 720x432 with 1 Axes>"
            ]
          },
          "metadata": {
            "needs_background": "light"
          },
          "output_type": "display_data"
        }
      ],
      "source": [
        "# Create bar plot for total_pay\n",
        "plot_bar(dataset_total_pay,'total_pay')"
      ]
    },
    {
      "cell_type": "code",
      "execution_count": null,
      "metadata": {
        "scrolled": true,
        "id": "Stor7CPMFsbh",
        "outputId": "b76e8759-08cf-4d08-b8a0-5a0fafb387d5"
      },
      "outputs": [
        {
          "data": {
            "text/html": [
              "<div>\n",
              "<style scoped>\n",
              "    .dataframe tbody tr th:only-of-type {\n",
              "        vertical-align: middle;\n",
              "    }\n",
              "\n",
              "    .dataframe tbody tr th {\n",
              "        vertical-align: top;\n",
              "    }\n",
              "\n",
              "    .dataframe thead th {\n",
              "        text-align: right;\n",
              "    }\n",
              "</style>\n",
              "<table border=\"1\" class=\"dataframe\">\n",
              "  <thead>\n",
              "    <tr style=\"text-align: right;\">\n",
              "      <th></th>\n",
              "      <th>2018-01</th>\n",
              "      <th>2018-02</th>\n",
              "      <th>2018-03</th>\n",
              "      <th>2018-04</th>\n",
              "      <th>2018-05</th>\n",
              "      <th>2018-06</th>\n",
              "      <th>2018-07</th>\n",
              "      <th>2018-08</th>\n",
              "      <th>2018-09</th>\n",
              "      <th>2018-10</th>\n",
              "      <th>2018-11</th>\n",
              "      <th>2018-12</th>\n",
              "    </tr>\n",
              "    <tr>\n",
              "      <th>plan</th>\n",
              "      <th></th>\n",
              "      <th></th>\n",
              "      <th></th>\n",
              "      <th></th>\n",
              "      <th></th>\n",
              "      <th></th>\n",
              "      <th></th>\n",
              "      <th></th>\n",
              "      <th></th>\n",
              "      <th></th>\n",
              "      <th></th>\n",
              "      <th></th>\n",
              "    </tr>\n",
              "  </thead>\n",
              "  <tbody>\n",
              "    <tr>\n",
              "      <th>surf</th>\n",
              "      <td>380</td>\n",
              "      <td>860</td>\n",
              "      <td>1820</td>\n",
              "      <td>3200</td>\n",
              "      <td>4020</td>\n",
              "      <td>4940</td>\n",
              "      <td>5480</td>\n",
              "      <td>6040</td>\n",
              "      <td>6240</td>\n",
              "      <td>6480</td>\n",
              "      <td>6560</td>\n",
              "      <td>6600</td>\n",
              "    </tr>\n",
              "    <tr>\n",
              "      <th>ultimate</th>\n",
              "      <td>980</td>\n",
              "      <td>1960</td>\n",
              "      <td>3150</td>\n",
              "      <td>5390</td>\n",
              "      <td>6300</td>\n",
              "      <td>7280</td>\n",
              "      <td>8050</td>\n",
              "      <td>9380</td>\n",
              "      <td>10150</td>\n",
              "      <td>10500</td>\n",
              "      <td>10780</td>\n",
              "      <td>10990</td>\n",
              "    </tr>\n",
              "  </tbody>\n",
              "</table>\n",
              "</div>"
            ],
            "text/plain": [
              "          2018-01  2018-02  2018-03  2018-04  2018-05  2018-06  2018-07  \\\n",
              "plan                                                                      \n",
              "surf          380      860     1820     3200     4020     4940     5480   \n",
              "ultimate      980     1960     3150     5390     6300     7280     8050   \n",
              "\n",
              "          2018-08  2018-09  2018-10  2018-11  2018-12  \n",
              "plan                                                   \n",
              "surf         6040     6240     6480     6560     6600  \n",
              "ultimate     9380    10150    10500    10780    10990  "
            ]
          },
          "execution_count": 85,
          "metadata": {},
          "output_type": "execute_result"
        }
      ],
      "source": [
        "# Create pivot table per usd_monthly_pay\n",
        "dataset_monthly_pay = to_pivot(dataset,value='usd_monthly_pay')\n",
        "dataset_monthly_pay"
      ]
    },
    {
      "cell_type": "code",
      "execution_count": null,
      "metadata": {
        "id": "DGNbK2wQFsbi",
        "outputId": "a8e8e471-e43a-4540-bebf-b0ab7027faba"
      },
      "outputs": [
        {
          "data": {
            "image/png": "[encoded data removed]",
            "text/plain": [
              "<Figure size 720x432 with 1 Axes>"
            ]
          },
          "metadata": {
            "needs_background": "light"
          },
          "output_type": "display_data"
        }
      ],
      "source": [
        "# Create bar plot for usd_monthly_pay\n",
        "plot_bar(dataset_monthly_pay,'monthly_pay')"
      ]
    },
    {
      "cell_type": "markdown",
      "metadata": {
        "id": "q6tQnw9LFsbj"
      },
      "source": [
        "### Interim Conclusion\n",
        "\n",
        "From month 1 to 6 in 2018, total payment of clients Ultimate is bigger than of Surf for a slight amount. But in month 7 to 12, Surf clients pay a lot more than Ultimate. \n",
        "\n",
        "This is contrary to the amount of monthly plan payment where Ultimate clients constantly pay higher for every month in 2018 compared to Surf. \n",
        "\n",
        "This means that although monthly payment plan for Surf is smaller than Ultimate, clients of Surf pay a lot more for extra services they use, especially during July to December.\n",
        "\n",
        "From data visualisation on use of each of services by clients, it appears that for all the three services, clients of both Surf and Ultimate increase their use from Jan to Dec during 2018. The proportion of month-on-month increase in each of two plans looks similar.\n",
        "\n",
        "In the next steps, hypothesis that average revenue of Ultimate and Surf being different will be tested.\n",
        "\n",
        "Also will the hypothesis that average revenue of customers in NY-NJ being different from of other area.\n"
      ]
    },
    {
      "cell_type": "markdown",
      "metadata": {
        "id": "LyeSHJxTFsbk"
      },
      "source": [
        "## Testing the hypothesis"
      ]
    },
    {
      "cell_type": "markdown",
      "metadata": {
        "id": "sm0kaJ0_Fsbl"
      },
      "source": [
        "###  Surf vs Ultimate"
      ]
    },
    {
      "cell_type": "markdown",
      "metadata": {
        "id": "m9qd3KtpFsbl"
      },
      "source": [
        "In the next step, statistical descriptions for total payment by Surf and Ultimate are observed."
      ]
    },
    {
      "cell_type": "code",
      "execution_count": null,
      "metadata": {
        "scrolled": true,
        "id": "Z_M9uzemFsbl",
        "outputId": "cd54c897-e81c-49d6-d788-bf57302a1b48"
      },
      "outputs": [
        {
          "data": {
            "text/plain": [
              "count    2631.000000\n",
              "mean       44.071144\n",
              "std        75.337937\n",
              "min        20.000000\n",
              "25%        20.000000\n",
              "50%        20.000000\n",
              "75%        26.405000\n",
              "max      1530.000000\n",
              "Name: total_usd_pay, dtype: float64"
            ]
          },
          "execution_count": 87,
          "metadata": {},
          "output_type": "execute_result"
        }
      ],
      "source": [
        "# Slice the dataset only for total payment by Surf clients\n",
        "dataset_surf = dataset.query('plan == \"surf\"').reset_index()\n",
        "revenue_surf = dataset_surf['total_usd_pay']\n",
        "revenue_surf.describe()"
      ]
    },
    {
      "cell_type": "code",
      "execution_count": null,
      "metadata": {
        "scrolled": true,
        "id": "b7n_JmPTFsbm",
        "outputId": "f27a7e2f-ab18-4b85-d62d-37d143e54a80"
      },
      "outputs": [
        {
          "data": {
            "text/plain": [
              "count    1213.000000\n",
              "mean       76.469085\n",
              "std        40.199380\n",
              "min        70.000000\n",
              "25%        70.000000\n",
              "50%        70.000000\n",
              "75%        70.000000\n",
              "max       840.000000\n",
              "Name: total_usd_pay, dtype: float64"
            ]
          },
          "execution_count": 88,
          "metadata": {},
          "output_type": "execute_result"
        }
      ],
      "source": [
        "# Slice the dataset only for total payment by Ultimate clients\n",
        "dataset_ultimate = dataset.query('plan == \"ultimate\"').reset_index()\n",
        "revenue_ultimate = dataset_ultimate['total_usd_pay']\n",
        "revenue_ultimate.describe()"
      ]
    },
    {
      "cell_type": "code",
      "execution_count": null,
      "metadata": {
        "id": "Dch79gUBFsbm",
        "outputId": "6b6dd0f9-bfba-4d2a-99d9-21104bd3e15f"
      },
      "outputs": [
        {
          "data": {
            "text/plain": [
              "(5673.647453157128, 1614.6579478023525)"
            ]
          },
          "execution_count": 89,
          "metadata": {},
          "output_type": "execute_result"
        }
      ],
      "source": [
        "# Load variance\n",
        "variance_surf = np.var(revenue_surf)\n",
        "variance_ultimate = np.var(revenue_ultimate)\n",
        "variance_surf, variance_ultimate"
      ]
    },
    {
      "cell_type": "markdown",
      "metadata": {
        "id": "H6BcFJQtFsbn"
      },
      "source": [
        "It appears that the means are:\n",
        "Surf     : around 44\n",
        "Ultimate : around 76\n",
        "\n",
        "And the standar deviations are:\n",
        "Surf     : around 75\n",
        "Ultimate : around 40\n",
        "\n",
        "And the variances are:\n",
        "Surf     : around 5,673\n",
        "Ultimate : around 1,614\n",
        "\n",
        "This means that Surf generates revenue in average of number of users per month that is smaller than Ultimate. \n",
        "Although number of monthly transactions of Surf are more than twice of Ultimate. And the variance of Surf is way higher than of Ultimate. This resulting in Surf contributing way more total revenue than Ultimate during the whole year 2018."
      ]
    },
    {
      "cell_type": "markdown",
      "metadata": {
        "id": "FZLb8sYmFsbo"
      },
      "source": [
        "Next, the hypothesis will be tested using statistical ttest for independent samples.\n",
        "\n",
        "H0 = average revenue generated from Ultimate plan and Surf plan is the same\n",
        "\n",
        "H1 = average revenue generated from Ultimate plan and Surf plan is not the same"
      ]
    },
    {
      "cell_type": "code",
      "execution_count": null,
      "metadata": {
        "id": "SLIt8U9eFsbp",
        "outputId": "1ae4a821-9a25-4961-ec17-1b7b5121f566"
      },
      "outputs": [
        {
          "name": "stdout",
          "output_type": "stream",
          "text": [
            "p-value: 6.90282694672477e-65\n",
            "Reject hypothesis null\n"
          ]
        }
      ],
      "source": [
        "# Testing the hypothesis using ttest_ind method\n",
        "alpha = 0.05\n",
        "results = st.ttest_ind(revenue_surf, revenue_ultimate, equal_var=False)\n",
        "print('p-value:', results.pvalue)\n",
        "\n",
        "if results.pvalue < alpha:\n",
        "    print(\"Reject hypothesis null\")\n",
        "else:\n",
        "    print(\"Fail to reject hypothesis null\")"
      ]
    },
    {
      "cell_type": "markdown",
      "metadata": {
        "id": "lSLILdrgFsbq"
      },
      "source": [
        "In testing hypothesis that Ultimate and Surf contribute average revenue differently, an independent test using scipy.stats.ttest_ind() method is applied. \n",
        "\n",
        "Alpha is set at 0.05%, that is the standard alpha.\n",
        "\n",
        "Equal_var argument is set to false because there is a very large discrepancy between each sample's variance.\n",
        "\n",
        "Result of the testing shows that H0 is to be rejected. This means it can not be assumed that Ultimate plan and Surf plan generate the same amount of revenue.\n",
        "\n",
        "From the means, it is known that average Ultimate revenue is higher than average Surf revenue."
      ]
    },
    {
      "cell_type": "markdown",
      "metadata": {
        "id": "8thQciMdFsbt"
      },
      "source": [
        "### NY-NJ vs All Metropolitan America"
      ]
    },
    {
      "cell_type": "markdown",
      "metadata": {
        "id": "m5IfnUwVFsbt"
      },
      "source": [
        "In the next step, statistical descriptions for total payment by clients of NY-NJ and of the rest of toher cities are observed."
      ]
    },
    {
      "cell_type": "code",
      "execution_count": null,
      "metadata": {
        "scrolled": true,
        "id": "j84f9WamFsbu",
        "outputId": "432e9fdc-7eff-4aa9-eaba-6f0d02ab9d96"
      },
      "outputs": [
        {
          "data": {
            "text/plain": [
              "array(['GA', 'WA', 'NV', 'OK', 'TX', 'CA', 'MI', 'FL', 'OH', 'IL-IN-WI',\n",
              "       'TN', 'NY-NJ-PA', 'PA', 'DC-VA-MD-WV', 'IN', 'NE-IA',\n",
              "       'PA-NJ-DE-MD', 'AL', 'NC-SC', 'CO', 'NM', 'MA-NH', 'AZ', 'OR-WA',\n",
              "       'OH-KY-IN', 'SC', 'NY', 'TN-MS-AR', 'KY-IN', 'RI-MA', 'UT', 'HI',\n",
              "       'CT', 'LA', 'VA-NC', 'MD', 'WI', 'VA', 'MO-IL', 'MN-WI', 'MO-KS',\n",
              "       'NC'], dtype=object)"
            ]
          },
          "execution_count": 91,
          "metadata": {},
          "output_type": "execute_result"
        }
      ],
      "source": [
        "# Load unique values in city\n",
        "dataset['city'].unique()"
      ]
    },
    {
      "cell_type": "code",
      "execution_count": null,
      "metadata": {
        "id": "7xqg3e45Fsbu",
        "outputId": "3efb9e6f-80ec-4070-85d7-d9ea1ed0ccd4"
      },
      "outputs": [
        {
          "data": {
            "text/plain": [
              "count    635.000000\n",
              "mean      54.324961\n",
              "std       74.753385\n",
              "min       20.000000\n",
              "25%       20.000000\n",
              "50%       20.690000\n",
              "75%       70.000000\n",
              "max      752.550000\n",
              "Name: total_usd_pay, dtype: float64"
            ]
          },
          "execution_count": 92,
          "metadata": {},
          "output_type": "execute_result"
        }
      ],
      "source": [
        "# Slice the dataset only for total payment by NY-NJ-PA clients\n",
        "dataset_NY_NJ = dataset.query('city == \"NY-NJ-PA\"').reset_index()\n",
        "revenue_NY_NJ = dataset_NY_NJ['total_usd_pay']\n",
        "revenue_NY_NJ.describe()"
      ]
    },
    {
      "cell_type": "code",
      "execution_count": null,
      "metadata": {
        "id": "DyadL0GSFsbv",
        "outputId": "0913af81-f6f5-46d0-af77-4dbb327b04a8"
      },
      "outputs": [
        {
          "data": {
            "text/plain": [
              "count    3209.000000\n",
              "mean       54.288510\n",
              "std        66.565508\n",
              "min        20.000000\n",
              "25%        20.000000\n",
              "50%        26.330000\n",
              "75%        70.000000\n",
              "max      1530.000000\n",
              "Name: total_usd_pay, dtype: float64"
            ]
          },
          "execution_count": 93,
          "metadata": {},
          "output_type": "execute_result"
        }
      ],
      "source": [
        "# Slice the dataset only for total payment by clients in cities other than NY-NJ-PA\n",
        "dataset_other = dataset.query('city != \"NY-NJ-PA\"').reset_index()\n",
        "revenue_other = dataset_other['total_usd_pay']\n",
        "revenue_other.describe()"
      ]
    },
    {
      "cell_type": "code",
      "execution_count": null,
      "metadata": {
        "id": "stwF3ys7Fsbw",
        "outputId": "f3f550d4-8d6a-4aa7-f29d-2008ee21a75e"
      },
      "outputs": [
        {
          "data": {
            "text/plain": [
              "(5579.268434132308, 4429.586021526924)"
            ]
          },
          "execution_count": 94,
          "metadata": {},
          "output_type": "execute_result"
        }
      ],
      "source": [
        "# Load variance\n",
        "variance_NY_NJ = np.var(revenue_NY_NJ)\n",
        "variance_other = np.var(revenue_other)\n",
        "variance_NY_NJ, variance_other"
      ]
    },
    {
      "cell_type": "markdown",
      "metadata": {
        "id": "L8_qsEtSFsbx"
      },
      "source": [
        "Next, the hypothesis will be tested using statistical ttest for independent samples.\n",
        "\n",
        "H0 = average revenue generated from clients residing in New York-New Jersey and the rest of other cities is the same\n",
        "\n",
        "H1 = average revenue generated from clients residing in New York-New Jersey and the rest of other cities is not the same"
      ]
    },
    {
      "cell_type": "code",
      "execution_count": null,
      "metadata": {
        "id": "jyN-sWA7Fsby",
        "outputId": "4da796b1-6f64-42be-a44e-ca5020cdf7fa"
      },
      "outputs": [
        {
          "name": "stdout",
          "output_type": "stream",
          "text": [
            "p-value: 0.9908881048125877\n",
            "Fail to reject hypothesis null\n"
          ]
        }
      ],
      "source": [
        "# Testing the hypothesis using ttest_ind method\n",
        "alpha = 0.05\n",
        "results = st.ttest_ind(revenue_NY_NJ, revenue_other, equal_var=False)\n",
        "print('p-value:', results.pvalue)\n",
        "\n",
        "if results.pvalue < alpha:\n",
        "    print(\"Reject hypothesis null\")\n",
        "else:\n",
        "    print(\"Fail to reject hypothesis null\")"
      ]
    },
    {
      "cell_type": "markdown",
      "metadata": {
        "id": "tgnUFLdFFsbz"
      },
      "source": [
        "In testing hypothesis that New York - New Jersey clients contribute average revenue that is different from average revenue of clients in other cities, an independent test using scipy.stats.ttest_ind() method is applied.\n",
        "\n",
        "Alpha is set at 0.05%, that is the standard alpha.\n",
        "\n",
        "Equal_variance argument is set to false because there is enough discrepancy between each sample's variance.\n",
        "\n",
        "Result of the testing shows that H0 can not be rejected. This means it can be assumed that New York - New Jersey clients contribute the same average amount of revenue like the rest of other cities.\n"
      ]
    },
    {
      "cell_type": "markdown",
      "metadata": {
        "id": "ZxE4jm7kFsb0"
      },
      "source": [
        "## Final Conclusion\n",
        "\n",
        "The start of this analysis is pre-processing, with steps:\n",
        "1. Checking missing values, duplicates, and mismatch data type\n",
        "2. Merging all needed tables\n",
        "3. Adding more columns that are needed in furher feature engineering and analysis, that is:\n",
        "    i. month generating revenue\n",
        "    ii. extra service used\n",
        "    iii. additional charges for extra service\n",
        "    iv. total payment including all additional charges\n",
        "\n",
        "The first analysis done is Exploratory Data Analysis (EDA), it appears that:\n",
        "1. For all the three services, clients of both Surf and Ultimate increase their use from Jan to Dec during 2018. The proportion of month-on-month increase in each of two plans looks similar.\n",
        "2. During month 1 to 6 in 2018, total payment of clients Ultimate is bigger than of Surf for a slight amount. But in month 7 to 12, Surf clients pay a lot more than Ultimate. This is contrary to the amount of monthly plan payment where Ultimate clients constantly pay higher for every month in 2018 compared to Surf. This means that although monthly payment plan for Surf is smaller than Ultimate, clients of Surf pay a lot more for extra services they use, especially during July to December.\n",
        "3. Surf clients enjoy extra use of service all for calls, messages, and internet. While Ultimate clients stick with their monthly allotment, except for internet service, yet still is very small compared to Surf.\n",
        "\n",
        "The next analysis is statistical analysis, it is known that:\n",
        "1. Average revenue generated from clients of Surf is different from of Ultimate\n",
        "2. Average revenue generated from clients of New York - New Jersey is the same with of other cities"
      ]
    }
  ],
  "metadata": {
    "kernelspec": {
      "display_name": "Python 3 (ipykernel)",
      "language": "python",
      "name": "python3"
    },
    "language_info": {
      "codemirror_mode": {
        "name": "ipython",
        "version": 3
      },
      "file_extension": ".py",
      "mimetype": "text/x-python",
      "name": "python",
      "nbconvert_exporter": "python",
      "pygments_lexer": "ipython3",
      "version": "3.9.5"
    },
    "toc": {
      "base_numbering": 1,
      "nav_menu": {},
      "number_sections": true,
      "sideBar": true,
      "skip_h1_title": true,
      "title_cell": "Table of Contents",
      "title_sidebar": "Contents",
      "toc_cell": false,
      "toc_position": {
        "height": "calc(100% - 180px)",
        "left": "10px",
        "top": "150px",
        "width": "165px"
      },
      "toc_section_display": true,
      "toc_window_display": true
    },
    "colab": {
      "provenance": [],
      "toc_visible": true
    }
  },
  "nbformat": 4,
  "nbformat_minor": 0
}